{
 "cells": [
  {
   "cell_type": "markdown",
   "metadata": {},
   "source": [
    "# Preparing a computer vision training set for labeling photos \n"
   ]
  },
  {
   "cell_type": "markdown",
   "metadata": {},
   "source": [
    "\n",
    "This notebook covers the steps involved in preparing a labeled dataset of images derived from the Newspaper Navigator dataset. Specifically this training set is primarily intended for use in a Programming Historian lesson on computer vision. \n",
    "\n",
    "## Aims \n",
    "This notebook cover the steps to creating a dataset based on the news-navigator dataset. This includes:\n",
    "- creating a subsample of the news navigator training set\n",
    "- setting up the annotation process\n",
    "- processing the annotations \n",
    "- uploading the dataset to Zenodo\n",
    "\n",
    "It doesn't cover training a model based on this data. This process is covered in a the programming historian lesson for which this dataset was created. \n"
   ]
  },
  {
   "cell_type": "markdown",
   "metadata": {},
   "source": [
    "## Creating a sample"
   ]
  },
  {
   "cell_type": "markdown",
   "metadata": {},
   "source": [
    "We start by importing the `sample` module. "
   ]
  },
  {
   "cell_type": "code",
   "execution_count": 7,
   "metadata": {},
   "outputs": [],
   "source": [
    "from nnanno.sample import *"
   ]
  },
  {
   "cell_type": "markdown",
   "metadata": {},
   "source": [
    "We create an nnSampler instance which we can use to create a sample. "
   ]
  },
  {
   "cell_type": "code",
   "execution_count": 8,
   "metadata": {},
   "outputs": [],
   "source": [
    "sampler = nnSampler()"
   ]
  },
  {
   "cell_type": "markdown",
   "metadata": {},
   "source": [
    "We can access some information about the 'population' from the sampler object. For example we can see how the number of photos in the collection changes over time."
   ]
  },
  {
   "cell_type": "code",
   "execution_count": 14,
   "metadata": {},
   "outputs": [
    {
     "data": {
      "text/plain": [
       "<AxesSubplot:>"
      ]
     },
     "execution_count": 14,
     "metadata": {},
     "output_type": "execute_result"
    },
    {
     "data": {
      "image/png": "[encoded data removed]",
      "text/plain": [
       "<Figure size 432x288 with 1 Axes>"
      ]
     },
     "metadata": {
      "needs_background": "light"
     },
     "output_type": "display_data"
    }
   ],
   "source": [
    "sampler.population['photos_count'].plot()"
   ]
  },
  {
   "cell_type": "markdown",
   "metadata": {},
   "source": [
    "We should be careful when looking at a chart like this of not mistaking this as a full representation. In this case we need to know some context about collections like the Chronicling America corpus from which the Newspaper Navigator data was draw since these collections are neither 'neutral' nor entirely representative. For example the sharp drop ~1920 in the number of photographs for each year could be mistaken as a sudden drop in the number of newspapers publishing photos. Evan a cursory knowledge of photojournalism would challenge this assumption, with the 1930s-1950s considered a [golden age](https://en.wikipedia.org/wiki/Photojournalism#Golden_age) of photojournalism. The drop is in this case more easily explained by the context in which this collection was made and specifically in this case the influence of copyright on digitization policies. "
   ]
  },
  {
   "cell_type": "markdown",
   "metadata": {},
   "source": [
    "To create a sample we define a few variables for a sample. `sample_size` is the size we want for our sample. If `year_sample` is true then this will be the sample size for each year. In this case since we want to create a sample size we want to annotate we set `year_sample` to `False`. `kind` refers to the predicted label from Newspaper Navigator. Because photography in newspapers appeared later in the 19th Century, we choose a later `start_year` and stop at 1920 when the number of images in the data drops off massively. `step` can be used to change the step between sample years. In this case we sample every year but we could change this to ever `n` years. "
   ]
  },
  {
   "cell_type": "code",
   "execution_count": null,
   "metadata": {},
   "outputs": [],
   "source": [
    "df_photos_sample = sampler.create_sample(sample_size=2000, \n",
    "                                         kind='photos',\n",
    "                                         start_year=1895, \n",
    "                                         end_year=1920, \n",
    "                                         step=1, \n",
    "                                         year_sample=False)"
   ]
  },
  {
   "cell_type": "markdown",
   "metadata": {},
   "source": [
    "We get back pandas DataFrame containing the newspaper navigator dataset. This includes metadata about the newspaper form which the image came from, the `box` which contains the predicted bounding box coordinates for the predicted visual content from newspaper navigator. "
   ]
  },
  {
   "cell_type": "code",
   "execution_count": 7,
   "metadata": {},
   "outputs": [
    {
     "data": {
      "text/html": [
       "<div>\n",
       "<style scoped>\n",
       "    .dataframe tbody tr th:only-of-type {\n",
       "        vertical-align: middle;\n",
       "    }\n",
       "\n",
       "    .dataframe tbody tr th {\n",
       "        vertical-align: top;\n",
       "    }\n",
       "\n",
       "    .dataframe thead th {\n",
       "        text-align: right;\n",
       "    }\n",
       "</style>\n",
       "<table border=\"1\" class=\"dataframe\">\n",
       "  <thead>\n",
       "    <tr style=\"text-align: right;\">\n",
       "      <th></th>\n",
       "      <th>filepath</th>\n",
       "      <th>pub_date</th>\n",
       "      <th>page_seq_num</th>\n",
       "      <th>edition_seq_num</th>\n",
       "      <th>batch</th>\n",
       "      <th>lccn</th>\n",
       "      <th>box</th>\n",
       "      <th>score</th>\n",
       "      <th>ocr</th>\n",
       "      <th>place_of_publication</th>\n",
       "      <th>geographic_coverage</th>\n",
       "      <th>name</th>\n",
       "      <th>publisher</th>\n",
       "      <th>url</th>\n",
       "      <th>page_url</th>\n",
       "    </tr>\n",
       "  </thead>\n",
       "  <tbody>\n",
       "    <tr>\n",
       "      <th>0</th>\n",
       "      <td>mthi_kestrel_ver02/data/sn85053323/print/18951...</td>\n",
       "      <td>1895-11-28</td>\n",
       "      <td>696</td>\n",
       "      <td>1</td>\n",
       "      <td>mthi_kestrel_ver02</td>\n",
       "      <td>sn85053323</td>\n",
       "      <td>[0.6757705539920897, 0.13269955294949193, 0.88...</td>\n",
       "      <td>0.989924</td>\n",
       "      <td>[AVM., SCHEMA, V,]</td>\n",
       "      <td>Neihart, Mont.</td>\n",
       "      <td>[Montana--Cascade--Neihart]</td>\n",
       "      <td>The Neihart herald. [volume]</td>\n",
       "      <td>Herald Pub. Co.</td>\n",
       "      <td>https://news-navigator.labs.loc.gov/data/mthi_...</td>\n",
       "      <td>https://chroniclingamerica.loc.gov/data/batche...</td>\n",
       "    </tr>\n",
       "  </tbody>\n",
       "</table>\n",
       "</div>"
      ],
      "text/plain": [
       "                                            filepath    pub_date  \\\n",
       "0  mthi_kestrel_ver02/data/sn85053323/print/18951...  1895-11-28   \n",
       "\n",
       "   page_seq_num edition_seq_num               batch        lccn  \\\n",
       "0           696               1  mthi_kestrel_ver02  sn85053323   \n",
       "\n",
       "                                                 box     score  \\\n",
       "0  [0.6757705539920897, 0.13269955294949193, 0.88...  0.989924   \n",
       "\n",
       "                  ocr place_of_publication          geographic_coverage  \\\n",
       "0  [AVM., SCHEMA, V,]       Neihart, Mont.  [Montana--Cascade--Neihart]   \n",
       "\n",
       "                           name        publisher  \\\n",
       "0  The Neihart herald. [volume]  Herald Pub. Co.   \n",
       "\n",
       "                                                 url  \\\n",
       "0  https://news-navigator.labs.loc.gov/data/mthi_...   \n",
       "\n",
       "                                            page_url  \n",
       "0  https://chroniclingamerica.loc.gov/data/batche...  "
      ]
     },
     "execution_count": 7,
     "metadata": {},
     "output_type": "execute_result"
    }
   ],
   "source": [
    "df_photos_sample.head(1)"
   ]
  },
  {
   "cell_type": "markdown",
   "metadata": {},
   "source": [
    "Now we have our sample we want to annotate this sample with labels which we'll then use to train a computer vision model on. In this case we will annotate by creating `IIIF` urls which we then load into the [label studio](https://labelstud.io) annotation tool. "
   ]
  },
  {
   "cell_type": "code",
   "execution_count": 9,
   "metadata": {},
   "outputs": [],
   "source": [
    "from nnanno.annotate import *"
   ]
  },
  {
   "cell_type": "markdown",
   "metadata": {},
   "source": [
    "We'll create a folder to store our annotations "
   ]
  },
  {
   "cell_type": "code",
   "execution_count": 10,
   "metadata": {},
   "outputs": [],
   "source": [
    "from pathlib import Path"
   ]
  },
  {
   "cell_type": "code",
   "execution_count": 8,
   "metadata": {},
   "outputs": [],
   "source": [
    "Path('ph/photos_multi').mkdir()"
   ]
  },
  {
   "cell_type": "markdown",
   "metadata": {},
   "source": [
    "We'll use a small function to convert our sample DataFrame into a JSON file which we'll use to load our 'tasks' i.e. images into label studio and save this into our folder. The `size` variable is used to determine the size we request via IIIF. In this case we use a relatively small size to annotate since this will make the loading of the images a bit quicker. "
   ]
  },
  {
   "cell_type": "code",
   "execution_count": 12,
   "metadata": {},
   "outputs": [],
   "source": [
    "create_label_studio_json(sampler, 'ph/photos_multi/photo_tasks.json', size=(500,500))"
   ]
  },
  {
   "cell_type": "markdown",
   "metadata": {},
   "source": [
    "Now we have our sample in a format that label studio can take as input we'll setup the annotations. There are various ways we can do this, one way is via the GUI app. To setup a new label-studio annotation environment we'll use the `init` command and give a name for our project. "
   ]
  },
  {
   "cell_type": "markdown",
   "metadata": {},
   "source": [
    "`label-studio init photo-annotations`"
   ]
  },
  {
   "cell_type": "markdown",
   "metadata": {},
   "source": [
    "This will launch label-studio. From here we can load our tasks by uploading our photo_tasks.json file. \n",
    "\n",
    "We then create our labels. The label studio documentation goes into detail on how to setup labels. For simple tasks it's often easiest to use one of the templates and then adjust the labels as required. For this example dataset the following is used:"
   ]
  },
  {
   "cell_type": "markdown",
   "metadata": {},
   "source": [
    "```xml\n",
    "<View>\n",
    "  <Choices name=\"choice\" toName=\"image\" showInLine=\"true\" choice=\"multiple\">\n",
    "        <Choice value=\"human\"/>\n",
    "    \t<Choice value=\"animal\"/>\n",
    "    \t<Choice value=\"human-structure\"/>\n",
    "     \t<Choice value=\"landscape\"/>\n",
    "  </Choices>\n",
    "<Image name=\"image\" value=\"$image\"/>\n",
    "</View>\n",
    "```"
   ]
  },
  {
   "cell_type": "markdown",
   "metadata": {},
   "source": [
    "Once we have completed the annotations we can export them to a CSV file using the export functionality within label studio. This will contain our original sample plus our new data. "
   ]
  },
  {
   "cell_type": "code",
   "execution_count": 29,
   "metadata": {},
   "outputs": [],
   "source": [
    "df = load_annotations_csv('ph/photos_multi/results.csv', kind='label')"
   ]
  },
  {
   "cell_type": "markdown",
   "metadata": {},
   "source": [
    "Since we'll want the images locally for training models we'll now download the images associated with our labels. We can do this using the `download_sample` method from `nnsampler` and passing our DataFrame. "
   ]
  },
  {
   "cell_type": "code",
   "execution_count": 31,
   "metadata": {},
   "outputs": [
    {
     "data": {
      "application/vnd.jupyter.widget-view+json": {
       "model_id": "cb41ed3ef23f447aade46c084bce5d50",
       "version_major": 2,
       "version_minor": 0
      },
      "text/plain": [
       "HBox(children=(HTML(value=''), FloatProgress(value=0.0, max=2000.0), HTML(value='')))"
      ]
     },
     "metadata": {},
     "output_type": "display_data"
    },
    {
     "name": "stdout",
     "output_type": "stream",
     "text": [
      "\n"
     ]
    }
   ],
   "source": [
    "sampler.download_sample('ph/photos_multi/images', df=df)"
   ]
  },
  {
   "cell_type": "markdown",
   "metadata": {},
   "source": [
    "This download method will try and download all of the images associated with the annotations DataFrame but there may be some that are not available. We can quickly compare the downloaded image folder and DataFrame"
   ]
  },
  {
   "cell_type": "code",
   "execution_count": 32,
   "metadata": {},
   "outputs": [
    {
     "name": "stdout",
     "output_type": "stream",
     "text": [
      "Length of DataFrame 2000 and number of images in ph/photos_multi/images 2000 match 😀\n"
     ]
    }
   ],
   "source": [
    "check_download_df_match('ph/photos_multi/images', df)"
   ]
  },
  {
   "cell_type": "markdown",
   "metadata": {},
   "source": [
    "We'll save the annotations to a new CSV file that contains the processed 'labels' column we'll use when training our model. "
   ]
  },
  {
   "cell_type": "code",
   "execution_count": 33,
   "metadata": {},
   "outputs": [],
   "source": [
    "df.to_csv('ph/photos_multi/annotations.csv')"
   ]
  },
  {
   "cell_type": "markdown",
   "metadata": {},
   "source": [
    "We'll also create a version with just the labels and images"
   ]
  },
  {
   "cell_type": "code",
   "execution_count": 39,
   "metadata": {},
   "outputs": [],
   "source": [
    "df = pd.read_json('ph/photos_multi/images/2021_01_02_16_38_2000_sample.json')[['download_image_path','label']]"
   ]
  },
  {
   "cell_type": "code",
   "execution_count": 40,
   "metadata": {},
   "outputs": [],
   "source": [
    "df.to_csv('ph/photos_multi/multi_label.csv', index=False)"
   ]
  },
  {
   "cell_type": "markdown",
   "metadata": {},
   "source": [
    "### Upload to Zenodo\n",
    "\n",
    "*This section is obviously optional. This is shown here only since this was the process used for this data. Most of these instructions are taken directly from the Zenodo docs.*"
   ]
  },
  {
   "cell_type": "markdown",
   "metadata": {},
   "source": [
    "First we zip our image directory "
   ]
  },
  {
   "cell_type": "code",
   "execution_count": 41,
   "metadata": {},
   "outputs": [],
   "source": [
    "!zip -j -r -q ph/photos_multi/images.zip ph/photos_multi/images"
   ]
  },
  {
   "cell_type": "markdown",
   "metadata": {},
   "source": [
    "We import a few more libraries"
   ]
  },
  {
   "cell_type": "code",
   "execution_count": 42,
   "metadata": {},
   "outputs": [],
   "source": [
    "from dotenv import load_dotenv\n",
    "import os\n",
    "import requests \n",
    "from pathlib import Path\n",
    "from tqdm.notebook import tqdm"
   ]
  },
  {
   "cell_type": "markdown",
   "metadata": {},
   "source": [
    "`dotenv` is used to load the credenitals for the zenodo api. These credentials shouldn't be shared so we don't want them included in a notebook being shared publicly. There are different ways of managing these kinds of credentials with one simple way is to put them in a `.env` file. This can be access by dotenv but won't be versioned by Git so avoids sharing our credentials with the wider world. "
   ]
  },
  {
   "cell_type": "code",
   "execution_count": 43,
   "metadata": {},
   "outputs": [
    {
     "data": {
      "text/plain": [
       "True"
      ]
     },
     "execution_count": 43,
     "metadata": {},
     "output_type": "execute_result"
    }
   ],
   "source": [
    "load_dotenv()"
   ]
  },
  {
   "cell_type": "code",
   "execution_count": 44,
   "metadata": {},
   "outputs": [],
   "source": [
    "ACCESS_TOKEN = os.getenv(\"ACCESS_TOKEN\")"
   ]
  },
  {
   "cell_type": "markdown",
   "metadata": {},
   "source": [
    "The Zenodo repository allows for uploads via an API. In the below cells I have just followed the steps outlined in the zenodo [documentation](https://developers.zenodo.org/)."
   ]
  },
  {
   "cell_type": "code",
   "execution_count": 45,
   "metadata": {},
   "outputs": [],
   "source": [
    "r = requests.get('https://zenodo.org/api/deposit/depositions',params={'access_token': ACCESS_TOKEN})"
   ]
  },
  {
   "cell_type": "code",
   "execution_count": 46,
   "metadata": {},
   "outputs": [
    {
     "data": {
      "text/plain": [
       "200"
      ]
     },
     "execution_count": 46,
     "metadata": {},
     "output_type": "execute_result"
    }
   ],
   "source": [
    "r.status_code"
   ]
  },
  {
   "cell_type": "code",
   "execution_count": 47,
   "metadata": {},
   "outputs": [
    {
     "data": {
      "text/plain": [
       "201"
      ]
     },
     "execution_count": 47,
     "metadata": {},
     "output_type": "execute_result"
    }
   ],
   "source": [
    "headers = {\"Content-Type\": \"application/json\"}\n",
    "params={'access_token': ACCESS_TOKEN}\n",
    "r = requests.post('https://zenodo.org/api/deposit/depositions',\n",
    "                   params=params,\n",
    "                   json={},\n",
    "                   headers=headers)\n",
    "r.status_code"
   ]
  },
  {
   "cell_type": "code",
   "execution_count": 48,
   "metadata": {},
   "outputs": [
    {
     "data": {
      "text/plain": [
       "{'conceptrecid': '4487140',\n",
       " 'created': '2021-02-01T17:03:26.087698+00:00',\n",
       " 'files': [],\n",
       " 'id': 4487141,\n",
       " 'links': {'bucket': 'https://zenodo.org/api/files/d35b386f-98eb-404a-ba1e-c119f9f23b40',\n",
       "  'discard': 'https://zenodo.org/api/deposit/depositions/4487141/actions/discard',\n",
       "  'edit': 'https://zenodo.org/api/deposit/depositions/4487141/actions/edit',\n",
       "  'files': 'https://zenodo.org/api/deposit/depositions/4487141/files',\n",
       "  'html': 'https://zenodo.org/deposit/4487141',\n",
       "  'latest_draft': 'https://zenodo.org/api/deposit/depositions/4487141',\n",
       "  'latest_draft_html': 'https://zenodo.org/deposit/4487141',\n",
       "  'publish': 'https://zenodo.org/api/deposit/depositions/4487141/actions/publish',\n",
       "  'self': 'https://zenodo.org/api/deposit/depositions/4487141'},\n",
       " 'metadata': {'prereserve_doi': {'doi': '10.5281/zenodo.4487141',\n",
       "   'recid': 4487141}},\n",
       " 'modified': '2021-02-01T17:03:26.087708+00:00',\n",
       " 'owner': 32477,\n",
       " 'record_id': 4487141,\n",
       " 'state': 'unsubmitted',\n",
       " 'submitted': False,\n",
       " 'title': ''}"
      ]
     },
     "execution_count": 48,
     "metadata": {},
     "output_type": "execute_result"
    }
   ],
   "source": [
    "r.json()"
   ]
  },
  {
   "cell_type": "code",
   "execution_count": null,
   "metadata": {},
   "outputs": [],
   "source": []
  },
  {
   "cell_type": "code",
   "execution_count": 49,
   "metadata": {},
   "outputs": [],
   "source": [
    "bucket_url = r.json()[\"links\"][\"bucket\"]"
   ]
  },
  {
   "cell_type": "code",
   "execution_count": 50,
   "metadata": {},
   "outputs": [
    {
     "data": {
      "text/plain": [
       "[PosixPath('ph/photos_multi/images.zip'),\n",
       " PosixPath('ph/photos_multi/multi_label.csv'),\n",
       " PosixPath('ph/photos_multi/annotations.csv'),\n",
       " PosixPath('ph/photos_multi/results.csv'),\n",
       " PosixPath('ph/photos_multi/photo_tasks.json')]"
      ]
     },
     "execution_count": 50,
     "metadata": {},
     "output_type": "execute_result"
    }
   ],
   "source": [
    "files = [f for f in Path('ph/photos_multi').iterdir() if f.is_file() and not f.name.startswith('.')]\n",
    "files"
   ]
  },
  {
   "cell_type": "code",
   "execution_count": 51,
   "metadata": {},
   "outputs": [
    {
     "data": {
      "application/vnd.jupyter.widget-view+json": {
       "model_id": "cf33e67534eb4baa99b62edc02be2968",
       "version_major": 2,
       "version_minor": 0
      },
      "text/plain": [
       "HBox(children=(HTML(value=''), FloatProgress(value=0.0, max=5.0), HTML(value='')))"
      ]
     },
     "metadata": {},
     "output_type": "display_data"
    },
    {
     "name": "stdout",
     "output_type": "stream",
     "text": [
      "\n"
     ]
    },
    {
     "data": {
      "text/plain": [
       "{'mimetype': 'application/json',\n",
       " 'updated': '2021-02-01T17:12:24.999647+00:00',\n",
       " 'links': {'self': 'https://zenodo.org/api/files/d35b386f-98eb-404a-ba1e-c119f9f23b40/ph/photos_multi/photo_tasks.json',\n",
       "  'version': 'https://zenodo.org/api/files/d35b386f-98eb-404a-ba1e-c119f9f23b40/ph/photos_multi/photo_tasks.json?versionId=e4eb4982-50f4-490f-99b1-d1060de83805',\n",
       "  'uploads': 'https://zenodo.org/api/files/d35b386f-98eb-404a-ba1e-c119f9f23b40/ph/photos_multi/photo_tasks.json?uploads'},\n",
       " 'is_head': True,\n",
       " 'created': '2021-02-01T17:12:24.994665+00:00',\n",
       " 'checksum': 'md5:d79ed84baafb5c8f089ba37614be9335',\n",
       " 'version_id': 'e4eb4982-50f4-490f-99b1-d1060de83805',\n",
       " 'delete_marker': False,\n",
       " 'key': 'ph/photos_multi/photo_tasks.json',\n",
       " 'size': 2646679}"
      ]
     },
     "execution_count": 51,
     "metadata": {},
     "output_type": "execute_result"
    }
   ],
   "source": [
    "for file in tqdm(files):\n",
    "    with open(file,\"rb\") as fp:\n",
    "        r = requests.put(\n",
    "            \"%s/%s\" % (bucket_url, file),\n",
    "            data=fp,\n",
    "            params=params)\n",
    "r.json()"
   ]
  },
  {
   "cell_type": "markdown",
   "metadata": {},
   "source": [
    "### Metadata"
   ]
  },
  {
   "cell_type": "markdown",
   "metadata": {},
   "source": [
    "Once this has been done we should make sure we create an additional metadata related to the upload within Zenodo. "
   ]
  },
  {
   "cell_type": "markdown",
   "metadata": {},
   "source": [
    "### Datasheets for Datasets\n",
    "\n",
    "Beyond making sure that we complete the 'standard' metadata field, when creating a dataset intended for training a deep learning model you may want to consider giving a broader context to the data, how it was gathered and some of the potential limitations of with the data. These limitations may become apparent to you but may be less obvious to new users of the data particularly since these users may be divorced from the immediate context under which this data was gathered. \n",
    "\n",
    "One approach to documenting this kind of information is outlined in [Datasheets for Datasets](https://arxiv.org/abs/1803.09010) by Gebru *et al*. The paper abstract gives some background to the motivations and suggested solutions:\n",
    "\n",
    "> The machine learning community currently has no standardized process for documenting datasets, which can lead to severe consequences in high-stakes domains. To address this gap, we propose datasheets for datasets. In the electronics industry, every component, no matter how simple or complex, is accompanied with a datasheet that describes its operating characteristics, test results, recommended uses, and other information. By analogy, we propose that every dataset be accompanied with a datasheet that documents its motivation, composition, collection process, recommended uses, and so on. Datasheets for datasets will facilitate better communication between dataset creators and dataset consumers, and encourage the machine learning community to prioritize transparency and accountability. "
   ]
  },
  {
   "cell_type": "markdown",
   "metadata": {},
   "source": [
    "You can see the record for this data on Zenodo ([10.5281/zenodo.4487141]()) which attempts to put (some) of this paper into practice. "
   ]
  },
  {
   "cell_type": "markdown",
   "metadata": {},
   "source": [
    "### fin"
   ]
  }
 ],
 "metadata": {
  "kernelspec": {
   "display_name": "Python 3",
   "language": "python",
   "name": "python3"
  },
  "language_info": {
   "codemirror_mode": {
    "name": "ipython",
    "version": 3
   },
   "file_extension": ".py",
   "mimetype": "text/x-python",
   "name": "python",
   "nbconvert_exporter": "python",
   "pygments_lexer": "ipython3",
   "version": "3.7.10"
  }
 },
 "nbformat": 4,
 "nbformat_minor": 4
}
