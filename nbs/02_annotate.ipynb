{
 "cells": [
  {
   "cell_type": "code",
   "execution_count": null,
   "metadata": {},
   "outputs": [
    {
     "name": "stdout",
     "output_type": "stream",
     "text": [
      "The autoreload extension is already loaded. To reload it, use:\n",
      "  %reload_ext autoreload\n"
     ]
    }
   ],
   "source": [
    "#hide\n",
    "%load_ext autoreload"
   ]
  },
  {
   "cell_type": "code",
   "execution_count": null,
   "metadata": {},
   "outputs": [],
   "source": [
    "from nbdev import *"
   ]
  },
  {
   "cell_type": "code",
   "execution_count": null,
   "metadata": {},
   "outputs": [],
   "source": [
    "#default_exp annotate"
   ]
  },
  {
   "cell_type": "markdown",
   "metadata": {},
   "source": [
    "# Annotate\n",
    "\n",
    "> Tools to support creating and process annotation for samples of Newspaper Navigator data using Label Studio"
   ]
  },
  {
   "cell_type": "code",
   "execution_count": null,
   "metadata": {},
   "outputs": [],
   "source": [
    "#hide\n",
    "from nbdev.showdoc import *"
   ]
  },
  {
   "cell_type": "code",
   "execution_count": null,
   "metadata": {},
   "outputs": [],
   "source": [
    "#export\n",
    "from nnanno.core import *"
   ]
  },
  {
   "cell_type": "code",
   "execution_count": null,
   "metadata": {},
   "outputs": [],
   "source": [
    "#export\n",
    "from tqdm.notebook import trange, tqdm\n",
    "from toolz.itertoolz import count\n",
    "import pandas as pd\n",
    "from pandas import json_normalize\n",
    "import simplejson as json\n",
    "import requests\n",
    "import re\n",
    "from datetime import datetime\n",
    "from glob import glob\n",
    "from pathlib import Path"
   ]
  },
  {
   "cell_type": "code",
   "execution_count": null,
   "metadata": {},
   "outputs": [],
   "source": [
    "#export\n",
    "import nnanno\n",
    "from typing import Union, Optional, Type"
   ]
  },
  {
   "cell_type": "markdown",
   "metadata": {},
   "source": [
    "## Annotating Newspaper Navigator data\n",
    "\n",
    "Once you have created a sample of Newspaper Navigator data you might want to annotate it in some way. These annotations may function as the input for a machine learning model or could be used directly to explore images in the newspaper navigator data. There are some examples in the example directory which show how annotations can be used to generate training data for machine learning tasks. # TODO add link"
   ]
  },
  {
   "cell_type": "markdown",
   "metadata": {},
   "source": [
    "## Setup annotation task\n",
    "The bulk of annotation work is outsourced to label studio, label studio is a flexible annotations system which supports annotations for a range of types of data including images and text. This module does a few steps to help process annotations produced through label studio. This module is largely some suggestions on how you can get label studio setup with data from Newspaper Navigator. "
   ]
  },
  {
   "cell_type": "markdown",
   "metadata": {},
   "source": [
    "First we'll create a small sample of images we want to annotate. If you have already done this step you can skip this. "
   ]
  },
  {
   "cell_type": "code",
   "execution_count": null,
   "metadata": {},
   "outputs": [],
   "source": [
    "#export\n",
    "from nnanno.sample import *"
   ]
  },
  {
   "cell_type": "code",
   "execution_count": null,
   "metadata": {},
   "outputs": [],
   "source": [
    "sampler = nnSampler()"
   ]
  },
  {
   "cell_type": "code",
   "execution_count": null,
   "metadata": {},
   "outputs": [
    {
     "data": {
      "application/vnd.jupyter.widget-view+json": {
       "model_id": "80e6add1312f42ae99787d3f22e715a0",
       "version_major": 2,
       "version_minor": 0
      },
      "text/plain": [
       "HBox(children=(HTML(value=''), FloatProgress(value=0.0, max=3.0), HTML(value='')))"
      ]
     },
     "metadata": {},
     "output_type": "display_data"
    },
    {
     "name": "stdout",
     "output_type": "stream",
     "text": [
      "\n"
     ]
    }
   ],
   "source": [
    "df = sampler.create_sample(50,'photos', start_year=1910, end_year=1920, year_sample=False)"
   ]
  },
  {
   "cell_type": "markdown",
   "metadata": {},
   "source": [
    "There are a few ways in which we can use label studio to annotate. We could download images from our sample using `sample.download_sample`. If we have a large sample though we might want to do some annotating before we download all of these  images locally. \n",
    "\n",
    "label studio supports annotating form a url. We can use this in combination with IIIF to annotate images without having to download them all first. Since IIIF is such a flexible interface for getting images this also gives us flexibility in annotating at a lower resolution/size before downloading higher res images. "
   ]
  },
  {
   "cell_type": "markdown",
   "metadata": {},
   "source": [
    "## Create label studio annotation tasks\n",
    "\n",
    "label studio supports a load of different ways of setting up 'tasks'. In this context a 'task' is an image to be annotated. One way of setting up a task is to import a `JSON` file which includes tasks. To do this we take an existing sample DataFrame and add an additional column `image` which contains a IIIF URL. "
   ]
  },
  {
   "cell_type": "code",
   "execution_count": null,
   "metadata": {},
   "outputs": [],
   "source": [
    "#export\n",
    "def create_label_studio_json(sample: Union[pd.DataFrame, Type[nnSampler]],\n",
    "                             fname: Union[str,Path, None]=None, \n",
    "                             original: bool = True,  \n",
    "                             pct: Optional[int] = None,\n",
    "                             size: Optional[tuple] = None, \n",
    "                             preserve_asp_ratio: bool = True):\n",
    "    \"\"\"create a json file which can be used to upload tasks to label studio\"\"\"\n",
    "    if fname and Path(fname).exists():\n",
    "        raise FileExistsError(f\"{fname} already exists\")\n",
    "    if fname is None:\n",
    "        today = datetime.today()\n",
    "        time_stamp = today.strftime(\"%Y_%d_%m_%H_%M\")\n",
    "        fname = f\"{time_stamp}_tasks.json\"\n",
    "    if type(sample) == nnanno.sample.nnSampler:\n",
    "        try:\n",
    "            sample = sample.sample.copy()\n",
    "        except AttributeError as e:\n",
    "            print(f\"{sample} doesn't have a sample associated with it\")\n",
    "    else:\n",
    "        sample = sample.copy()\n",
    "    sample[\"image\"] = sample.apply(\n",
    "        lambda x: iiif_df_apply(x,\n",
    "                                original=original,\n",
    "                                pct=pct,\n",
    "                                size=size,\n",
    "                                preserve_asp_ratio=preserve_asp_ratio), axis=1)\n",
    "    label_studio_json = sample.apply(lambda x:x.to_dict(), axis=1).to_list()\n",
    "    with open(fname, 'w') as f:\n",
    "        json.dump(label_studio_json,f, ignore_nan=True)"
   ]
  },
  {
   "cell_type": "markdown",
   "metadata": {},
   "source": [
    "We can pass in either a dataframe or `nnSampler` to `create_label_studio_json`. This is a simple function which will create a `JSON` file which can be used to create 'tasks' in labels studio. In this example we pass in a size parameters. This is used to generate a IIIF URL which will request this size. "
   ]
  },
  {
   "cell_type": "code",
   "execution_count": null,
   "metadata": {},
   "outputs": [],
   "source": [
    "create_label_studio_json(df,'tasks.json', size=(500,500))"
   ]
  },
  {
   "cell_type": "code",
   "execution_count": null,
   "metadata": {},
   "outputs": [],
   "source": [
    "#hide\n",
    "Path('tasks.json').unlink()"
   ]
  },
  {
   "cell_type": "markdown",
   "metadata": {},
   "source": [
    "This creates a `JSON` file we can use to load tasks into label studio. \n",
    "\n",
    "\n",
    "### Importing tasks into label studio\n",
    "To avoid this documentation becoming out of date I haven't included screenshots etc. However, you can currently (January 2021) create tasks in label studio via the GUI or by passing in tasks through the CLI. For example to load the tasks and create a template for annotating classifications"
   ]
  },
  {
   "cell_type": "markdown",
   "metadata": {},
   "source": [
    "```bash\n",
    "label-studio init project_name --template=image_classification --input-path=tasks.json\n",
    "```\n"
   ]
  },
  {
   "cell_type": "markdown",
   "metadata": {},
   "source": [
    "You can then start label-studio and complete the rest of the setup via the GUI. "
   ]
  },
  {
   "cell_type": "markdown",
   "metadata": {},
   "source": [
    "\n",
    "```bash\n",
    "label-studio start ./project_name\n",
    "```"
   ]
  },
  {
   "cell_type": "markdown",
   "metadata": {},
   "source": [
    "## Setting up labeling\n",
    "\n",
    "For a proper introduction to configuring your labels consult the label studio [documentation](https://labelstud.io/guide/). One way in which you can setup labels is to use a template as shown above for setting up image classification. There are other [templates](https://labelstud.io/templates/) for other tasks. These templates consist of `XML` templates that are used to define your labels. These templates allow you to both define how you want to label your images and to share these definitions with others. For example"
   ]
  },
  {
   "cell_type": "markdown",
   "metadata": {},
   "source": [
    "```xml\n",
    "<View>\n",
    "  <Choices name=\"choice\" toName=\"image\" showInLine=\"true\" choice=\"multiple\">\n",
    "        <Choice value=\"human\"/>\n",
    "    \t<Choice value=\"animal\"/>\n",
    "    \t<Choice value=\"human-structure\"/>\n",
    "     \t<Choice value=\"landscape\"/>\n",
    "  </Choices>\n",
    "<Image name=\"image\" value=\"$image\"/>\n",
    "</View>\n",
    "```"
   ]
  },
  {
   "cell_type": "markdown",
   "metadata": {},
   "source": [
    "There are a bunch of other options you can change in label studio, and features such as adding a machine learning backend to support annotations. These are discussed in more detail in the label studio documentation. "
   ]
  },
  {
   "cell_type": "markdown",
   "metadata": {},
   "source": [
    "### Notes on labeling using IIIF images\n",
    "\n",
    "There are a few things to consider and be aware of when loading images via IIIF in label studio.\n",
    "\n",
    "#### Missing images\n",
    "Occasionally when you are doing your annotations in label studio for IIIF URLs you will get a missing image error. This is probably because for some reason the IIIF URL has been generated incorrectly for that image or that image doesn't exist via IIIF. If this happens you can 'skip' this image in the annotation interface. \n",
    "\n",
    "#### Setting a comfortable size for viewing \n",
    "You can take advantage of the flexibility of IIIF by requesting images to be a certain size when you create the tasks. This also helps to speed up the process of loading each image since we often end up requesting a smaller sized image to comfortably fit it in on a smallish screen. \n",
    "\n",
    "#### Annotating vs training image size, resolution etc. \n",
    "IF you are doing annotation of labels or classifications then you may decide to annotate at a smaller size or quality and work with a higher quality image when you come to training a model. If you are doing any annotations of pixels or regions of the image you will want to be careful to make sure these aren't lost if moving between different sizes of image. "
   ]
  },
  {
   "cell_type": "markdown",
   "metadata": {},
   "source": [
    "### Exporting and loading annotations from label studio \n",
    "\n",
    "Label studio supports a broad range of annotation tasks which may require particular export formats i.e. COCO or VOC for object detection. Since the processing of these outputs is tasks specific this module only contains functionality to deal with image classification and labelling tasks since these were the tasks covered in the Programming Historian lessons for which this code was originally written. "
   ]
  },
  {
   "cell_type": "markdown",
   "metadata": {},
   "source": [
    "### Exporting and processing CSV \n",
    "\n",
    "Once you have finished annotating all your images or got too bored of annotating you can export in a variety of formats including JSON and CSV. For simple tasks a CSV export is often sufficient and has the additional benefit of having a lower barrier to entry than JSON for people who aren't coders. "
   ]
  },
  {
   "cell_type": "markdown",
   "metadata": {},
   "source": [
    "We'll now process the annotations we generated above and labeled using label studio"
   ]
  },
  {
   "cell_type": "code",
   "execution_count": null,
   "metadata": {},
   "outputs": [],
   "source": [
    "#exports\n",
    "def load_annotations_csv(csv: Union[str, Path], kind='classification'):\n",
    "    if kind == 'classification':\n",
    "        df = pd.read_csv(csv, converters={'box':eval})\n",
    "        df['label'] = df['choice']\n",
    "        return df\n",
    "    if kind == 'label':\n",
    "        df = pd.read_csv(csv, converters={'box':eval, 'choice':eval})\n",
    "        df['label'] = df.apply(lambda x: x.choice['choices'], axis=1)\n",
    "        return df"
   ]
  },
  {
   "cell_type": "markdown",
   "metadata": {},
   "source": [
    "As you can see this code doesn't do very much to process the annotations into a DataFrame. The main things to note are the `kind` parameter. The CSV export for labeling tasks includes a column which contains a JSON with the labels. In this case we use a pandas converter and `eval` and grab the choices which returns a list of labels. \n",
    "\n",
    "If we look at the columns from the annotation DataFrame we'll see that label studio kept the original metadata and we now have a new column `label` which contains our annotations. We also have a column `choice` which contains the original column format from the label studio export which will be different from the `label` column when processing labeling annotations. "
   ]
  },
  {
   "cell_type": "code",
   "execution_count": null,
   "metadata": {},
   "outputs": [
    {
     "data": {
      "text/plain": [
       "Index(['batch', 'box', 'edition_seq_num', 'filepath', 'geographic_coverage',\n",
       "       'image', 'lccn', 'name', 'ocr', 'page_seq_num', 'page_url',\n",
       "       'place_of_publication', 'pub_date', 'publisher', 'score', 'url', 'id',\n",
       "       'choice', 'label'],\n",
       "      dtype='object')"
      ]
     },
     "execution_count": null,
     "metadata": {},
     "output_type": "execute_result"
    }
   ],
   "source": [
    "annotation_df = load_annotations_csv('test_iiif_anno/label_studio_export.csv')\n",
    "annotation_df.columns"
   ]
  },
  {
   "cell_type": "code",
   "execution_count": null,
   "metadata": {},
   "outputs": [],
   "source": [
    "#hide\n",
    "assert 'choice' in annotation_df.columns"
   ]
  },
  {
   "cell_type": "markdown",
   "metadata": {},
   "source": [
    "We can now do the usual Pandas things to start exploring our annotations further. For example we can see how many of each label option we have"
   ]
  },
  {
   "cell_type": "code",
   "execution_count": null,
   "metadata": {},
   "outputs": [
    {
     "data": {
      "text/plain": [
       "Human       52\n",
       "no_human    16\n",
       "Name: choice, dtype: int64"
      ]
     },
     "execution_count": null,
     "metadata": {},
     "output_type": "execute_result"
    }
   ],
   "source": [
    "annotation_df['choice'].value_counts()"
   ]
  },
  {
   "cell_type": "markdown",
   "metadata": {},
   "source": [
    "### Downloading the images associated with annotations\n",
    "\n",
    "Once we have some annotations done we'll often want to get the original images to work with 'locally'. This is particularly important if we are planning to train a machine learning model with these images. Although it is possible to train a model using the images from IIIF, since we'll usually be grabbing these images multiple times for each epoch this isn't going to be particularly efficient and also isn't very friendly to the IIIF endpoint. \n",
    "\n",
    "We can use the `sampler.download_sample` method to download our sample, we just pass in our annotation DataFrame a folder we want to download images to and an optional name to save our 'log' of the download. We can also pass in different parameters to request different size etc. of the image. See the `download_sample` docs for more details. "
   ]
  },
  {
   "cell_type": "code",
   "execution_count": null,
   "metadata": {},
   "outputs": [
    {
     "data": {
      "application/vnd.jupyter.widget-view+json": {
       "model_id": "9bb11cd1939e41dca166e268b1c07c6b",
       "version_major": 2,
       "version_minor": 0
      },
      "text/plain": [
       "HBox(children=(HTML(value=''), FloatProgress(value=0.0, max=68.0), HTML(value='')))"
      ]
     },
     "metadata": {},
     "output_type": "display_data"
    },
    {
     "name": "stdout",
     "output_type": "stream",
     "text": [
      "\n"
     ]
    }
   ],
   "source": [
    "sampler.download_sample('test_iiif_anno/test_dl',df=annotation_df, original=True, json_name='test_dl')"
   ]
  },
  {
   "cell_type": "code",
   "execution_count": null,
   "metadata": {},
   "outputs": [],
   "source": [
    "#hide\n",
    "# test we have a very similar number of images downloaded and in our annotation dataframe \n",
    "# allow for some images to be missing\n",
    "images = list(Path('test_iiif_anno/test_dl').rglob('*.jpg'))\n",
    "test_close(len(images),len(annotation_df),eps=1)"
   ]
  },
  {
   "cell_type": "markdown",
   "metadata": {},
   "source": [
    "### Moving between local annotation and the cloud ☁\n",
    "\n",
    "Although 'storage is cheap', it isn't free. One useful feature of the IIIF annotations workflow is that it allows you to annotate 'locally' i.e. on a personal computer and then easily move the information required to download all the images into the cloud without having to pass the images themselves around. This is particularly useful if you are going to use a service like Google colab to train a computer vision model i.e. you don't have the resources to rent GPUs. \n",
    "\n",
    "In the context of working with limited bandwith it might also be relatively time consuming to download a large set of images. However it might be feasible to get around this by annotating using the IIIF images and then using a service like google Colab when you want to grab the actual images files. Since Colab is running in the cloud with a big internet tube this should be much more doable even if your own internet is limited. "
   ]
  },
  {
   "cell_type": "markdown",
   "metadata": {},
   "source": [
    "Once you have download your images you may want to check if any images weren't able to download. You can do this using the `check_download_df_match` function."
   ]
  },
  {
   "cell_type": "code",
   "execution_count": null,
   "metadata": {},
   "outputs": [],
   "source": [
    "#export\n",
    "def check_download_df_match(dl_folder: Union[Path,str], df: pd.DataFrame) -> str:\n",
    "    im_count = count(f for f in Path(dl_folder).iterdir() if f.suffix in image_extensions)\n",
    "    if type(df) == pd.core.frame.DataFrame:\n",
    "        if len(df) == im_count:\n",
    "            print(f'Length of DataFrame {len(df)} and number of images in {dl_folder} {im_count} match', \"\\U0001F600\")\n",
    "        if len(df) != im_count:\n",
    "            print(f'Length of DataFrame {len(df)} and number of images in {dl_folder} {im_count} do not match', \"\\U0001F615\")"
   ]
  },
  {
   "cell_type": "markdown",
   "metadata": {},
   "source": [
    "This will let you know if you have a different number of downloaded images compared to the number of rows in the DataFrame. "
   ]
  },
  {
   "cell_type": "code",
   "execution_count": null,
   "metadata": {},
   "outputs": [
    {
     "name": "stdout",
     "output_type": "stream",
     "text": [
      "Length of DataFrame 68 and number of images in test_iiif_anno/test_dl 68 match 😀\n"
     ]
    }
   ],
   "source": [
    "check_download_df_match('test_iiif_anno/test_dl', annotation_df)"
   ]
  },
  {
   "cell_type": "markdown",
   "metadata": {},
   "source": [
    "## Working with the annotations\n",
    "\n",
    "This will really depend on the framework or library you want to use. In fastai the process is simple since our data matches one of the fastai 'factory' methods for loading data. "
   ]
  },
  {
   "cell_type": "markdown",
   "metadata": {},
   "source": [
    "### Loading with fastai"
   ]
  },
  {
   "cell_type": "code",
   "execution_count": null,
   "metadata": {},
   "outputs": [],
   "source": [
    "#slow\n",
    "from fastai.vision.all import *"
   ]
  },
  {
   "cell_type": "code",
   "execution_count": null,
   "metadata": {},
   "outputs": [],
   "source": [
    "#slow\n",
    "df = pd.read_json('test_iiif_anno/test_dl/test_dl.json')"
   ]
  },
  {
   "cell_type": "code",
   "execution_count": null,
   "metadata": {},
   "outputs": [],
   "source": [
    "#slow\n",
    "dls = ImageDataLoaders.from_df(df, path='test_iiif_anno/test_dl', \n",
    "                               fn_col='download_image_path', \n",
    "                               label_col='choice',\n",
    "                               item_tfms=Resize(64), bs=4)"
   ]
  },
  {
   "cell_type": "code",
   "execution_count": null,
   "metadata": {},
   "outputs": [
    {
     "data": {
      "image/png": "[encoded data removed]",
      "text/plain": [
       "<Figure size 432x432 with 4 Axes>"
      ]
     },
     "metadata": {
      "needs_background": "light"
     },
     "output_type": "display_data"
    }
   ],
   "source": [
    "#slow\n",
    "dls.show_batch()"
   ]
  },
  {
   "cell_type": "code",
   "execution_count": null,
   "metadata": {},
   "outputs": [],
   "source": [
    "#hide\n",
    "[f.unlink() for f in Path('test_iiif_anno/test_dl').iterdir()]\n",
    "Path('test_iiif_anno/test_dl').rmdir()"
   ]
  },
  {
   "cell_type": "markdown",
   "metadata": {},
   "source": [
    "## Process completions directly \n",
    "\n",
    "Label studio stores annotations as json files so we can work with these directly without using the exports from label studio. This code below shows how to do this but the above approach is likely to be more reliable. \n"
   ]
  },
  {
   "cell_type": "code",
   "execution_count": null,
   "metadata": {},
   "outputs": [],
   "source": [
    "#export\n",
    "def load_df(json_file):\n",
    "    with open(json_file) as f:\n",
    "        data = json.load(f)\n",
    "        df = json_normalize(data,record_path=['completions'],meta=['data'])\n",
    "       # df['result'] = df['result'].apply(lambda x: return_choice(x[0]) if len([x][0]) ==1 else x)\n",
    "        df['result'] = df['result'].apply(lambda x: x[0]['value']['choices'] if len([x][0]) ==1 else x)\n",
    "        return df"
   ]
  },
  {
   "cell_type": "code",
   "execution_count": null,
   "metadata": {},
   "outputs": [],
   "source": [
    "#export\n",
    "def load_completions(path):\n",
    "    filenames = glob(f'{path}/completions/*.json')\n",
    "    dataframes = [load_df(f) for f in filenames]\n",
    "    return pd.concat(dataframes)"
   ]
  },
  {
   "cell_type": "code",
   "execution_count": null,
   "metadata": {},
   "outputs": [
    {
     "data": {
      "text/html": [
       "<div>\n",
       "<style scoped>\n",
       "    .dataframe tbody tr th:only-of-type {\n",
       "        vertical-align: middle;\n",
       "    }\n",
       "\n",
       "    .dataframe tbody tr th {\n",
       "        vertical-align: top;\n",
       "    }\n",
       "\n",
       "    .dataframe thead th {\n",
       "        text-align: right;\n",
       "    }\n",
       "</style>\n",
       "<table border=\"1\" class=\"dataframe\">\n",
       "  <thead>\n",
       "    <tr style=\"text-align: right;\">\n",
       "      <th></th>\n",
       "      <th>created_at</th>\n",
       "      <th>id</th>\n",
       "      <th>lead_time</th>\n",
       "      <th>result</th>\n",
       "      <th>data</th>\n",
       "    </tr>\n",
       "  </thead>\n",
       "  <tbody>\n",
       "    <tr>\n",
       "      <th>0</th>\n",
       "      <td>1602237290</td>\n",
       "      <td>457001</td>\n",
       "      <td>1.014</td>\n",
       "      <td>[illustrations]</td>\n",
       "      <td>{'image': 'http://localhost:8081/data/upload/d...</td>\n",
       "    </tr>\n",
       "  </tbody>\n",
       "</table>\n",
       "</div>"
      ],
      "text/plain": [
       "   created_at      id  lead_time           result  \\\n",
       "0  1602237290  457001      1.014  [illustrations]   \n",
       "\n",
       "                                                data  \n",
       "0  {'image': 'http://localhost:8081/data/upload/d...  "
      ]
     },
     "execution_count": null,
     "metadata": {},
     "output_type": "execute_result"
    }
   ],
   "source": [
    "#slow\n",
    "df = load_completions('../ph/ads/ad_annotations/')\n",
    "df.head(1)"
   ]
  },
  {
   "cell_type": "code",
   "execution_count": null,
   "metadata": {},
   "outputs": [],
   "source": [
    "#slow\n",
    "#df = load_completions('../ph/photos/multi_label/')\n",
    "#df.head(1)"
   ]
  },
  {
   "cell_type": "code",
   "execution_count": null,
   "metadata": {},
   "outputs": [],
   "source": [
    "#exporti\n",
    "def _df_to_csv(df,out_fn):\n",
    "    df[['data','result']].to_csv(out_fn,header=['file','label',],index=False)"
   ]
  },
  {
   "cell_type": "code",
   "execution_count": null,
   "metadata": {},
   "outputs": [],
   "source": [
    "#exporti\n",
    "def _df_to_json(df,out_fn):\n",
    "    df[['data','value.choices']].to_json(out_fn)"
   ]
  },
  {
   "cell_type": "code",
   "execution_count": null,
   "metadata": {},
   "outputs": [],
   "source": [
    "#exporti\n",
    "def _df_to_pkl(df,out_fn):\n",
    "    df.to_pickle(out_fn)"
   ]
  },
  {
   "cell_type": "code",
   "execution_count": null,
   "metadata": {},
   "outputs": [],
   "source": [
    "#exporti\n",
    "def get_og_filepath(x):\n",
    "    \"\"\"\n",
    "    Transforms a filepaths from processed ImageStudio format back to the Orginal Newspaper Navigator filepath  format\n",
    "    \"\"\"\n",
    "    b, m, e = re.split('(_data_)',x)\n",
    "    m = m.replace('_','/')\n",
    "    e = re.split('(\\d{3}_\\d{1}_\\d{2}.jpg)',e)\n",
    "    return b+m+e[0].replace('_','/') +e[1]"
   ]
  },
  {
   "cell_type": "code",
   "execution_count": null,
   "metadata": {},
   "outputs": [],
   "source": [
    "#export\n",
    "def anno_sample_merge(sample_df: pd.DataFrame, annotation_df: pd.DataFrame) -> pd.DataFrame:\n",
    "    \"\"\"anno_sample_merge merges a DataFrame containing a sample\n",
    "    from Newspaper Navigator and a DataFrame containing annotations\n",
    "\n",
    "    Parameters\n",
    "    ----------\n",
    "    sample_df : pd.DataFrame\n",
    "        A Pandas DataFrame which holds a sample from Newspaper Navigator Generated by `sample.nnSample()`\n",
    "    annotation_df : pd.DataFrame\n",
    "        A pandas DataFrame containing annotations loaded via the `annotate.nnAnnotations` class\n",
    "\n",
    "\n",
    "    Returns\n",
    "    -------\n",
    "    pd.DataFrame\n",
    "        A new DataFrame which merges the two input DataFrames\n",
    "    \"\"\"\n",
    "    sample_df, annotation_df = sample_df.copy(), annotation_df.copy()\n",
    "    annotation_df['id'] = annotation_df['data'].map(lambda x:get_og_filepath(x))\n",
    "    return sample_df.merge(annotation_df, left_on='filepath',right_on='id')"
   ]
  },
  {
   "cell_type": "code",
   "execution_count": null,
   "metadata": {},
   "outputs": [],
   "source": [
    "sample_df= pd.read_csv('../ph/ads/sample.csv', index_col=0)"
   ]
  },
  {
   "cell_type": "code",
   "execution_count": null,
   "metadata": {},
   "outputs": [],
   "source": []
  },
  {
   "cell_type": "code",
   "execution_count": null,
   "metadata": {},
   "outputs": [],
   "source": [
    "#export\n",
    "\n",
    "class nnAnnotations:\n",
    "    def __init__(self, df):\n",
    "        self.annotation_df = df\n",
    "        self.labels = df['result'].unique()\n",
    "        self.label_counts = df['result'].value_counts()\n",
    "\n",
    "    def __repr__(self):\n",
    "        return (f'{self.__class__.__name__}'\n",
    "                f' #annotations:{len(self.annotation_df)}')\n",
    "\n",
    "    @classmethod\n",
    "    def from_completions(cls, path, kind, drop_dupes=True, sample_df=None):\n",
    "        df = load_completions(path)\n",
    "        df = df.reset_index(drop=True) # add index\n",
    "        df['data']= df['data'].map(lambda x: x['image'])\n",
    "        df['data'] = df['data'].map(lambda x: x.split('?')[0])\n",
    "        df['data'] = df['data'].apply(lambda x: Path(x).name)\n",
    "        if any(df['data'].str.contains('-')): # removes labelstudio hash from data loaded via web interface\n",
    "            df['data'] = df['data'].str.split('-',expand=True)[1]\n",
    "        if drop_dupes:\n",
    "            df = df.drop_duplicates(subset='data',keep='last')\n",
    "        if kind=='classification':\n",
    "            empty_rows = df[df['result'].apply(lambda x:len(x)==0)].index\n",
    "            df = df.drop(empty_rows)\n",
    "            df['result'] = df['result'].map(lambda x: x[0])\n",
    "        if kind=='label':\n",
    "            df['result'] = df['result'].map(lambda x: \"|\".join(map(str,x)) if len(x) >=1 else x)\n",
    "            df['result'] = df['result'].map(lambda x:\"\" if len(x)==0 else x)\n",
    "        return cls(df)\n",
    "\n",
    "    def merge_sample(self, sample_df):\n",
    "        self.merged_df = anno_sample_merge(sample_df,self.annotation_df)\n",
    "\n",
    "    def export_merged(self, out_fn):\n",
    "        self.merged_df.to_csv(out_fn)\n",
    "\n",
    "    def export_annotations(self, out_fn):\n",
    "        df = self.annotation_df\n",
    "        if not Path(out_fn).exists():\n",
    "            Path(out_fn).touch()\n",
    "        suffix = Path(out_fn).suffix\n",
    "        if suffix == '.csv':\n",
    "            _df_to_csv(df, out_fn)\n",
    "        if suffix == '.json':\n",
    "            _df_to_json(df,out_fn)\n",
    "        if suffix == '.pkl':\n",
    "            _df_to_pkl(df,out_fn)"
   ]
  },
  {
   "cell_type": "code",
   "execution_count": null,
   "metadata": {},
   "outputs": [
    {
     "data": {
      "text/markdown": [
       "<h2 id=\"nnAnnotations\" class=\"doc_header\"><code>class</code> <code>nnAnnotations</code><a href=\"\" class=\"source_link\" style=\"float:right\">[source]</a></h2>\n",
       "\n",
       "> <code>nnAnnotations</code>(**`df`**)\n",
       "\n"
      ],
      "text/plain": [
       "<IPython.core.display.Markdown object>"
      ]
     },
     "metadata": {},
     "output_type": "display_data"
    }
   ],
   "source": [
    "show_doc(nnAnnotations)"
   ]
  },
  {
   "cell_type": "code",
   "execution_count": null,
   "metadata": {},
   "outputs": [
    {
     "data": {
      "text/markdown": [
       "<h4 id=\"nnAnnotations.from_completions\" class=\"doc_header\"><code>nnAnnotations.from_completions</code><a href=\"__main__.py#L13\" class=\"source_link\" style=\"float:right\">[source]</a></h4>\n",
       "\n",
       "> <code>nnAnnotations.from_completions</code>(**`path`**, **`kind`**, **`drop_dupes`**=*`True`*, **`sample_df`**=*`None`*)\n",
       "\n"
      ],
      "text/plain": [
       "<IPython.core.display.Markdown object>"
      ]
     },
     "metadata": {},
     "output_type": "display_data"
    }
   ],
   "source": [
    "show_doc(nnAnnotations.from_completions)"
   ]
  },
  {
   "cell_type": "code",
   "execution_count": null,
   "metadata": {},
   "outputs": [],
   "source": [
    "annotations = nnAnnotations.from_completions('../ph/ads/ad_annotations/', 'classification')"
   ]
  },
  {
   "cell_type": "code",
   "execution_count": null,
   "metadata": {},
   "outputs": [
    {
     "data": {
      "text/plain": [
       "nnAnnotations #annotations:549"
      ]
     },
     "execution_count": null,
     "metadata": {},
     "output_type": "execute_result"
    }
   ],
   "source": [
    "annotations"
   ]
  },
  {
   "cell_type": "code",
   "execution_count": null,
   "metadata": {},
   "outputs": [
    {
     "data": {
      "text/plain": [
       "array(['illustrations', 'text-only'], dtype=object)"
      ]
     },
     "execution_count": null,
     "metadata": {},
     "output_type": "execute_result"
    }
   ],
   "source": [
    "annotations.labels"
   ]
  },
  {
   "cell_type": "code",
   "execution_count": null,
   "metadata": {},
   "outputs": [
    {
     "data": {
      "text/plain": [
       "text-only        376\n",
       "illustrations    173\n",
       "Name: result, dtype: int64"
      ]
     },
     "execution_count": null,
     "metadata": {},
     "output_type": "execute_result"
    }
   ],
   "source": [
    "annotations.label_counts"
   ]
  },
  {
   "cell_type": "code",
   "execution_count": null,
   "metadata": {},
   "outputs": [
    {
     "data": {
      "text/markdown": [
       "<h4 id=\"nnAnnotations.merge_sample\" class=\"doc_header\"><code>nnAnnotations.merge_sample</code><a href=\"__main__.py#L33\" class=\"source_link\" style=\"float:right\">[source]</a></h4>\n",
       "\n",
       "> <code>nnAnnotations.merge_sample</code>(**`sample_df`**)\n",
       "\n"
      ],
      "text/plain": [
       "<IPython.core.display.Markdown object>"
      ]
     },
     "metadata": {},
     "output_type": "display_data"
    }
   ],
   "source": [
    "show_doc(nnAnnotations.merge_sample)"
   ]
  },
  {
   "cell_type": "code",
   "execution_count": null,
   "metadata": {},
   "outputs": [
    {
     "data": {
      "text/html": [
       "<div>\n",
       "<style scoped>\n",
       "    .dataframe tbody tr th:only-of-type {\n",
       "        vertical-align: middle;\n",
       "    }\n",
       "\n",
       "    .dataframe tbody tr th {\n",
       "        vertical-align: top;\n",
       "    }\n",
       "\n",
       "    .dataframe thead th {\n",
       "        text-align: right;\n",
       "    }\n",
       "</style>\n",
       "<table border=\"1\" class=\"dataframe\">\n",
       "  <thead>\n",
       "    <tr style=\"text-align: right;\">\n",
       "      <th></th>\n",
       "      <th>filepath</th>\n",
       "      <th>pub_date</th>\n",
       "      <th>page_seq_num</th>\n",
       "      <th>edition_seq_num</th>\n",
       "      <th>batch</th>\n",
       "      <th>lccn</th>\n",
       "      <th>box</th>\n",
       "      <th>score</th>\n",
       "      <th>ocr</th>\n",
       "      <th>place_of_publication</th>\n",
       "      <th>geographic_coverage</th>\n",
       "      <th>name</th>\n",
       "      <th>publisher</th>\n",
       "      <th>url</th>\n",
       "      <th>page_url</th>\n",
       "      <th>created_at</th>\n",
       "      <th>id</th>\n",
       "      <th>lead_time</th>\n",
       "      <th>result</th>\n",
       "      <th>data</th>\n",
       "    </tr>\n",
       "  </thead>\n",
       "  <tbody>\n",
       "    <tr>\n",
       "      <th>0</th>\n",
       "      <td>iahi_gastly_ver01/data/sn82015737/00279529091/...</td>\n",
       "      <td>1860-03-09</td>\n",
       "      <td>447</td>\n",
       "      <td>1</td>\n",
       "      <td>iahi_gastly_ver01</td>\n",
       "      <td>sn82015737</td>\n",
       "      <td>[Decimal('0.30762831315880534'), Decimal('0.04...</td>\n",
       "      <td>0.950152</td>\n",
       "      <td>['JTO', 'TMCE', 'An', 't%E', '3eott', 'County'...</td>\n",
       "      <td>Davenport, Iowa</td>\n",
       "      <td>['Iowa--Scott--Davenport']</td>\n",
       "      <td>Daily Democrat and news. [volume]</td>\n",
       "      <td>Maguire, Richardson &amp; Co.</td>\n",
       "      <td>https://news-navigator.labs.loc.gov/data/iahi_...</td>\n",
       "      <td>https://chroniclingamerica.loc.gov/data/batche...</td>\n",
       "      <td>1602237486</td>\n",
       "      <td>iahi_gastly_ver01/data/sn82015737/00279529091/...</td>\n",
       "      <td>0.838</td>\n",
       "      <td>text-only</td>\n",
       "      <td>iahi_gastly_ver01_data_sn82015737_00279529091_...</td>\n",
       "    </tr>\n",
       "    <tr>\n",
       "      <th>1</th>\n",
       "      <td>ohi_cobweb_ver04/data/sn85026050/00280775848/1...</td>\n",
       "      <td>1860-08-17</td>\n",
       "      <td>359</td>\n",
       "      <td>1</td>\n",
       "      <td>ohi_cobweb_ver04</td>\n",
       "      <td>sn85026050</td>\n",
       "      <td>[Decimal('0.5799164973813336'), Decimal('0.730...</td>\n",
       "      <td>0.985859</td>\n",
       "      <td>['9', 'BI.', 'I', '.QJtf', 'A', 'never', 'fall...</td>\n",
       "      <td>Fremont, Sandusky County [Ohio]</td>\n",
       "      <td>['Ohio--Sandusky--Fremont']</td>\n",
       "      <td>Fremont journal. [volume]</td>\n",
       "      <td>I.W. Booth</td>\n",
       "      <td>https://news-navigator.labs.loc.gov/data/ohi_c...</td>\n",
       "      <td>https://chroniclingamerica.loc.gov/data/batche...</td>\n",
       "      <td>1602236992</td>\n",
       "      <td>ohi_cobweb_ver04/data/sn85026050/00280775848/1...</td>\n",
       "      <td>7.593</td>\n",
       "      <td>illustrations</td>\n",
       "      <td>ohi_cobweb_ver04_data_sn85026050_00280775848_1...</td>\n",
       "    </tr>\n",
       "  </tbody>\n",
       "</table>\n",
       "</div>"
      ],
      "text/plain": [
       "                                            filepath    pub_date  \\\n",
       "0  iahi_gastly_ver01/data/sn82015737/00279529091/...  1860-03-09   \n",
       "1  ohi_cobweb_ver04/data/sn85026050/00280775848/1...  1860-08-17   \n",
       "\n",
       "   page_seq_num  edition_seq_num              batch        lccn  \\\n",
       "0           447                1  iahi_gastly_ver01  sn82015737   \n",
       "1           359                1   ohi_cobweb_ver04  sn85026050   \n",
       "\n",
       "                                                 box     score  \\\n",
       "0  [Decimal('0.30762831315880534'), Decimal('0.04...  0.950152   \n",
       "1  [Decimal('0.5799164973813336'), Decimal('0.730...  0.985859   \n",
       "\n",
       "                                                 ocr  \\\n",
       "0  ['JTO', 'TMCE', 'An', 't%E', '3eott', 'County'...   \n",
       "1  ['9', 'BI.', 'I', '.QJtf', 'A', 'never', 'fall...   \n",
       "\n",
       "              place_of_publication          geographic_coverage  \\\n",
       "0                  Davenport, Iowa   ['Iowa--Scott--Davenport']   \n",
       "1  Fremont, Sandusky County [Ohio]  ['Ohio--Sandusky--Fremont']   \n",
       "\n",
       "                                name                  publisher  \\\n",
       "0  Daily Democrat and news. [volume]  Maguire, Richardson & Co.   \n",
       "1          Fremont journal. [volume]                 I.W. Booth   \n",
       "\n",
       "                                                 url  \\\n",
       "0  https://news-navigator.labs.loc.gov/data/iahi_...   \n",
       "1  https://news-navigator.labs.loc.gov/data/ohi_c...   \n",
       "\n",
       "                                            page_url  created_at  \\\n",
       "0  https://chroniclingamerica.loc.gov/data/batche...  1602237486   \n",
       "1  https://chroniclingamerica.loc.gov/data/batche...  1602236992   \n",
       "\n",
       "                                                  id  lead_time  \\\n",
       "0  iahi_gastly_ver01/data/sn82015737/00279529091/...      0.838   \n",
       "1  ohi_cobweb_ver04/data/sn85026050/00280775848/1...      7.593   \n",
       "\n",
       "          result                                               data  \n",
       "0      text-only  iahi_gastly_ver01_data_sn82015737_00279529091_...  \n",
       "1  illustrations  ohi_cobweb_ver04_data_sn85026050_00280775848_1...  "
      ]
     },
     "execution_count": null,
     "metadata": {},
     "output_type": "execute_result"
    }
   ],
   "source": [
    "annotations.merge_sample(sample_df)\n",
    "annotations.merged_df.head(2)"
   ]
  },
  {
   "cell_type": "code",
   "execution_count": null,
   "metadata": {},
   "outputs": [
    {
     "data": {
      "text/markdown": [
       "<h4 id=\"nnAnnotations.export_merged\" class=\"doc_header\"><code>nnAnnotations.export_merged</code><a href=\"__main__.py#L36\" class=\"source_link\" style=\"float:right\">[source]</a></h4>\n",
       "\n",
       "> <code>nnAnnotations.export_merged</code>(**`out_fn`**)\n",
       "\n"
      ],
      "text/plain": [
       "<IPython.core.display.Markdown object>"
      ]
     },
     "metadata": {},
     "output_type": "display_data"
    }
   ],
   "source": [
    "show_doc(nnAnnotations.export_merged)"
   ]
  },
  {
   "cell_type": "code",
   "execution_count": null,
   "metadata": {},
   "outputs": [],
   "source": [
    "annotations.export_merged('testmerge.csv')"
   ]
  },
  {
   "cell_type": "code",
   "execution_count": null,
   "metadata": {},
   "outputs": [
    {
     "data": {
      "text/markdown": [
       "<h4 id=\"nnAnnotations.from_completions\" class=\"doc_header\"><code>nnAnnotations.from_completions</code><a href=\"__main__.py#L13\" class=\"source_link\" style=\"float:right\">[source]</a></h4>\n",
       "\n",
       "> <code>nnAnnotations.from_completions</code>(**`path`**, **`kind`**, **`drop_dupes`**=*`True`*, **`sample_df`**=*`None`*)\n",
       "\n"
      ],
      "text/plain": [
       "<IPython.core.display.Markdown object>"
      ]
     },
     "metadata": {},
     "output_type": "display_data"
    }
   ],
   "source": [
    "show_doc(nnAnnotations.from_completions)"
   ]
  },
  {
   "cell_type": "code",
   "execution_count": null,
   "metadata": {},
   "outputs": [],
   "source": [
    "#hide \n",
    "Path('testmerge.csv').unlink()"
   ]
  },
  {
   "cell_type": "code",
   "execution_count": null,
   "metadata": {},
   "outputs": [
    {
     "data": {
      "text/html": [
       "<div>\n",
       "<style scoped>\n",
       "    .dataframe tbody tr th:only-of-type {\n",
       "        vertical-align: middle;\n",
       "    }\n",
       "\n",
       "    .dataframe tbody tr th {\n",
       "        vertical-align: top;\n",
       "    }\n",
       "\n",
       "    .dataframe thead th {\n",
       "        text-align: right;\n",
       "    }\n",
       "</style>\n",
       "<table border=\"1\" class=\"dataframe\">\n",
       "  <thead>\n",
       "    <tr style=\"text-align: right;\">\n",
       "      <th></th>\n",
       "      <th>created_at</th>\n",
       "      <th>id</th>\n",
       "      <th>lead_time</th>\n",
       "      <th>result</th>\n",
       "      <th>data</th>\n",
       "    </tr>\n",
       "  </thead>\n",
       "  <tbody>\n",
       "    <tr>\n",
       "      <th>0</th>\n",
       "      <td>1602237290</td>\n",
       "      <td>457001</td>\n",
       "      <td>1.014</td>\n",
       "      <td>illustrations</td>\n",
       "      <td>txdn_argentina_ver01_data_sn84022109_002111018...</td>\n",
       "    </tr>\n",
       "    <tr>\n",
       "      <th>1</th>\n",
       "      <td>1602237157</td>\n",
       "      <td>179001</td>\n",
       "      <td>2.068</td>\n",
       "      <td>text-only</td>\n",
       "      <td>khi_earhart_ver01_data_sn85032814_00237283260_...</td>\n",
       "    </tr>\n",
       "  </tbody>\n",
       "</table>\n",
       "</div>"
      ],
      "text/plain": [
       "   created_at      id  lead_time         result  \\\n",
       "0  1602237290  457001      1.014  illustrations   \n",
       "1  1602237157  179001      2.068      text-only   \n",
       "\n",
       "                                                data  \n",
       "0  txdn_argentina_ver01_data_sn84022109_002111018...  \n",
       "1  khi_earhart_ver01_data_sn85032814_00237283260_...  "
      ]
     },
     "execution_count": null,
     "metadata": {},
     "output_type": "execute_result"
    }
   ],
   "source": [
    "annotations = nnAnnotations.from_completions('../ph/ads/ad_annotations/', 'classification')\n",
    "annotations.annotation_df.head(2)"
   ]
  },
  {
   "cell_type": "code",
   "execution_count": null,
   "metadata": {},
   "outputs": [
    {
     "name": "stdout",
     "output_type": "stream",
     "text": [
      "Converted 00_core.ipynb.\n",
      "Converted 01_sample.ipynb.\n",
      "Converted 02_annotate.ipynb.\n",
      "Converted 03_inference.ipynb.\n",
      "Converted index.ipynb.\n"
     ]
    }
   ],
   "source": [
    "from nbdev.export import notebook2script\n",
    "notebook2script()"
   ]
  },
  {
   "cell_type": "code",
   "execution_count": null,
   "metadata": {},
   "outputs": [],
   "source": []
  }
 ],
 "metadata": {
  "kernelspec": {
   "display_name": "nnAnnotator",
   "language": "python",
   "name": "nnannotator"
  }
 },
 "nbformat": 4,
 "nbformat_minor": 4
}
