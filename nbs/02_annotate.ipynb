{
 "cells": [
  {
   "cell_type": "code",
   "execution_count": null,
   "metadata": {},
   "outputs": [],
   "source": [
    "#hide\n",
    "%load_ext autoreload"
   ]
  },
  {
   "cell_type": "code",
   "execution_count": null,
   "metadata": {},
   "outputs": [],
   "source": [
    "from nbdev import *"
   ]
  },
  {
   "cell_type": "code",
   "execution_count": null,
   "metadata": {},
   "outputs": [],
   "source": [
    "# default_exp annotate"
   ]
  },
  {
   "cell_type": "markdown",
   "metadata": {},
   "source": [
    "# Annotate\n",
    "\n",
    "> Functionality to support creating and process annotation for samples of Newspaper Navigator data using Label Studio."
   ]
  },
  {
   "cell_type": "code",
   "execution_count": null,
   "metadata": {},
   "outputs": [],
   "source": [
    "#hide\n",
    "from nbdev.showdoc import *"
   ]
  },
  {
   "cell_type": "code",
   "execution_count": null,
   "metadata": {},
   "outputs": [],
   "source": [
    "#export\n",
    "from tqdm.notebook import trange, tqdm\n",
    "import pandas as pd\n",
    "from pandas import json_normalize\n",
    "import json\n",
    "import requests\n",
    "import re\n",
    "from glob import glob\n",
    "from pathlib import Path"
   ]
  },
  {
   "cell_type": "markdown",
   "metadata": {},
   "source": [
    "# Setup annotation task\n",
    "The bulk of annotation work is outsourced to labelstudio, label studio is a flexible annotations system which supports annotations for a range of types of data including images and text. This module does a few steps to help process annotations produced through label studio. "
   ]
  },
  {
   "cell_type": "code",
   "execution_count": null,
   "metadata": {},
   "outputs": [],
   "source": [
    "# TODO create annotatation tasks from a sample output"
   ]
  },
  {
   "cell_type": "code",
   "execution_count": null,
   "metadata": {},
   "outputs": [],
   "source": []
  },
  {
   "cell_type": "code",
   "execution_count": null,
   "metadata": {},
   "outputs": [],
   "source": [
    "from nnanno.sample import *"
   ]
  },
  {
   "cell_type": "code",
   "execution_count": null,
   "metadata": {},
   "outputs": [],
   "source": [
    "sampler = nnSampler()"
   ]
  },
  {
   "cell_type": "code",
   "execution_count": null,
   "metadata": {},
   "outputs": [
    {
     "data": {
      "application/vnd.jupyter.widget-view+json": {
       "model_id": "76f2ff1564c445d69ec852ddde4fd57a",
       "version_major": 2,
       "version_minor": 0
      },
      "text/plain": [
       "HBox(children=(HTML(value=''), FloatProgress(value=0.0, max=3.0), HTML(value='')))"
      ]
     },
     "metadata": {},
     "output_type": "display_data"
    },
    {
     "name": "stdout",
     "output_type": "stream",
     "text": [
      "\n"
     ]
    },
    {
     "data": {
      "text/html": [
       "<div>\n",
       "<style scoped>\n",
       "    .dataframe tbody tr th:only-of-type {\n",
       "        vertical-align: middle;\n",
       "    }\n",
       "\n",
       "    .dataframe tbody tr th {\n",
       "        vertical-align: top;\n",
       "    }\n",
       "\n",
       "    .dataframe thead th {\n",
       "        text-align: right;\n",
       "    }\n",
       "</style>\n",
       "<table border=\"1\" class=\"dataframe\">\n",
       "  <thead>\n",
       "    <tr style=\"text-align: right;\">\n",
       "      <th></th>\n",
       "      <th>filepath</th>\n",
       "      <th>pub_date</th>\n",
       "      <th>page_seq_num</th>\n",
       "      <th>edition_seq_num</th>\n",
       "      <th>batch</th>\n",
       "      <th>lccn</th>\n",
       "      <th>box</th>\n",
       "      <th>score</th>\n",
       "      <th>ocr</th>\n",
       "      <th>place_of_publication</th>\n",
       "      <th>geographic_coverage</th>\n",
       "      <th>name</th>\n",
       "      <th>publisher</th>\n",
       "      <th>url</th>\n",
       "      <th>page_url</th>\n",
       "    </tr>\n",
       "  </thead>\n",
       "  <tbody>\n",
       "    <tr>\n",
       "      <th>0</th>\n",
       "      <td>vi_blass_ver01/data/sn84024735/0041566431A/185...</td>\n",
       "      <td>1850-08-30</td>\n",
       "      <td>476</td>\n",
       "      <td>1</td>\n",
       "      <td>vi_blass_ver01</td>\n",
       "      <td>sn84024735</td>\n",
       "      <td>[0.01100225063116144, 0.05289745492724692, 0.1...</td>\n",
       "      <td>0.982224</td>\n",
       "      <td>[PROPERN, QjOEDO^liiLr, OF, ERROR., Iijftho, c...</td>\n",
       "      <td>Richmond, Va.</td>\n",
       "      <td>[Virginia--Richmond--Richmond]</td>\n",
       "      <td>Richmond enquirer. [volume]</td>\n",
       "      <td>Thomas Ritchie</td>\n",
       "      <td>https://news-navigator.labs.loc.gov/data/vi_bl...</td>\n",
       "      <td>https://chroniclingamerica.loc.gov/data/batche...</td>\n",
       "    </tr>\n",
       "    <tr>\n",
       "      <th>1</th>\n",
       "      <td>dlc_crunchy_ver01/data/sn83030213/00206530303/...</td>\n",
       "      <td>1850-04-16</td>\n",
       "      <td>654</td>\n",
       "      <td>1</td>\n",
       "      <td>dlc_crunchy_ver01</td>\n",
       "      <td>sn83030213</td>\n",
       "      <td>[0.49779551738017314, 0.019675302322796934, 0....</td>\n",
       "      <td>0.976809</td>\n",
       "      <td>[th\", .?!, M, sum., Wo]</td>\n",
       "      <td>New-York [N.Y.]</td>\n",
       "      <td>[New York--New York--New York]</td>\n",
       "      <td>New-York daily tribune. [volume]</td>\n",
       "      <td>Greeley &amp; McElrath</td>\n",
       "      <td>https://news-navigator.labs.loc.gov/data/dlc_c...</td>\n",
       "      <td>https://chroniclingamerica.loc.gov/data/batche...</td>\n",
       "    </tr>\n",
       "    <tr>\n",
       "      <th>2</th>\n",
       "      <td>ncu_lumber_ver01/data/sn84026536/00295879063/1...</td>\n",
       "      <td>1850-10-11</td>\n",
       "      <td>618</td>\n",
       "      <td>1</td>\n",
       "      <td>ncu_lumber_ver01</td>\n",
       "      <td>sn84026536</td>\n",
       "      <td>[0.6562250169657045, 0.14009789587814692, 0.81...</td>\n",
       "      <td>0.915456</td>\n",
       "      <td>[j9Those, whose, names, appear, on, this, List...</td>\n",
       "      <td>Wilmington, N.C.</td>\n",
       "      <td>[North Carolina--New Hanover--Wilmington]</td>\n",
       "      <td>Wilmington journal. [volume]</td>\n",
       "      <td>Alfred L. Price and David Fulton</td>\n",
       "      <td>https://news-navigator.labs.loc.gov/data/ncu_l...</td>\n",
       "      <td>https://chroniclingamerica.loc.gov/data/batche...</td>\n",
       "    </tr>\n",
       "    <tr>\n",
       "      <th>3</th>\n",
       "      <td>ncu_lumber_ver01/data/sn84026536/00295879063/1...</td>\n",
       "      <td>1850-11-15</td>\n",
       "      <td>638</td>\n",
       "      <td>1</td>\n",
       "      <td>ncu_lumber_ver01</td>\n",
       "      <td>sn84026536</td>\n",
       "      <td>[0.4996424275681866, 0.6345808846609933, 0.652...</td>\n",
       "      <td>0.902577</td>\n",
       "      <td>[LIST, OK, LETTERS,, REMAINING, in, the, Post,...</td>\n",
       "      <td>Wilmington, N.C.</td>\n",
       "      <td>[North Carolina--New Hanover--Wilmington]</td>\n",
       "      <td>Wilmington journal. [volume]</td>\n",
       "      <td>Alfred L. Price and David Fulton</td>\n",
       "      <td>https://news-navigator.labs.loc.gov/data/ncu_l...</td>\n",
       "      <td>https://chroniclingamerica.loc.gov/data/batche...</td>\n",
       "    </tr>\n",
       "    <tr>\n",
       "      <th>4</th>\n",
       "      <td>ncu_lumber_ver01/data/sn84026536/00295879063/1...</td>\n",
       "      <td>1850-01-11</td>\n",
       "      <td>449</td>\n",
       "      <td>1</td>\n",
       "      <td>ncu_lumber_ver01</td>\n",
       "      <td>sn84026536</td>\n",
       "      <td>[0.8094330624595207, 0.045515846960323375, 0.9...</td>\n",
       "      <td>0.959784</td>\n",
       "      <td>[I, REMAINING, in, the, Post, Office, at, Wilm...</td>\n",
       "      <td>Wilmington, N.C.</td>\n",
       "      <td>[North Carolina--New Hanover--Wilmington]</td>\n",
       "      <td>Wilmington journal. [volume]</td>\n",
       "      <td>Alfred L. Price and David Fulton</td>\n",
       "      <td>https://news-navigator.labs.loc.gov/data/ncu_l...</td>\n",
       "      <td>https://chroniclingamerica.loc.gov/data/batche...</td>\n",
       "    </tr>\n",
       "    <tr>\n",
       "      <th>5</th>\n",
       "      <td>wvu_kuwait_ver02/data/sn86092163/00202192464/1...</td>\n",
       "      <td>1855-06-16</td>\n",
       "      <td>688</td>\n",
       "      <td>1</td>\n",
       "      <td>wvu_kuwait_ver02</td>\n",
       "      <td>sn86092163</td>\n",
       "      <td>[0.0, 0.04375576815762362, 0.9587116934488547,...</td>\n",
       "      <td>0.956536</td>\n",
       "      <td>[Xtems, of, &amp;cta&gt;s,, fcc.\", General, Joseph, L...</td>\n",
       "      <td>Morgantown, Va. [W. Va.]</td>\n",
       "      <td>[West Virginia--Monongalia--Morgantown]</td>\n",
       "      <td>Monongalia mirror. [volume]</td>\n",
       "      <td>Simeon Siegfried, Sr.</td>\n",
       "      <td>https://news-navigator.labs.loc.gov/data/wvu_k...</td>\n",
       "      <td>https://chroniclingamerica.loc.gov/data/batche...</td>\n",
       "    </tr>\n",
       "    <tr>\n",
       "      <th>6</th>\n",
       "      <td>curiv_hairgrass_ver01/data/sn93052786/print/18...</td>\n",
       "      <td>1855-06-19</td>\n",
       "      <td>6</td>\n",
       "      <td>1</td>\n",
       "      <td>curiv_hairgrass_ver01</td>\n",
       "      <td>sn93052786</td>\n",
       "      <td>[0.048265021187918526, 0.07172901274391968, 0....</td>\n",
       "      <td>0.937678</td>\n",
       "      <td>[4, &lt;S£, m, PnWico., Los, demagogos, son, los,...</td>\n",
       "      <td>Los Angeles, Calif.</td>\n",
       "      <td>[California--Los Angeles--Los Angeles]</td>\n",
       "      <td>El clamor público. [volume]</td>\n",
       "      <td>Francisco P. Ramirez</td>\n",
       "      <td>https://news-navigator.labs.loc.gov/data/curiv...</td>\n",
       "      <td>https://chroniclingamerica.loc.gov/data/batche...</td>\n",
       "    </tr>\n",
       "    <tr>\n",
       "      <th>7</th>\n",
       "      <td>curiv_hairgrass_ver01/data/sn93052786/print/18...</td>\n",
       "      <td>1855-10-16</td>\n",
       "      <td>74</td>\n",
       "      <td>1</td>\n",
       "      <td>curiv_hairgrass_ver01</td>\n",
       "      <td>sn93052786</td>\n",
       "      <td>[0.05541989443113478, 0.02968218537414966, 0.9...</td>\n",
       "      <td>0.952574</td>\n",
       "      <td>[72, El, Duende, critico, da, Madrid., sams, i...</td>\n",
       "      <td>Los Angeles, Calif.</td>\n",
       "      <td>[California--Los Angeles--Los Angeles]</td>\n",
       "      <td>El clamor público. [volume]</td>\n",
       "      <td>Francisco P. Ramirez</td>\n",
       "      <td>https://news-navigator.labs.loc.gov/data/curiv...</td>\n",
       "      <td>https://chroniclingamerica.loc.gov/data/batche...</td>\n",
       "    </tr>\n",
       "    <tr>\n",
       "      <th>8</th>\n",
       "      <td>ohi_gann_ver01/data/sn83035102/00296027078/185...</td>\n",
       "      <td>1855-09-15</td>\n",
       "      <td>481</td>\n",
       "      <td>1</td>\n",
       "      <td>ohi_gann_ver01</td>\n",
       "      <td>sn83035102</td>\n",
       "      <td>[0.6759463695769614, 0.06583273904784011, 0.94...</td>\n",
       "      <td>0.935379</td>\n",
       "      <td>[a-nr, Por, Por, Por, o, f, a, at, 3, or, hobl...</td>\n",
       "      <td>Ravenna, Ohio</td>\n",
       "      <td>[Ohio--Portage--Ravenna]</td>\n",
       "      <td>The weekly Portage sentinel. [volume]</td>\n",
       "      <td>A. Hart &amp; R.E. Craig</td>\n",
       "      <td>https://news-navigator.labs.loc.gov/data/ohi_g...</td>\n",
       "      <td>https://chroniclingamerica.loc.gov/data/batche...</td>\n",
       "    </tr>\n",
       "    <tr>\n",
       "      <th>9</th>\n",
       "      <td>ohi_gann_ver01/data/sn83035102/00296027078/185...</td>\n",
       "      <td>1855-08-18</td>\n",
       "      <td>465</td>\n",
       "      <td>1</td>\n",
       "      <td>ohi_gann_ver01</td>\n",
       "      <td>sn83035102</td>\n",
       "      <td>[0.6735400830285024, 0.09320364992132825, 0.93...</td>\n",
       "      <td>0.916583</td>\n",
       "      <td>[tot, PayseteflBt'r.ef, Stale, 1ebt, tot, yene...</td>\n",
       "      <td>Ravenna, Ohio</td>\n",
       "      <td>[Ohio--Portage--Ravenna]</td>\n",
       "      <td>The weekly Portage sentinel. [volume]</td>\n",
       "      <td>A. Hart &amp; R.E. Craig</td>\n",
       "      <td>https://news-navigator.labs.loc.gov/data/ohi_g...</td>\n",
       "      <td>https://chroniclingamerica.loc.gov/data/batche...</td>\n",
       "    </tr>\n",
       "    <tr>\n",
       "      <th>10</th>\n",
       "      <td>iahi_dragonite_ver01/data/sn84027096/002795294...</td>\n",
       "      <td>1860-02-11</td>\n",
       "      <td>22</td>\n",
       "      <td>1</td>\n",
       "      <td>iahi_dragonite_ver01</td>\n",
       "      <td>sn84027096</td>\n",
       "      <td>[0.266833311662683, 0.11826099061129386, 0.493...</td>\n",
       "      <td>0.959982</td>\n",
       "      <td>[s~r, .'.imt), 6, *i, %mS, fiisRg., bf, %j, •I...</td>\n",
       "      <td>Council Bluffs [Iowa]</td>\n",
       "      <td>[Iowa--Pottawattamie--Council Bluffs]</td>\n",
       "      <td>The Council Bluffs nonpareil. [volume]</td>\n",
       "      <td>Maynard &amp; Long</td>\n",
       "      <td>https://news-navigator.labs.loc.gov/data/iahi_...</td>\n",
       "      <td>https://chroniclingamerica.loc.gov/data/batche...</td>\n",
       "    </tr>\n",
       "    <tr>\n",
       "      <th>11</th>\n",
       "      <td>pst_intramural_ver01/data/sn82005159/002960284...</td>\n",
       "      <td>1860-06-22</td>\n",
       "      <td>286</td>\n",
       "      <td>1</td>\n",
       "      <td>pst_intramural_ver01</td>\n",
       "      <td>sn82005159</td>\n",
       "      <td>[0.6693450956826442, 0.05945117064196654, 0.82...</td>\n",
       "      <td>0.929225</td>\n",
       "      <td>[Ten, Tears,, including, Receipts, Expenditure...</td>\n",
       "      <td>Bedford, Pa.</td>\n",
       "      <td>[Pennsylvania--Bedford--Bedford]</td>\n",
       "      <td>The Bedford gazette. [volume]</td>\n",
       "      <td>Printed by Charles M'Dowell</td>\n",
       "      <td>https://news-navigator.labs.loc.gov/data/pst_i...</td>\n",
       "      <td>https://chroniclingamerica.loc.gov/data/batche...</td>\n",
       "    </tr>\n",
       "    <tr>\n",
       "      <th>12</th>\n",
       "      <td>lu_qualchan_ver01/data/sn82015753/00212475245/...</td>\n",
       "      <td>1860-03-06</td>\n",
       "      <td>500</td>\n",
       "      <td>1</td>\n",
       "      <td>lu_qualchan_ver01</td>\n",
       "      <td>sn82015753</td>\n",
       "      <td>[0.0034045652479450994, 0.020978123569308248, ...</td>\n",
       "      <td>0.903176</td>\n",
       "      <td>[sala, 'W., ..,, ATB., eq, 1G, 33e, .3, the., ...</td>\n",
       "      <td>[New Orleans, La.]</td>\n",
       "      <td>[Louisiana--Orleans--New Orleans]</td>\n",
       "      <td>New Orleans daily crescent. [volume]</td>\n",
       "      <td>J.H. Maddox</td>\n",
       "      <td>https://news-navigator.labs.loc.gov/data/lu_qu...</td>\n",
       "      <td>https://chroniclingamerica.loc.gov/data/batche...</td>\n",
       "    </tr>\n",
       "    <tr>\n",
       "      <th>13</th>\n",
       "      <td>vtu_hildene_ver01/data/sn84023209/00202197619/...</td>\n",
       "      <td>1860-08-02</td>\n",
       "      <td>154</td>\n",
       "      <td>1</td>\n",
       "      <td>vtu_hildene_ver01</td>\n",
       "      <td>sn84023209</td>\n",
       "      <td>[0.023114874424078526, 0.020240809379603326, 0...</td>\n",
       "      <td>0.925837</td>\n",
       "      <td>[irstur, ft, irw, m, v, xr, (Vol., XVII.-t, Hi...</td>\n",
       "      <td>Montpelier, Vt.</td>\n",
       "      <td>[Vermont--Washington--Montpelier]</td>\n",
       "      <td>Green-Mountain freeman. [volume]</td>\n",
       "      <td>J. Poland</td>\n",
       "      <td>https://news-navigator.labs.loc.gov/data/vtu_h...</td>\n",
       "      <td>https://chroniclingamerica.loc.gov/data/batche...</td>\n",
       "    </tr>\n",
       "    <tr>\n",
       "      <th>14</th>\n",
       "      <td>dlc_belmont_ver02/data/sn82014511/no/reel/1860...</td>\n",
       "      <td>1860-03-31</td>\n",
       "      <td>2</td>\n",
       "      <td>1</td>\n",
       "      <td>dlc_belmont_ver02</td>\n",
       "      <td>no</td>\n",
       "      <td>[0.3371166378426152, 0.03450527885344454, 0.74...</td>\n",
       "      <td>0.996431</td>\n",
       "      <td>[MAP, AMD, DESCRIPTSOM, OF, THE, PIKE’S, PEAK,...</td>\n",
       "      <td></td>\n",
       "      <td></td>\n",
       "      <td></td>\n",
       "      <td></td>\n",
       "      <td>https://news-navigator.labs.loc.gov/data/dlc_b...</td>\n",
       "      <td>https://chroniclingamerica.loc.gov/data/batche...</td>\n",
       "    </tr>\n",
       "  </tbody>\n",
       "</table>\n",
       "</div>"
      ],
      "text/plain": [
       "                                             filepath    pub_date  \\\n",
       "0   vi_blass_ver01/data/sn84024735/0041566431A/185...  1850-08-30   \n",
       "1   dlc_crunchy_ver01/data/sn83030213/00206530303/...  1850-04-16   \n",
       "2   ncu_lumber_ver01/data/sn84026536/00295879063/1...  1850-10-11   \n",
       "3   ncu_lumber_ver01/data/sn84026536/00295879063/1...  1850-11-15   \n",
       "4   ncu_lumber_ver01/data/sn84026536/00295879063/1...  1850-01-11   \n",
       "5   wvu_kuwait_ver02/data/sn86092163/00202192464/1...  1855-06-16   \n",
       "6   curiv_hairgrass_ver01/data/sn93052786/print/18...  1855-06-19   \n",
       "7   curiv_hairgrass_ver01/data/sn93052786/print/18...  1855-10-16   \n",
       "8   ohi_gann_ver01/data/sn83035102/00296027078/185...  1855-09-15   \n",
       "9   ohi_gann_ver01/data/sn83035102/00296027078/185...  1855-08-18   \n",
       "10  iahi_dragonite_ver01/data/sn84027096/002795294...  1860-02-11   \n",
       "11  pst_intramural_ver01/data/sn82005159/002960284...  1860-06-22   \n",
       "12  lu_qualchan_ver01/data/sn82015753/00212475245/...  1860-03-06   \n",
       "13  vtu_hildene_ver01/data/sn84023209/00202197619/...  1860-08-02   \n",
       "14  dlc_belmont_ver02/data/sn82014511/no/reel/1860...  1860-03-31   \n",
       "\n",
       "    page_seq_num edition_seq_num                  batch        lccn  \\\n",
       "0            476               1         vi_blass_ver01  sn84024735   \n",
       "1            654               1      dlc_crunchy_ver01  sn83030213   \n",
       "2            618               1       ncu_lumber_ver01  sn84026536   \n",
       "3            638               1       ncu_lumber_ver01  sn84026536   \n",
       "4            449               1       ncu_lumber_ver01  sn84026536   \n",
       "5            688               1       wvu_kuwait_ver02  sn86092163   \n",
       "6              6               1  curiv_hairgrass_ver01  sn93052786   \n",
       "7             74               1  curiv_hairgrass_ver01  sn93052786   \n",
       "8            481               1         ohi_gann_ver01  sn83035102   \n",
       "9            465               1         ohi_gann_ver01  sn83035102   \n",
       "10            22               1   iahi_dragonite_ver01  sn84027096   \n",
       "11           286               1   pst_intramural_ver01  sn82005159   \n",
       "12           500               1      lu_qualchan_ver01  sn82015753   \n",
       "13           154               1      vtu_hildene_ver01  sn84023209   \n",
       "14             2               1      dlc_belmont_ver02          no   \n",
       "\n",
       "                                                  box     score  \\\n",
       "0   [0.01100225063116144, 0.05289745492724692, 0.1...  0.982224   \n",
       "1   [0.49779551738017314, 0.019675302322796934, 0....  0.976809   \n",
       "2   [0.6562250169657045, 0.14009789587814692, 0.81...  0.915456   \n",
       "3   [0.4996424275681866, 0.6345808846609933, 0.652...  0.902577   \n",
       "4   [0.8094330624595207, 0.045515846960323375, 0.9...  0.959784   \n",
       "5   [0.0, 0.04375576815762362, 0.9587116934488547,...  0.956536   \n",
       "6   [0.048265021187918526, 0.07172901274391968, 0....  0.937678   \n",
       "7   [0.05541989443113478, 0.02968218537414966, 0.9...  0.952574   \n",
       "8   [0.6759463695769614, 0.06583273904784011, 0.94...  0.935379   \n",
       "9   [0.6735400830285024, 0.09320364992132825, 0.93...  0.916583   \n",
       "10  [0.266833311662683, 0.11826099061129386, 0.493...  0.959982   \n",
       "11  [0.6693450956826442, 0.05945117064196654, 0.82...  0.929225   \n",
       "12  [0.0034045652479450994, 0.020978123569308248, ...  0.903176   \n",
       "13  [0.023114874424078526, 0.020240809379603326, 0...  0.925837   \n",
       "14  [0.3371166378426152, 0.03450527885344454, 0.74...  0.996431   \n",
       "\n",
       "                                                  ocr  \\\n",
       "0   [PROPERN, QjOEDO^liiLr, OF, ERROR., Iijftho, c...   \n",
       "1                             [th\", .?!, M, sum., Wo]   \n",
       "2   [j9Those, whose, names, appear, on, this, List...   \n",
       "3   [LIST, OK, LETTERS,, REMAINING, in, the, Post,...   \n",
       "4   [I, REMAINING, in, the, Post, Office, at, Wilm...   \n",
       "5   [Xtems, of, &cta>s,, fcc.\", General, Joseph, L...   \n",
       "6   [4, <S£, m, PnWico., Los, demagogos, son, los,...   \n",
       "7   [72, El, Duende, critico, da, Madrid., sams, i...   \n",
       "8   [a-nr, Por, Por, Por, o, f, a, at, 3, or, hobl...   \n",
       "9   [tot, PayseteflBt'r.ef, Stale, 1ebt, tot, yene...   \n",
       "10  [s~r, .'.imt), 6, *i, %mS, fiisRg., bf, %j, •I...   \n",
       "11  [Ten, Tears,, including, Receipts, Expenditure...   \n",
       "12  [sala, 'W., ..,, ATB., eq, 1G, 33e, .3, the., ...   \n",
       "13  [irstur, ft, irw, m, v, xr, (Vol., XVII.-t, Hi...   \n",
       "14  [MAP, AMD, DESCRIPTSOM, OF, THE, PIKE’S, PEAK,...   \n",
       "\n",
       "        place_of_publication                        geographic_coverage  \\\n",
       "0              Richmond, Va.             [Virginia--Richmond--Richmond]   \n",
       "1            New-York [N.Y.]             [New York--New York--New York]   \n",
       "2           Wilmington, N.C.  [North Carolina--New Hanover--Wilmington]   \n",
       "3           Wilmington, N.C.  [North Carolina--New Hanover--Wilmington]   \n",
       "4           Wilmington, N.C.  [North Carolina--New Hanover--Wilmington]   \n",
       "5   Morgantown, Va. [W. Va.]    [West Virginia--Monongalia--Morgantown]   \n",
       "6        Los Angeles, Calif.     [California--Los Angeles--Los Angeles]   \n",
       "7        Los Angeles, Calif.     [California--Los Angeles--Los Angeles]   \n",
       "8              Ravenna, Ohio                   [Ohio--Portage--Ravenna]   \n",
       "9              Ravenna, Ohio                   [Ohio--Portage--Ravenna]   \n",
       "10     Council Bluffs [Iowa]      [Iowa--Pottawattamie--Council Bluffs]   \n",
       "11              Bedford, Pa.           [Pennsylvania--Bedford--Bedford]   \n",
       "12        [New Orleans, La.]          [Louisiana--Orleans--New Orleans]   \n",
       "13           Montpelier, Vt.          [Vermont--Washington--Montpelier]   \n",
       "14                                                                        \n",
       "\n",
       "                                      name                         publisher  \\\n",
       "0              Richmond enquirer. [volume]                    Thomas Ritchie   \n",
       "1         New-York daily tribune. [volume]                Greeley & McElrath   \n",
       "2             Wilmington journal. [volume]  Alfred L. Price and David Fulton   \n",
       "3             Wilmington journal. [volume]  Alfred L. Price and David Fulton   \n",
       "4             Wilmington journal. [volume]  Alfred L. Price and David Fulton   \n",
       "5              Monongalia mirror. [volume]             Simeon Siegfried, Sr.   \n",
       "6             El clamor público. [volume]              Francisco P. Ramirez   \n",
       "7             El clamor público. [volume]              Francisco P. Ramirez   \n",
       "8    The weekly Portage sentinel. [volume]              A. Hart & R.E. Craig   \n",
       "9    The weekly Portage sentinel. [volume]              A. Hart & R.E. Craig   \n",
       "10  The Council Bluffs nonpareil. [volume]                    Maynard & Long   \n",
       "11           The Bedford gazette. [volume]       Printed by Charles M'Dowell   \n",
       "12    New Orleans daily crescent. [volume]                       J.H. Maddox   \n",
       "13        Green-Mountain freeman. [volume]                         J. Poland   \n",
       "14                                                                             \n",
       "\n",
       "                                                  url  \\\n",
       "0   https://news-navigator.labs.loc.gov/data/vi_bl...   \n",
       "1   https://news-navigator.labs.loc.gov/data/dlc_c...   \n",
       "2   https://news-navigator.labs.loc.gov/data/ncu_l...   \n",
       "3   https://news-navigator.labs.loc.gov/data/ncu_l...   \n",
       "4   https://news-navigator.labs.loc.gov/data/ncu_l...   \n",
       "5   https://news-navigator.labs.loc.gov/data/wvu_k...   \n",
       "6   https://news-navigator.labs.loc.gov/data/curiv...   \n",
       "7   https://news-navigator.labs.loc.gov/data/curiv...   \n",
       "8   https://news-navigator.labs.loc.gov/data/ohi_g...   \n",
       "9   https://news-navigator.labs.loc.gov/data/ohi_g...   \n",
       "10  https://news-navigator.labs.loc.gov/data/iahi_...   \n",
       "11  https://news-navigator.labs.loc.gov/data/pst_i...   \n",
       "12  https://news-navigator.labs.loc.gov/data/lu_qu...   \n",
       "13  https://news-navigator.labs.loc.gov/data/vtu_h...   \n",
       "14  https://news-navigator.labs.loc.gov/data/dlc_b...   \n",
       "\n",
       "                                             page_url  \n",
       "0   https://chroniclingamerica.loc.gov/data/batche...  \n",
       "1   https://chroniclingamerica.loc.gov/data/batche...  \n",
       "2   https://chroniclingamerica.loc.gov/data/batche...  \n",
       "3   https://chroniclingamerica.loc.gov/data/batche...  \n",
       "4   https://chroniclingamerica.loc.gov/data/batche...  \n",
       "5   https://chroniclingamerica.loc.gov/data/batche...  \n",
       "6   https://chroniclingamerica.loc.gov/data/batche...  \n",
       "7   https://chroniclingamerica.loc.gov/data/batche...  \n",
       "8   https://chroniclingamerica.loc.gov/data/batche...  \n",
       "9   https://chroniclingamerica.loc.gov/data/batche...  \n",
       "10  https://chroniclingamerica.loc.gov/data/batche...  \n",
       "11  https://chroniclingamerica.loc.gov/data/batche...  \n",
       "12  https://chroniclingamerica.loc.gov/data/batche...  \n",
       "13  https://chroniclingamerica.loc.gov/data/batche...  \n",
       "14  https://chroniclingamerica.loc.gov/data/batche...  "
      ]
     },
     "execution_count": null,
     "metadata": {},
     "output_type": "execute_result"
    }
   ],
   "source": [
    "sampler.create_sample(10, 'maps', start_year=1850, end_year=1860, year_sample=False)"
   ]
  },
  {
   "cell_type": "code",
   "execution_count": null,
   "metadata": {},
   "outputs": [
    {
     "data": {
      "application/vnd.jupyter.widget-view+json": {
       "model_id": "c2d74920262f4901ba3ce4e8e3a6bf10",
       "version_major": 2,
       "version_minor": 0
      },
      "text/plain": [
       "HBox(children=(HTML(value=''), FloatProgress(value=0.0, max=15.0), HTML(value='')))"
      ]
     },
     "metadata": {},
     "output_type": "display_data"
    },
    {
     "name": "stdout",
     "output_type": "stream",
     "text": [
      "\n"
     ]
    }
   ],
   "source": [
    "sampler.download_sample('test_anno')"
   ]
  },
  {
   "cell_type": "code",
   "execution_count": null,
   "metadata": {},
   "outputs": [],
   "source": []
  },
  {
   "cell_type": "code",
   "execution_count": null,
   "metadata": {},
   "outputs": [],
   "source": []
  },
  {
   "cell_type": "code",
   "execution_count": null,
   "metadata": {},
   "outputs": [],
   "source": []
  },
  {
   "cell_type": "code",
   "execution_count": null,
   "metadata": {},
   "outputs": [],
   "source": []
  },
  {
   "cell_type": "code",
   "execution_count": null,
   "metadata": {},
   "outputs": [],
   "source": []
  },
  {
   "cell_type": "code",
   "execution_count": null,
   "metadata": {},
   "outputs": [],
   "source": [
    "#label-studio init maps_annotations --input-path= --input-format=image-dir --allow-serving-local-files"
   ]
  },
  {
   "cell_type": "code",
   "execution_count": null,
   "metadata": {},
   "outputs": [],
   "source": []
  },
  {
   "cell_type": "code",
   "execution_count": null,
   "metadata": {},
   "outputs": [],
   "source": []
  },
  {
   "cell_type": "markdown",
   "metadata": {},
   "source": [
    "```bash\n",
    "label-studio init advert_annotations --template=image_classification --input-path=images --input-format=image-dir --allow-serving-local-files\n",
    "```\n",
    "\n",
    "```bash\n",
    "label-studio start ./advert_annotations\n",
    "```"
   ]
  },
  {
   "cell_type": "code",
   "execution_count": null,
   "metadata": {},
   "outputs": [],
   "source": []
  },
  {
   "cell_type": "code",
   "execution_count": null,
   "metadata": {},
   "outputs": [],
   "source": []
  },
  {
   "cell_type": "code",
   "execution_count": null,
   "metadata": {},
   "outputs": [],
   "source": []
  },
  {
   "cell_type": "code",
   "execution_count": null,
   "metadata": {},
   "outputs": [],
   "source": []
  },
  {
   "cell_type": "markdown",
   "metadata": {},
   "source": [
    "# Process annotations"
   ]
  },
  {
   "cell_type": "code",
   "execution_count": null,
   "metadata": {},
   "outputs": [],
   "source": [
    "#export\n",
    "def load_df(json_file):\n",
    "    with open(json_file) as f:\n",
    "        data = json.load(f)\n",
    "        df = json_normalize(data,record_path=['completions'],meta=['data'])\n",
    "       # df['result'] = df['result'].apply(lambda x: return_choice(x[0]) if len([x][0]) ==1 else x)\n",
    "        df['result'] = df['result'].apply(lambda x: x[0]['value']['choices'] if len([x][0]) ==1 else x)\n",
    "        return df"
   ]
  },
  {
   "cell_type": "code",
   "execution_count": null,
   "metadata": {},
   "outputs": [],
   "source": [
    "#export\n",
    "def load_completions(path):\n",
    "    filenames = glob(f'{path}/completions/*.json')\n",
    "    dataframes = [load_df(f) for f in filenames]\n",
    "    return pd.concat(dataframes)"
   ]
  },
  {
   "cell_type": "code",
   "execution_count": null,
   "metadata": {},
   "outputs": [
    {
     "data": {
      "text/html": [
       "<div>\n",
       "<style scoped>\n",
       "    .dataframe tbody tr th:only-of-type {\n",
       "        vertical-align: middle;\n",
       "    }\n",
       "\n",
       "    .dataframe tbody tr th {\n",
       "        vertical-align: top;\n",
       "    }\n",
       "\n",
       "    .dataframe thead th {\n",
       "        text-align: right;\n",
       "    }\n",
       "</style>\n",
       "<table border=\"1\" class=\"dataframe\">\n",
       "  <thead>\n",
       "    <tr style=\"text-align: right;\">\n",
       "      <th></th>\n",
       "      <th>created_at</th>\n",
       "      <th>id</th>\n",
       "      <th>lead_time</th>\n",
       "      <th>result</th>\n",
       "      <th>data</th>\n",
       "    </tr>\n",
       "  </thead>\n",
       "  <tbody>\n",
       "    <tr>\n",
       "      <th>0</th>\n",
       "      <td>1602237290</td>\n",
       "      <td>457001</td>\n",
       "      <td>1.014</td>\n",
       "      <td>[illustrations]</td>\n",
       "      <td>{'image': 'http://localhost:8081/data/upload/d...</td>\n",
       "    </tr>\n",
       "  </tbody>\n",
       "</table>\n",
       "</div>"
      ],
      "text/plain": [
       "   created_at      id  lead_time           result  \\\n",
       "0  1602237290  457001      1.014  [illustrations]   \n",
       "\n",
       "                                                data  \n",
       "0  {'image': 'http://localhost:8081/data/upload/d...  "
      ]
     },
     "execution_count": null,
     "metadata": {},
     "output_type": "execute_result"
    }
   ],
   "source": [
    "#slow\n",
    "df = load_completions('../ph/ads/ad_annotations/')\n",
    "df.head(1)"
   ]
  },
  {
   "cell_type": "code",
   "execution_count": null,
   "metadata": {},
   "outputs": [],
   "source": [
    "#slow\n",
    "#df = load_completions('../ph/photos/multi_label/')\n",
    "#df.head(1)"
   ]
  },
  {
   "cell_type": "code",
   "execution_count": null,
   "metadata": {},
   "outputs": [],
   "source": [
    "#exporti\n",
    "def _df_to_csv(df,out_fn):\n",
    "    df[['data','result']].to_csv(out_fn,header=['file','label',],index=False)"
   ]
  },
  {
   "cell_type": "code",
   "execution_count": null,
   "metadata": {},
   "outputs": [],
   "source": [
    "#exporti\n",
    "def _df_to_json(df,out_fn):\n",
    "    df[['data','value.choices']].to_json(out_fn)"
   ]
  },
  {
   "cell_type": "code",
   "execution_count": null,
   "metadata": {},
   "outputs": [],
   "source": [
    "#exporti\n",
    "def _df_to_pkl(df,out_fn):\n",
    "    df.to_pickle(out_fn)"
   ]
  },
  {
   "cell_type": "code",
   "execution_count": null,
   "metadata": {},
   "outputs": [],
   "source": [
    "#exporti\n",
    "def get_og_filepath(x):\n",
    "    \"\"\"\n",
    "    Transforms a filepaths from processed ImageStudio format back to the Orginal Newspaper Navigator filepath  format\n",
    "    \"\"\"\n",
    "    b, m, e = re.split('(_data_)',x)\n",
    "    m = m.replace('_','/')\n",
    "    e = re.split('(\\d{3}_\\d{1}_\\d{2}.jpg)',e)\n",
    "    return b+m+e[0].replace('_','/') +e[1]"
   ]
  },
  {
   "cell_type": "code",
   "execution_count": null,
   "metadata": {},
   "outputs": [],
   "source": [
    "#export\n",
    "def anno_sample_merge(sample_df: pd.DataFrame, annotation_df: pd.DataFrame) -> pd.DataFrame:\n",
    "    \"\"\"anno_sample_merge merges a DataFrame containing a sample\n",
    "    from Newspaper Navigator and a DataFrame containing annotations\n",
    "\n",
    "    Parameters\n",
    "    ----------\n",
    "    sample_df : pd.DataFrame\n",
    "        A Pandas DataFrame which holds a sample from Newspaper Navigator Generated by `sample.nnSample()`\n",
    "    annotation_df : pd.DataFrame\n",
    "        A pandas DataFrame containing annotations loaded via the `annotate.nnAnnotations` class\n",
    "\n",
    "\n",
    "    Returns\n",
    "    -------\n",
    "    pd.DataFrame\n",
    "        A new DataFrame which merges the two input DataFrames\n",
    "    \"\"\"\n",
    "    sample_df, annotation_df = sample_df.copy(), annotation_df.copy()\n",
    "    annotation_df['id'] = annotation_df['data'].map(lambda x:get_og_filepath(x))\n",
    "    return sample_df.merge(annotation_df, left_on='filepath',right_on='id')"
   ]
  },
  {
   "cell_type": "code",
   "execution_count": null,
   "metadata": {},
   "outputs": [],
   "source": [
    "sample_df= pd.read_csv('../ph/ads/sample.csv', index_col=0)"
   ]
  },
  {
   "cell_type": "code",
   "execution_count": null,
   "metadata": {},
   "outputs": [],
   "source": []
  },
  {
   "cell_type": "code",
   "execution_count": null,
   "metadata": {},
   "outputs": [],
   "source": [
    "#export\n",
    "\n",
    "class nnAnnotations:\n",
    "    def __init__(self, df):\n",
    "        self.annotation_df = df\n",
    "        self.labels = df['result'].unique()\n",
    "        self.label_counts = df['result'].value_counts()\n",
    "\n",
    "    def __repr__(self):\n",
    "        return (f'{self.__class__.__name__}'\n",
    "                f' #annotations:{len(self.annotation_df)}')\n",
    "\n",
    "    @classmethod\n",
    "    def from_completions(cls, path, kind, drop_dupes=True, sample_df=None):\n",
    "        df = load_completions(path)\n",
    "        df = df.reset_index(drop=True) # add index\n",
    "        df['data']= df['data'].map(lambda x: x['image'])\n",
    "        df['data'] = df['data'].map(lambda x: x.split('?')[0])\n",
    "        df['data'] = df['data'].apply(lambda x: Path(x).name)\n",
    "        if any(df['data'].str.contains('-')): # removes labelstudio hash from data loaded via web interface\n",
    "            df['data'] = df['data'].str.split('-',expand=True)[1]\n",
    "        if drop_dupes:\n",
    "            df = df.drop_duplicates(subset='data',keep='last')\n",
    "        if kind=='classification':\n",
    "            empty_rows = df[df['result'].apply(lambda x:len(x)==0)].index\n",
    "            df = df.drop(empty_rows)\n",
    "            df['result'] = df['result'].map(lambda x: x[0])\n",
    "        if kind=='label':\n",
    "            df['result'] = df['result'].map(lambda x: \"|\".join(map(str,x)) if len(x) >=1 else x)\n",
    "            df['result'] = df['result'].map(lambda x:\"\" if len(x)==0 else x)\n",
    "        return cls(df)\n",
    "\n",
    "    def merge_sample(self, sample_df):\n",
    "        self.merged_df = anno_sample_merge(sample_df,self.annotation_df)\n",
    "\n",
    "    def export_merged(self, out_fn):\n",
    "        self.merged_df.to_csv(out_fn)\n",
    "\n",
    "    def export_annotations(self, out_fn):\n",
    "        df = self.annotation_df\n",
    "        if not Path(out_fn).exists():\n",
    "            Path(out_fn).touch()\n",
    "        suffix = Path(out_fn).suffix\n",
    "        if suffix == '.csv':\n",
    "            _df_to_csv(df, out_fn)\n",
    "        if suffix == '.json':\n",
    "            _df_to_json(df,out_fn)\n",
    "        if suffix == '.pkl':\n",
    "            _df_to_pkl(df,out_fn)"
   ]
  },
  {
   "cell_type": "code",
   "execution_count": null,
   "metadata": {},
   "outputs": [],
   "source": []
  },
  {
   "cell_type": "code",
   "execution_count": null,
   "metadata": {},
   "outputs": [
    {
     "data": {
      "text/markdown": [
       "<h2 id=\"nnAnnotations\" class=\"doc_header\"><code>class</code> <code>nnAnnotations</code><a href=\"\" class=\"source_link\" style=\"float:right\">[source]</a></h2>\n",
       "\n",
       "> <code>nnAnnotations</code>(**`df`**)\n",
       "\n"
      ],
      "text/plain": [
       "<IPython.core.display.Markdown object>"
      ]
     },
     "metadata": {},
     "output_type": "display_data"
    }
   ],
   "source": [
    "show_doc(nnAnnotations)"
   ]
  },
  {
   "cell_type": "code",
   "execution_count": null,
   "metadata": {},
   "outputs": [
    {
     "data": {
      "text/markdown": [
       "<h4 id=\"nnAnnotations.from_completions\" class=\"doc_header\"><code>nnAnnotations.from_completions</code><a href=\"__main__.py#L13\" class=\"source_link\" style=\"float:right\">[source]</a></h4>\n",
       "\n",
       "> <code>nnAnnotations.from_completions</code>(**`path`**, **`kind`**, **`drop_dupes`**=*`True`*, **`sample_df`**=*`None`*)\n",
       "\n"
      ],
      "text/plain": [
       "<IPython.core.display.Markdown object>"
      ]
     },
     "metadata": {},
     "output_type": "display_data"
    }
   ],
   "source": [
    "show_doc(nnAnnotations.from_completions)"
   ]
  },
  {
   "cell_type": "code",
   "execution_count": null,
   "metadata": {},
   "outputs": [],
   "source": [
    "annotations = nnAnnotations.from_completions('../ph/ads/ad_annotations/', 'classification')"
   ]
  },
  {
   "cell_type": "code",
   "execution_count": null,
   "metadata": {},
   "outputs": [
    {
     "data": {
      "text/plain": [
       "nnAnnotations #annotations:549"
      ]
     },
     "execution_count": null,
     "metadata": {},
     "output_type": "execute_result"
    }
   ],
   "source": [
    "annotations"
   ]
  },
  {
   "cell_type": "code",
   "execution_count": null,
   "metadata": {},
   "outputs": [
    {
     "data": {
      "text/plain": [
       "array(['illustrations', 'text-only'], dtype=object)"
      ]
     },
     "execution_count": null,
     "metadata": {},
     "output_type": "execute_result"
    }
   ],
   "source": [
    "annotations.labels"
   ]
  },
  {
   "cell_type": "code",
   "execution_count": null,
   "metadata": {},
   "outputs": [
    {
     "data": {
      "text/plain": [
       "text-only        376\n",
       "illustrations    173\n",
       "Name: result, dtype: int64"
      ]
     },
     "execution_count": null,
     "metadata": {},
     "output_type": "execute_result"
    }
   ],
   "source": [
    "annotations.label_counts"
   ]
  },
  {
   "cell_type": "code",
   "execution_count": null,
   "metadata": {},
   "outputs": [
    {
     "data": {
      "text/markdown": [
       "<h4 id=\"nnAnnotations.merge_sample\" class=\"doc_header\"><code>nnAnnotations.merge_sample</code><a href=\"__main__.py#L33\" class=\"source_link\" style=\"float:right\">[source]</a></h4>\n",
       "\n",
       "> <code>nnAnnotations.merge_sample</code>(**`sample_df`**)\n",
       "\n"
      ],
      "text/plain": [
       "<IPython.core.display.Markdown object>"
      ]
     },
     "metadata": {},
     "output_type": "display_data"
    }
   ],
   "source": [
    "show_doc(nnAnnotations.merge_sample)"
   ]
  },
  {
   "cell_type": "code",
   "execution_count": null,
   "metadata": {},
   "outputs": [
    {
     "data": {
      "text/html": [
       "<div>\n",
       "<style scoped>\n",
       "    .dataframe tbody tr th:only-of-type {\n",
       "        vertical-align: middle;\n",
       "    }\n",
       "\n",
       "    .dataframe tbody tr th {\n",
       "        vertical-align: top;\n",
       "    }\n",
       "\n",
       "    .dataframe thead th {\n",
       "        text-align: right;\n",
       "    }\n",
       "</style>\n",
       "<table border=\"1\" class=\"dataframe\">\n",
       "  <thead>\n",
       "    <tr style=\"text-align: right;\">\n",
       "      <th></th>\n",
       "      <th>filepath</th>\n",
       "      <th>pub_date</th>\n",
       "      <th>page_seq_num</th>\n",
       "      <th>edition_seq_num</th>\n",
       "      <th>batch</th>\n",
       "      <th>lccn</th>\n",
       "      <th>box</th>\n",
       "      <th>score</th>\n",
       "      <th>ocr</th>\n",
       "      <th>place_of_publication</th>\n",
       "      <th>geographic_coverage</th>\n",
       "      <th>name</th>\n",
       "      <th>publisher</th>\n",
       "      <th>url</th>\n",
       "      <th>page_url</th>\n",
       "      <th>created_at</th>\n",
       "      <th>id</th>\n",
       "      <th>lead_time</th>\n",
       "      <th>result</th>\n",
       "      <th>data</th>\n",
       "    </tr>\n",
       "  </thead>\n",
       "  <tbody>\n",
       "    <tr>\n",
       "      <th>0</th>\n",
       "      <td>iahi_gastly_ver01/data/sn82015737/00279529091/...</td>\n",
       "      <td>1860-03-09</td>\n",
       "      <td>447</td>\n",
       "      <td>1</td>\n",
       "      <td>iahi_gastly_ver01</td>\n",
       "      <td>sn82015737</td>\n",
       "      <td>[Decimal('0.30762831315880534'), Decimal('0.04...</td>\n",
       "      <td>0.950152</td>\n",
       "      <td>['JTO', 'TMCE', 'An', 't%E', '3eott', 'County'...</td>\n",
       "      <td>Davenport, Iowa</td>\n",
       "      <td>['Iowa--Scott--Davenport']</td>\n",
       "      <td>Daily Democrat and news. [volume]</td>\n",
       "      <td>Maguire, Richardson &amp; Co.</td>\n",
       "      <td>https://news-navigator.labs.loc.gov/data/iahi_...</td>\n",
       "      <td>https://chroniclingamerica.loc.gov/data/batche...</td>\n",
       "      <td>1602237486</td>\n",
       "      <td>iahi_gastly_ver01/data/sn82015737/00279529091/...</td>\n",
       "      <td>0.838</td>\n",
       "      <td>text-only</td>\n",
       "      <td>iahi_gastly_ver01_data_sn82015737_00279529091_...</td>\n",
       "    </tr>\n",
       "    <tr>\n",
       "      <th>1</th>\n",
       "      <td>ohi_cobweb_ver04/data/sn85026050/00280775848/1...</td>\n",
       "      <td>1860-08-17</td>\n",
       "      <td>359</td>\n",
       "      <td>1</td>\n",
       "      <td>ohi_cobweb_ver04</td>\n",
       "      <td>sn85026050</td>\n",
       "      <td>[Decimal('0.5799164973813336'), Decimal('0.730...</td>\n",
       "      <td>0.985859</td>\n",
       "      <td>['9', 'BI.', 'I', '.QJtf', 'A', 'never', 'fall...</td>\n",
       "      <td>Fremont, Sandusky County [Ohio]</td>\n",
       "      <td>['Ohio--Sandusky--Fremont']</td>\n",
       "      <td>Fremont journal. [volume]</td>\n",
       "      <td>I.W. Booth</td>\n",
       "      <td>https://news-navigator.labs.loc.gov/data/ohi_c...</td>\n",
       "      <td>https://chroniclingamerica.loc.gov/data/batche...</td>\n",
       "      <td>1602236992</td>\n",
       "      <td>ohi_cobweb_ver04/data/sn85026050/00280775848/1...</td>\n",
       "      <td>7.593</td>\n",
       "      <td>illustrations</td>\n",
       "      <td>ohi_cobweb_ver04_data_sn85026050_00280775848_1...</td>\n",
       "    </tr>\n",
       "  </tbody>\n",
       "</table>\n",
       "</div>"
      ],
      "text/plain": [
       "                                            filepath    pub_date  \\\n",
       "0  iahi_gastly_ver01/data/sn82015737/00279529091/...  1860-03-09   \n",
       "1  ohi_cobweb_ver04/data/sn85026050/00280775848/1...  1860-08-17   \n",
       "\n",
       "   page_seq_num  edition_seq_num              batch        lccn  \\\n",
       "0           447                1  iahi_gastly_ver01  sn82015737   \n",
       "1           359                1   ohi_cobweb_ver04  sn85026050   \n",
       "\n",
       "                                                 box     score  \\\n",
       "0  [Decimal('0.30762831315880534'), Decimal('0.04...  0.950152   \n",
       "1  [Decimal('0.5799164973813336'), Decimal('0.730...  0.985859   \n",
       "\n",
       "                                                 ocr  \\\n",
       "0  ['JTO', 'TMCE', 'An', 't%E', '3eott', 'County'...   \n",
       "1  ['9', 'BI.', 'I', '.QJtf', 'A', 'never', 'fall...   \n",
       "\n",
       "              place_of_publication          geographic_coverage  \\\n",
       "0                  Davenport, Iowa   ['Iowa--Scott--Davenport']   \n",
       "1  Fremont, Sandusky County [Ohio]  ['Ohio--Sandusky--Fremont']   \n",
       "\n",
       "                                name                  publisher  \\\n",
       "0  Daily Democrat and news. [volume]  Maguire, Richardson & Co.   \n",
       "1          Fremont journal. [volume]                 I.W. Booth   \n",
       "\n",
       "                                                 url  \\\n",
       "0  https://news-navigator.labs.loc.gov/data/iahi_...   \n",
       "1  https://news-navigator.labs.loc.gov/data/ohi_c...   \n",
       "\n",
       "                                            page_url  created_at  \\\n",
       "0  https://chroniclingamerica.loc.gov/data/batche...  1602237486   \n",
       "1  https://chroniclingamerica.loc.gov/data/batche...  1602236992   \n",
       "\n",
       "                                                  id  lead_time  \\\n",
       "0  iahi_gastly_ver01/data/sn82015737/00279529091/...      0.838   \n",
       "1  ohi_cobweb_ver04/data/sn85026050/00280775848/1...      7.593   \n",
       "\n",
       "          result                                               data  \n",
       "0      text-only  iahi_gastly_ver01_data_sn82015737_00279529091_...  \n",
       "1  illustrations  ohi_cobweb_ver04_data_sn85026050_00280775848_1...  "
      ]
     },
     "execution_count": null,
     "metadata": {},
     "output_type": "execute_result"
    }
   ],
   "source": [
    "annotations.merge_sample(sample_df)\n",
    "annotations.merged_df.head(2)"
   ]
  },
  {
   "cell_type": "code",
   "execution_count": null,
   "metadata": {},
   "outputs": [
    {
     "data": {
      "text/markdown": [
       "<h4 id=\"nnAnnotations.export_merged\" class=\"doc_header\"><code>nnAnnotations.export_merged</code><a href=\"__main__.py#L36\" class=\"source_link\" style=\"float:right\">[source]</a></h4>\n",
       "\n",
       "> <code>nnAnnotations.export_merged</code>(**`out_fn`**)\n",
       "\n"
      ],
      "text/plain": [
       "<IPython.core.display.Markdown object>"
      ]
     },
     "metadata": {},
     "output_type": "display_data"
    }
   ],
   "source": [
    "show_doc(nnAnnotations.export_merged)"
   ]
  },
  {
   "cell_type": "code",
   "execution_count": null,
   "metadata": {},
   "outputs": [],
   "source": [
    "annotations.export_merged('testmerge.csv')"
   ]
  },
  {
   "cell_type": "code",
   "execution_count": null,
   "metadata": {},
   "outputs": [
    {
     "data": {
      "text/markdown": [
       "<h4 id=\"nnAnnotations.from_completions\" class=\"doc_header\"><code>nnAnnotations.from_completions</code><a href=\"__main__.py#L13\" class=\"source_link\" style=\"float:right\">[source]</a></h4>\n",
       "\n",
       "> <code>nnAnnotations.from_completions</code>(**`path`**, **`kind`**, **`drop_dupes`**=*`True`*, **`sample_df`**=*`None`*)\n",
       "\n"
      ],
      "text/plain": [
       "<IPython.core.display.Markdown object>"
      ]
     },
     "metadata": {},
     "output_type": "display_data"
    }
   ],
   "source": [
    "show_doc(nnAnnotations.from_completions)"
   ]
  },
  {
   "cell_type": "code",
   "execution_count": null,
   "metadata": {},
   "outputs": [],
   "source": [
    "#hide \n",
    "Path('testmerge.csv').unlink()"
   ]
  },
  {
   "cell_type": "code",
   "execution_count": null,
   "metadata": {},
   "outputs": [
    {
     "data": {
      "text/html": [
       "<div>\n",
       "<style scoped>\n",
       "    .dataframe tbody tr th:only-of-type {\n",
       "        vertical-align: middle;\n",
       "    }\n",
       "\n",
       "    .dataframe tbody tr th {\n",
       "        vertical-align: top;\n",
       "    }\n",
       "\n",
       "    .dataframe thead th {\n",
       "        text-align: right;\n",
       "    }\n",
       "</style>\n",
       "<table border=\"1\" class=\"dataframe\">\n",
       "  <thead>\n",
       "    <tr style=\"text-align: right;\">\n",
       "      <th></th>\n",
       "      <th>created_at</th>\n",
       "      <th>id</th>\n",
       "      <th>lead_time</th>\n",
       "      <th>result</th>\n",
       "      <th>data</th>\n",
       "    </tr>\n",
       "  </thead>\n",
       "  <tbody>\n",
       "    <tr>\n",
       "      <th>0</th>\n",
       "      <td>1602237290</td>\n",
       "      <td>457001</td>\n",
       "      <td>1.014</td>\n",
       "      <td>illustrations</td>\n",
       "      <td>txdn_argentina_ver01_data_sn84022109_002111018...</td>\n",
       "    </tr>\n",
       "    <tr>\n",
       "      <th>1</th>\n",
       "      <td>1602237157</td>\n",
       "      <td>179001</td>\n",
       "      <td>2.068</td>\n",
       "      <td>text-only</td>\n",
       "      <td>khi_earhart_ver01_data_sn85032814_00237283260_...</td>\n",
       "    </tr>\n",
       "  </tbody>\n",
       "</table>\n",
       "</div>"
      ],
      "text/plain": [
       "   created_at      id  lead_time         result  \\\n",
       "0  1602237290  457001      1.014  illustrations   \n",
       "1  1602237157  179001      2.068      text-only   \n",
       "\n",
       "                                                data  \n",
       "0  txdn_argentina_ver01_data_sn84022109_002111018...  \n",
       "1  khi_earhart_ver01_data_sn85032814_00237283260_...  "
      ]
     },
     "execution_count": null,
     "metadata": {},
     "output_type": "execute_result"
    }
   ],
   "source": [
    "annotations = nnAnnotations.from_completions('../ph/ads/ad_annotations/', 'classification')\n",
    "annotations.annotation_df.head(2)"
   ]
  },
  {
   "cell_type": "code",
   "execution_count": null,
   "metadata": {},
   "outputs": [
    {
     "name": "stdout",
     "output_type": "stream",
     "text": [
      "Converted 00_core.ipynb.\n",
      "Converted 01_sample.ipynb.\n",
      "Converted 02_annotate.ipynb.\n",
      "Converted 03_inference.ipynb.\n",
      "Converted index.ipynb.\n"
     ]
    }
   ],
   "source": [
    "from nbdev.export import notebook2script\n",
    "notebook2script()"
   ]
  }
 ],
 "metadata": {
  "kernelspec": {
   "display_name": "nnAnnotator",
   "language": "python",
   "name": "nnannotator"
  }
 },
 "nbformat": 4,
 "nbformat_minor": 4
}
