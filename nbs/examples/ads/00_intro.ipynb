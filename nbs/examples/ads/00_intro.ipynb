{
 "cells": [
  {
   "cell_type": "markdown",
   "metadata": {},
   "source": [
    "# A (brief) history of advertising in US Newspapers using computer vision\n",
    "> Using computer vision to explore ads in the Newspaper Navigator dataset"
   ]
  },
  {
   "cell_type": "markdown",
   "metadata": {},
   "source": [
    "## Overview\n",
    "\n",
    "Working with digitsed historic materials at scale poses some challenges. This series of notebooks is intended to give an rough overview of some of the considerations involved. It is intended as an 'extension' to a Programming Historian lesson \\ # TODO link to PH lesson. It is not intended to model best practice. \n",
    "\n",
    "Each of these notebooks looks at a particular stage in a machine learning pipeline. "
   ]
  },
  {
   "cell_type": "markdown",
   "metadata": {},
   "source": [
    "## Our question\n",
    "\n",
    "Visual content in advertising "
   ]
  },
  {
   "cell_type": "markdown",
   "metadata": {},
   "source": [
    "### Working at scale: sampling "
   ]
  },
  {
   "cell_type": "markdown",
   "metadata": {},
   "source": [
    "### How our training data interacts with out models: can CNNs time travel?\n",
    "\n",
    "Although we may want to use computer vision to answer humanities questions, we should still consider how these models work and where they might not work. This may not involve developing new computer vision model archiectures as much as trying to fidn ways of evaluating existing modles for biases on the data you are going to be working with. \n",
    "\n",
    "Notebook 02 # TODO add link explores an example of this type of question by looking at whether clasisifeirs trained on one decade will be effective at making predictions in a much later or earlier time period "
   ]
  },
  {
   "cell_type": "markdown",
   "metadata": {},
   "source": [
    "### Images as data: Inference and working with outputs"
   ]
  }
 ],
 "metadata": {
  "kernelspec": {
   "display_name": "nnAnnotator",
   "language": "python",
   "name": "nnannotator"
  }
 },
 "nbformat": 4,
 "nbformat_minor": 4
}
