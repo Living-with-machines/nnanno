{
 "cells": [
  {
   "cell_type": "markdown",
   "metadata": {},
   "source": [
    "# Creating a sample \n",
    "> Classifying visual content in adverts"
   ]
  },
  {
   "cell_type": "code",
   "execution_count": null,
   "metadata": {},
   "outputs": [],
   "source": [
    "# all_slow"
   ]
  },
  {
   "cell_type": "markdown",
   "metadata": {},
   "source": [
    "## Aims\n",
    "This notebook will go through the process of creating a sample for input to a machine learning model. The code is pretty minimal. A good chunk of the notebook is asking questions about the best apporach. \n",
    "\n",
    "## Creating a sample for the period 1850-1950 \n",
    "\n",
    "We have a few questions to consider when sampling:\n",
    "- What do we want the model to be able to do well at?\n",
    "- Newspaper navigator training data\n",
    "- Models on models on models (using outputs from other models) \n",
    "- How much time can we put into annotating?"
   ]
  },
  {
   "cell_type": "markdown",
   "metadata": {},
   "source": [
    "First we import some modules from `nnanno` and `Path` from the `pathlib` from the Python standard library which makes working with paths delightful. "
   ]
  },
  {
   "cell_type": "code",
   "execution_count": null,
   "metadata": {},
   "outputs": [],
   "source": [
    "from pathlib import Path"
   ]
  },
  {
   "cell_type": "code",
   "execution_count": null,
   "metadata": {},
   "outputs": [],
   "source": [
    "from nnanno.sample import *\n",
    "from nnanno.annotate import *"
   ]
  },
  {
   "cell_type": "markdown",
   "metadata": {},
   "source": [
    "We create an `nnSampler` instance which we can use to creat our sample"
   ]
  },
  {
   "cell_type": "code",
   "execution_count": null,
   "metadata": {},
   "outputs": [],
   "source": [
    "sampler = nnSampler()"
   ]
  },
  {
   "cell_type": "markdown",
   "metadata": {},
   "source": [
    "### Choosing paramters for sampling \n",
    "\n",
    "One of the first decisions we need to make is which paramters we'll use to create our sample. We can access the 'population' of the Newspaper Navigator data via `population`. This returns a Pandas DataFrame containing the number of ads for each year. We can quickly plot this to see the distribution over time"
   ]
  },
  {
   "cell_type": "code",
   "execution_count": null,
   "metadata": {},
   "outputs": [
    {
     "data": {
      "text/plain": [
       "<AxesSubplot:>"
      ]
     },
     "execution_count": null,
     "metadata": {},
     "output_type": "execute_result"
    },
    {
     "data": {
      "image/png": "[encoded data removed]",
      "text/plain": [
       "<Figure size 432x288 with 1 Axes>"
      ]
     },
     "metadata": {
      "needs_background": "light"
     },
     "output_type": "display_data"
    }
   ],
   "source": [
    "sampler.population[[\"total\", \"ads_count\"]].plot()"
   ]
  },
  {
   "cell_type": "markdown",
   "metadata": {},
   "source": [
    "We can see that the number of adverts grows over time and drops off sharply. This trend broadly follows the same pattern as the overall dataset. \n",
    "\n",
    "We have two questions when creating a sample to train a model to classify images of ads as 'visual' or 'not visual':\n",
    "- How much to sample?\n",
    "- How to sample?\n",
    "\n",
    "For the first question, we'll create a sample of ~1000 images. Hopefully, this will be a good balance between generating a big enough training dataset and not having to annotate too much. Since we're going to be annotating binary labels, the cognitive load of annotating becomes much lower, which should also help make a higher number of annotations relatively quick to do. Whether this number is enough to train a good classifier will depend on what we're trying to label. There may be a temptation to do all of the annotations initially, but we'll often learn things about our data from training a model, so we may want to try and get to this stage sooner. We can come back to the sampling/annotation step if we need. \n",
    "\n",
    "How to sample? We currently have a few main options:\n",
    "- Sample for every year or take a sample for every `n` years\n",
    "- Sample a specific  number for each year, i.e. 100 examples per year\n",
    "- Sample a fraction from each year, i.e. 1% per year\n",
    "\n",
    "Since we are working with an uneven distribution of samples, we could reasonably choose to sample a fraction for each year. However, because we are training a computer vision model with this data, we may want to help ensure our model works equally well for every year by showing an even number of examples for each year. Whether this (i.e. the period of the training data is vital for accuracy on all periods) is essential or not, we'll begin to look at in the following notebook. "
   ]
  },
  {
   "cell_type": "markdown",
   "metadata": {},
   "source": [
    "The time it takes to generate this sample will depend on your connection speed. If you have previously requested the same data the results will be cached making the request quicker. "
   ]
  },
  {
   "cell_type": "code",
   "execution_count": null,
   "metadata": {},
   "outputs": [],
   "source": [
    "df = sampler.create_sample(1000, \"ads\", step=10, year_sample=False)"
   ]
  },
  {
   "cell_type": "markdown",
   "metadata": {},
   "source": [
    "We now have our sample inside a dataframe. We create a folder to keep our data (semi) organised"
   ]
  },
  {
   "cell_type": "code",
   "execution_count": null,
   "metadata": {},
   "outputs": [],
   "source": [
    "Path(\"data\").mkdir()"
   ]
  },
  {
   "cell_type": "markdown",
   "metadata": {},
   "source": [
    "We can use `create_label_studio_json` to turn this sample into a json file that we can use for creating annotation tasks in the [label-studio](labelstud.io/) annotation software. "
   ]
  },
  {
   "cell_type": "code",
   "execution_count": null,
   "metadata": {},
   "outputs": [],
   "source": [
    "create_label_studio_json(sampler, \"data/ad_tasks.json\", size=(400, 400))"
   ]
  },
  {
   "cell_type": "markdown",
   "metadata": {},
   "source": [
    "This command returns a json file containing the IIIF links (with specified) sizes that we can use to load images into label-studio.\n",
    "\n",
    "We'll create a new label studio project using the `label-studio init` command. See the label studio documentation for more details on options for [setup](https://labelstud.io/guide/setup.html). In this example I used the GUI to load in the `ads_task.json` file for creating the tasks. \"Tasks\" here means the images we are going to annotate. "
   ]
  },
  {
   "cell_type": "markdown",
   "metadata": {},
   "source": [
    "We use the following XML file as our 'label conig'. Again the [docs](https://labelstud.io/guide/setup.html#Labeling-config) for label studio give more information on how to create these configs. "
   ]
  },
  {
   "cell_type": "markdown",
   "metadata": {},
   "source": [
    "```xml\n",
    "<View>\n",
    "  <Image name=\"image\" value=\"$image\"/>\n",
    "  <Choices name=\"choice\" toName=\"image\" showInLine=\"true\">\n",
    "    <Choice value=\"visual\" background=\"blue\"/>\n",
    "    <Choice value=\"text_only\" background=\"green\" />\n",
    "  </Choices>\n",
    "</View>\n",
    "```"
   ]
  },
  {
   "cell_type": "markdown",
   "metadata": {},
   "source": [
    "The next step is to annotate. For this task the annotations didn't take too long (an hour or so) since the labels are quite 'obvious' to a human eye and since we only have two options to choose from. "
   ]
  },
  {
   "cell_type": "markdown",
   "metadata": {},
   "source": [
    "## Loading out annotations\n",
    "When we have completed the annotations we can export them as a CSV file from label studio. We can then use the `load_annotations` function to parse this CSV into a Pandas DataFrame"
   ]
  },
  {
   "cell_type": "code",
   "execution_count": null,
   "metadata": {},
   "outputs": [
    {
     "data": {
      "text/html": [
       "<div>\n",
       "<style scoped>\n",
       "    .dataframe tbody tr th:only-of-type {\n",
       "        vertical-align: middle;\n",
       "    }\n",
       "\n",
       "    .dataframe tbody tr th {\n",
       "        vertical-align: top;\n",
       "    }\n",
       "\n",
       "    .dataframe thead th {\n",
       "        text-align: right;\n",
       "    }\n",
       "</style>\n",
       "<table border=\"1\" class=\"dataframe\">\n",
       "  <thead>\n",
       "    <tr style=\"text-align: right;\">\n",
       "      <th></th>\n",
       "      <th>batch</th>\n",
       "      <th>box</th>\n",
       "      <th>edition_seq_num</th>\n",
       "      <th>filepath</th>\n",
       "      <th>geographic_coverage</th>\n",
       "      <th>image</th>\n",
       "      <th>lccn</th>\n",
       "      <th>name</th>\n",
       "      <th>ocr</th>\n",
       "      <th>page_seq_num</th>\n",
       "      <th>page_url</th>\n",
       "      <th>place_of_publication</th>\n",
       "      <th>pub_date</th>\n",
       "      <th>publisher</th>\n",
       "      <th>score</th>\n",
       "      <th>url</th>\n",
       "      <th>id</th>\n",
       "      <th>choice</th>\n",
       "      <th>label</th>\n",
       "    </tr>\n",
       "  </thead>\n",
       "  <tbody>\n",
       "    <tr>\n",
       "      <th>0</th>\n",
       "      <td>okhi_ham_ver01</td>\n",
       "      <td>[0.5706211635044642, 0.7756719712174839, 0.705...</td>\n",
       "      <td>1</td>\n",
       "      <td>okhi_ham_ver01/data/sn86090528/00295864655/192...</td>\n",
       "      <td>['Oklahoma--Grady--Chickasha']</td>\n",
       "      <td>https://chroniclingamerica.loc.gov/iiif/2/okhi...</td>\n",
       "      <td>sn86090528</td>\n",
       "      <td>The Chickasha daily express.</td>\n",
       "      <td>['EiLIMJNATE', 'QIESTION', '6', 'o;m', 'rest',...</td>\n",
       "      <td>762</td>\n",
       "      <td>https://chroniclingamerica.loc.gov/data/batche...</td>\n",
       "      <td>Chickasha, Indian Territory [Okla.]</td>\n",
       "      <td>1920-08-18</td>\n",
       "      <td>A.M. Dawson</td>\n",
       "      <td>0.952871</td>\n",
       "      <td>https://news-navigator.labs.loc.gov/data/okhi_...</td>\n",
       "      <td>729</td>\n",
       "      <td>text_only</td>\n",
       "      <td>text_only</td>\n",
       "    </tr>\n",
       "  </tbody>\n",
       "</table>\n",
       "</div>"
      ],
      "text/plain": [
       "            batch                                                box  \\\n",
       "0  okhi_ham_ver01  [0.5706211635044642, 0.7756719712174839, 0.705...   \n",
       "\n",
       "   edition_seq_num                                           filepath  \\\n",
       "0                1  okhi_ham_ver01/data/sn86090528/00295864655/192...   \n",
       "\n",
       "              geographic_coverage  \\\n",
       "0  ['Oklahoma--Grady--Chickasha']   \n",
       "\n",
       "                                               image        lccn  \\\n",
       "0  https://chroniclingamerica.loc.gov/iiif/2/okhi...  sn86090528   \n",
       "\n",
       "                           name  \\\n",
       "0  The Chickasha daily express.   \n",
       "\n",
       "                                                 ocr  page_seq_num  \\\n",
       "0  ['EiLIMJNATE', 'QIESTION', '6', 'o;m', 'rest',...           762   \n",
       "\n",
       "                                            page_url  \\\n",
       "0  https://chroniclingamerica.loc.gov/data/batche...   \n",
       "\n",
       "                  place_of_publication    pub_date    publisher     score  \\\n",
       "0  Chickasha, Indian Territory [Okla.]  1920-08-18  A.M. Dawson  0.952871   \n",
       "\n",
       "                                                 url   id     choice  \\\n",
       "0  https://news-navigator.labs.loc.gov/data/okhi_...  729  text_only   \n",
       "\n",
       "       label  \n",
       "0  text_only  "
      ]
     },
     "execution_count": null,
     "metadata": {},
     "output_type": "execute_result"
    }
   ],
   "source": [
    "df = load_annotations_csv(\"data/results.csv\")\n",
    "df.head(1)"
   ]
  },
  {
   "cell_type": "markdown",
   "metadata": {},
   "source": [
    "# Download annotations\n",
    "\n",
    "Now we have loaded our annotations, it's likely we want to download them locally. We can do this using the `sampler.download_sample` method. This can be useful if you are working locally when doing the annotations but want to work in the cloud to train a model. The annotations csv is small enough to store in version control and the images themselves can be download once in the cloud. "
   ]
  },
  {
   "cell_type": "code",
   "execution_count": null,
   "metadata": {},
   "outputs": [
    {
     "data": {
      "application/vnd.jupyter.widget-view+json": {
       "model_id": "e88bb8f0aba146dcaa6c2ad532154992",
       "version_major": 2,
       "version_minor": 0
      },
      "text/plain": [
       "HBox(children=(HTML(value=''), FloatProgress(value=0.0, max=1085.0), HTML(value='')))"
      ]
     },
     "metadata": {},
     "output_type": "display_data"
    },
    {
     "name": "stdout",
     "output_type": "stream",
     "text": [
      "\n"
     ]
    }
   ],
   "source": [
    "sampler.download_sample(\"data/images\", original=True, df=df)"
   ]
  }
 ],
 "metadata": {
  "kernelspec": {
   "display_name": "nnAnnotator",
   "language": "python",
   "name": "nnannotator"
  }
 },
 "nbformat": 4,
 "nbformat_minor": 4
}
