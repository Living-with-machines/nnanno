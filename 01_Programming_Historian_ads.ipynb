{
 "cells": [
  {
   "cell_type": "markdown",
   "metadata": {},
   "source": [
    "# Preparing a computer vision training set for classifying advertisements \n",
    "\n",
    "This notebook covers the steps involved in preparing a labeled dataset of images derived from the Newspaper Navigator dataset. Specifically this training set is primarily intended for use in a Programming Historian lesson on computer vision. \n",
    "\n",
    "## Aims \n",
    "This notebook cover the steps to creating a dataset based on the news-navigator dataset. This includes:\n",
    "- creating a subsample of the news navigator training set\n",
    "- setting up the annotation process\n",
    "- processing the annotations \n",
    "- uploading the dataset to Zenodo\n",
    "\n",
    "It doesn't cover training a model based on this data. This process is covered in a the programming historian lesson for which this dataset was created. \n",
    "\n",
    "## Requirements \n",
    "The easiest way to make sure you have the Python requirements available for this notebook is to install the package via PyPi into a new environment. Instructions can be found on the [README page](https://github.com/davanstrien/nnAnnotator/) for this repository."
   ]
  },
  {
   "cell_type": "markdown",
   "metadata": {},
   "source": [
    "### Importing required libraries"
   ]
  },
  {
   "cell_type": "code",
   "execution_count": 1,
   "metadata": {},
   "outputs": [],
   "source": [
    "from nnAnnotator import sample"
   ]
  },
  {
   "cell_type": "code",
   "execution_count": 2,
   "metadata": {},
   "outputs": [],
   "source": [
    "import pandas as pd\n",
    "import matplotlib.pyplot as plt\n",
    "import json \n",
    "import requests\n",
    "from pathlib import Path"
   ]
  },
  {
   "cell_type": "markdown",
   "metadata": {},
   "source": [
    "Set plot style"
   ]
  },
  {
   "cell_type": "code",
   "execution_count": 3,
   "metadata": {},
   "outputs": [],
   "source": [
    "plt.style.use('seaborn')"
   ]
  },
  {
   "cell_type": "markdown",
   "metadata": {},
   "source": [
    "## Working with newspaper navigator dataset\n",
    "The newspaper navigator dataset is available via a few different formats. nnAnnotator uses the JSON files, let's see how to access these. The JSON file is availabl via a URL that looks like this"
   ]
  },
  {
   "cell_type": "code",
   "execution_count": 4,
   "metadata": {},
   "outputs": [
    {
     "data": {
      "text/plain": [
       "'https://news-navigator.labs.loc.gov/prepackaged/1930_ads.json'"
      ]
     },
     "execution_count": 4,
     "metadata": {},
     "output_type": "execute_result"
    }
   ],
   "source": [
    "'https://news-navigator.labs.loc.gov/prepackaged/1930_ads.json'"
   ]
  },
  {
   "cell_type": "markdown",
   "metadata": {},
   "source": [
    "All of these URLS follow the same patern:\n",
    "https://news-navigator.labs.loc.gov/prepackaged/{YEAR}_{KIND}.json As a result it is very simple to grab the correct url for a year and kind of image in the dataset. This is what ```get_json_url``` does: "
   ]
  },
  {
   "cell_type": "code",
   "execution_count": 5,
   "metadata": {},
   "outputs": [
    {
     "data": {
      "text/plain": [
       "'https://news-navigator.labs.loc.gov/prepackaged/1940_ads.json'"
      ]
     },
     "execution_count": 5,
     "metadata": {},
     "output_type": "execute_result"
    }
   ],
   "source": [
    "sample.get_json_url(1940,'ads')"
   ]
  },
  {
   "cell_type": "markdown",
   "metadata": {},
   "source": [
    "Let's now take a look at an example for the maps data:"
   ]
  },
  {
   "cell_type": "code",
   "execution_count": 6,
   "metadata": {},
   "outputs": [],
   "source": [
    "url = sample.get_json_url(1900,'maps')\n",
    "with requests.get(url) as r:\n",
    "    data = json.loads(r.content)"
   ]
  },
  {
   "cell_type": "markdown",
   "metadata": {},
   "source": [
    "Take a look at the first record:"
   ]
  },
  {
   "cell_type": "code",
   "execution_count": 7,
   "metadata": {},
   "outputs": [
    {
     "data": {
      "text/plain": [
       "{'filepath': 'dlc_alf_ver01/data/sn83045462/00280655351/1900092901/0515/006_2_91.jpg',\n",
       " 'pub_date': '1900-09-29',\n",
       " 'page_seq_num': 515,\n",
       " 'edition_seq_num': 1,\n",
       " 'batch': 'dlc_alf_ver01',\n",
       " 'lccn': 'sn83045462',\n",
       " 'box': [0.7022514105902777,\n",
       "  0.022746477387920072,\n",
       "  0.970748046875,\n",
       "  0.23085515669300366],\n",
       " 'score': 0.917590856552124,\n",
       " 'ocr': ['The',\n",
       "  'Positions',\n",
       "  'of',\n",
       "  'the',\n",
       "  'Principal',\n",
       "  'Stars',\n",
       "  'wbtrh',\n",
       "  'ore',\n",
       "  'above',\n",
       "  'the',\n",
       "  'Horizon',\n",
       "  'October',\n",
       "  '1?15?31,',\n",
       "  'at',\n",
       "  '9',\n",
       "  '8?7',\n",
       "  'p.m.'],\n",
       " 'place_of_publication': 'Washington, D.C.',\n",
       " 'geographic_coverage': ['District of Columbia--Washington'],\n",
       " 'name': 'Evening star. [volume]',\n",
       " 'publisher': 'W.D. Wallach & Hope',\n",
       " 'url': 'https://news-navigator.labs.loc.gov/data/dlc_alf_ver01/data/sn83045462/00280655351/1900092901/0515/006_2_91.jpg',\n",
       " 'page_url': 'https://chroniclingamerica.loc.gov/data/batches/dlc_alf_ver01/data/sn83045462/00280655351/1900092901/0515.jp2'}"
      ]
     },
     "execution_count": 7,
     "metadata": {},
     "output_type": "execute_result"
    }
   ],
   "source": [
    "data[0]"
   ]
  },
  {
   "cell_type": "markdown",
   "metadata": {},
   "source": [
    "You can see there are a bunch of things we might be interested in using either for processing the data or for analysis. "
   ]
  },
  {
   "cell_type": "code",
   "execution_count": 8,
   "metadata": {},
   "outputs": [
    {
     "data": {
      "text/plain": [
       "dict_keys(['filepath', 'pub_date', 'page_seq_num', 'edition_seq_num', 'batch', 'lccn', 'box', 'score', 'ocr', 'place_of_publication', 'geographic_coverage', 'name', 'publisher', 'url', 'page_url'])"
      ]
     },
     "execution_count": 8,
     "metadata": {},
     "output_type": "execute_result"
    }
   ],
   "source": [
    "data[0].keys()"
   ]
  },
  {
   "cell_type": "markdown",
   "metadata": {},
   "source": [
    "Another notebook will cover the analysis part in more detail, so let's get back to the problem of constructing a dataset. "
   ]
  },
  {
   "cell_type": "markdown",
   "metadata": {},
   "source": [
    "# Sampling\n",
    "Since the aim is to create a dataset for training a machine to predict the correct labels for the images we are likely to want a sample of the full dataset rather than the whole thing. Before we decide what sort of sample size might make sense. \n",
    "\n",
    "## View the amount of images for a year\n",
    "Since each record is one image we can easily get the number of images by counting the lenght of a json file for a year and kind:"
   ]
  },
  {
   "cell_type": "code",
   "execution_count": 9,
   "metadata": {},
   "outputs": [
    {
     "name": "stdout",
     "output_type": "stream",
     "text": [
      "https://news-navigator.labs.loc.gov/prepackaged/1900_maps.json has: 1,707 image records\n"
     ]
    }
   ],
   "source": [
    "url = sample.get_json_url(1900,'maps')\n",
    "r = requests.get(url)\n",
    "data = json.loads(r.content)\n",
    "print(f'{url} has: {len(data):,} image records')"
   ]
  },
  {
   "cell_type": "markdown",
   "metadata": {},
   "source": [
    "## Out of memory data \n",
    "This works fine for the maps data but the size of some of the datasets, including those for ads, is too big to load into memory on some machine. Since we want to be able to do our create our sampling on standard device we can use  ```get_year_sizes``` to get the number of records for a type of image and a year. This function avoids loading the full data into memory so will work even if you only have a few GBs of RAM. The [Documentation]() !todo add link has more information on how this works. Let's grab the number of entries for maps:"
   ]
  },
  {
   "cell_type": "code",
   "execution_count": 10,
   "metadata": {},
   "outputs": [
    {
     "data": {
      "application/vnd.jupyter.widget-view+json": {
       "model_id": "e351c9c3f66c48ed972805911036dd07",
       "version_major": 2,
       "version_minor": 0
      },
      "text/plain": [
       "HBox(children=(FloatProgress(value=0.0, max=11.0), HTML(value='')))"
      ]
     },
     "metadata": {},
     "output_type": "display_data"
    },
    {
     "name": "stdout",
     "output_type": "stream",
     "text": [
      "\n"
     ]
    }
   ],
   "source": [
    "maps = sample.get_year_sizes('maps',step=10)"
   ]
  },
  {
   "cell_type": "markdown",
   "metadata": {},
   "source": [
    "You can also change the start and end year which default to 1850-1950 or alter the step size. This function returns a dataframe, of counts"
   ]
  },
  {
   "cell_type": "code",
   "execution_count": 11,
   "metadata": {},
   "outputs": [
    {
     "data": {
      "text/html": [
       "<div>\n",
       "<style scoped>\n",
       "    .dataframe tbody tr th:only-of-type {\n",
       "        vertical-align: middle;\n",
       "    }\n",
       "\n",
       "    .dataframe tbody tr th {\n",
       "        vertical-align: top;\n",
       "    }\n",
       "\n",
       "    .dataframe thead th {\n",
       "        text-align: right;\n",
       "    }\n",
       "</style>\n",
       "<table border=\"1\" class=\"dataframe\">\n",
       "  <thead>\n",
       "    <tr style=\"text-align: right;\">\n",
       "      <th></th>\n",
       "      <th>maps_count</th>\n",
       "    </tr>\n",
       "  </thead>\n",
       "  <tbody>\n",
       "    <tr>\n",
       "      <th>1850</th>\n",
       "      <td>5</td>\n",
       "    </tr>\n",
       "    <tr>\n",
       "      <th>1860</th>\n",
       "      <td>14</td>\n",
       "    </tr>\n",
       "    <tr>\n",
       "      <th>1870</th>\n",
       "      <td>276</td>\n",
       "    </tr>\n",
       "    <tr>\n",
       "      <th>1880</th>\n",
       "      <td>1043</td>\n",
       "    </tr>\n",
       "    <tr>\n",
       "      <th>1890</th>\n",
       "      <td>691</td>\n",
       "    </tr>\n",
       "    <tr>\n",
       "      <th>1900</th>\n",
       "      <td>1707</td>\n",
       "    </tr>\n",
       "    <tr>\n",
       "      <th>1910</th>\n",
       "      <td>4979</td>\n",
       "    </tr>\n",
       "    <tr>\n",
       "      <th>1920</th>\n",
       "      <td>4744</td>\n",
       "    </tr>\n",
       "    <tr>\n",
       "      <th>1930</th>\n",
       "      <td>3348</td>\n",
       "    </tr>\n",
       "    <tr>\n",
       "      <th>1940</th>\n",
       "      <td>2907</td>\n",
       "    </tr>\n",
       "    <tr>\n",
       "      <th>1950</th>\n",
       "      <td>1952</td>\n",
       "    </tr>\n",
       "  </tbody>\n",
       "</table>\n",
       "</div>"
      ],
      "text/plain": [
       "      maps_count\n",
       "1850           5\n",
       "1860          14\n",
       "1870         276\n",
       "1880        1043\n",
       "1890         691\n",
       "1900        1707\n",
       "1910        4979\n",
       "1920        4744\n",
       "1930        3348\n",
       "1940        2907\n",
       "1950        1952"
      ]
     },
     "execution_count": 11,
     "metadata": {},
     "output_type": "execute_result"
    }
   ],
   "source": [
    "maps"
   ]
  },
  {
   "cell_type": "markdown",
   "metadata": {},
   "source": [
    "You can see that the number of maps are quite small. Let's now turn to building a dataset for advert type. "
   ]
  },
  {
   "cell_type": "markdown",
   "metadata": {},
   "source": [
    "# Building a training set for classifying advert types\n",
    "\n",
    "We want to build a dataset which labels if an advert image is 'text only' or contains an illustration. "
   ]
  },
  {
   "cell_type": "markdown",
   "metadata": {},
   "source": [
    "### Text only \n",
    "\n",
    "<figure>\n",
    "    <img src=\"figs/text_ad.jpg\" width=\"250\">\n",
    "    <figcaption>Contains only text, in this case we don't count a fancy border as an illustration, or fancy typography which might make a shape but still consits of text.</figcaption>\n",
    "</figure> \n"
   ]
  },
  {
   "cell_type": "markdown",
   "metadata": {},
   "source": [
    "### Illustrated \n",
    "<figure>\n",
    "    <img src=\"figs/text_ad.jpg\" width=\"250\">\n",
    "    <figcaption>Also contains illustrations only text, again we don't count fancy text as an illustration.</figcaption>\n",
    "</figure> "
   ]
  },
  {
   "cell_type": "markdown",
   "metadata": {},
   "source": [
    "## Loading previous counts \n",
    "\n",
    "Because the `get_year_sizes` function requires streaming all the JSON files which contain the newspaper navigator dataset it is fairly slow (depending on how fast your connection is). The `metadata/` folder in this repository already has the year counts. Since the Newspaper Navigator data probably won't change all the time you are probably better to just load this version. "
   ]
  },
  {
   "cell_type": "code",
   "execution_count": 12,
   "metadata": {},
   "outputs": [
    {
     "data": {
      "text/html": [
       "<div>\n",
       "<style scoped>\n",
       "    .dataframe tbody tr th:only-of-type {\n",
       "        vertical-align: middle;\n",
       "    }\n",
       "\n",
       "    .dataframe tbody tr th {\n",
       "        vertical-align: top;\n",
       "    }\n",
       "\n",
       "    .dataframe thead th {\n",
       "        text-align: right;\n",
       "    }\n",
       "</style>\n",
       "<table border=\"1\" class=\"dataframe\">\n",
       "  <thead>\n",
       "    <tr style=\"text-align: right;\">\n",
       "      <th></th>\n",
       "      <th>ads_count</th>\n",
       "      <th>photos_count</th>\n",
       "      <th>maps_count</th>\n",
       "      <th>illustrations_count</th>\n",
       "      <th>comics_count</th>\n",
       "      <th>cartoons_count</th>\n",
       "      <th>headlines_count</th>\n",
       "      <th>total</th>\n",
       "    </tr>\n",
       "  </thead>\n",
       "  <tbody>\n",
       "    <tr>\n",
       "      <th>1850</th>\n",
       "      <td>8841</td>\n",
       "      <td>22</td>\n",
       "      <td>5</td>\n",
       "      <td>671</td>\n",
       "      <td>9</td>\n",
       "      <td>0</td>\n",
       "      <td>11243</td>\n",
       "      <td>20791</td>\n",
       "    </tr>\n",
       "    <tr>\n",
       "      <th>1851</th>\n",
       "      <td>10065</td>\n",
       "      <td>20</td>\n",
       "      <td>6</td>\n",
       "      <td>457</td>\n",
       "      <td>7</td>\n",
       "      <td>0</td>\n",
       "      <td>12262</td>\n",
       "      <td>22817</td>\n",
       "    </tr>\n",
       "    <tr>\n",
       "      <th>1852</th>\n",
       "      <td>8764</td>\n",
       "      <td>22</td>\n",
       "      <td>10</td>\n",
       "      <td>671</td>\n",
       "      <td>10</td>\n",
       "      <td>8</td>\n",
       "      <td>13524</td>\n",
       "      <td>23009</td>\n",
       "    </tr>\n",
       "    <tr>\n",
       "      <th>1853</th>\n",
       "      <td>11517</td>\n",
       "      <td>45</td>\n",
       "      <td>5</td>\n",
       "      <td>1106</td>\n",
       "      <td>88</td>\n",
       "      <td>1</td>\n",
       "      <td>13224</td>\n",
       "      <td>25986</td>\n",
       "    </tr>\n",
       "    <tr>\n",
       "      <th>1854</th>\n",
       "      <td>15050</td>\n",
       "      <td>221</td>\n",
       "      <td>15</td>\n",
       "      <td>732</td>\n",
       "      <td>11</td>\n",
       "      <td>3</td>\n",
       "      <td>15282</td>\n",
       "      <td>31314</td>\n",
       "    </tr>\n",
       "    <tr>\n",
       "      <th>...</th>\n",
       "      <td>...</td>\n",
       "      <td>...</td>\n",
       "      <td>...</td>\n",
       "      <td>...</td>\n",
       "      <td>...</td>\n",
       "      <td>...</td>\n",
       "      <td>...</td>\n",
       "      <td>...</td>\n",
       "    </tr>\n",
       "    <tr>\n",
       "      <th>1946</th>\n",
       "      <td>185139</td>\n",
       "      <td>5945</td>\n",
       "      <td>1857</td>\n",
       "      <td>1053</td>\n",
       "      <td>3280</td>\n",
       "      <td>861</td>\n",
       "      <td>68275</td>\n",
       "      <td>266410</td>\n",
       "    </tr>\n",
       "    <tr>\n",
       "      <th>1947</th>\n",
       "      <td>181223</td>\n",
       "      <td>4188</td>\n",
       "      <td>1750</td>\n",
       "      <td>1115</td>\n",
       "      <td>3630</td>\n",
       "      <td>797</td>\n",
       "      <td>57018</td>\n",
       "      <td>249721</td>\n",
       "    </tr>\n",
       "    <tr>\n",
       "      <th>1948</th>\n",
       "      <td>152987</td>\n",
       "      <td>4282</td>\n",
       "      <td>1359</td>\n",
       "      <td>1154</td>\n",
       "      <td>3031</td>\n",
       "      <td>624</td>\n",
       "      <td>43432</td>\n",
       "      <td>206869</td>\n",
       "    </tr>\n",
       "    <tr>\n",
       "      <th>1949</th>\n",
       "      <td>154510</td>\n",
       "      <td>6015</td>\n",
       "      <td>1888</td>\n",
       "      <td>1280</td>\n",
       "      <td>3356</td>\n",
       "      <td>634</td>\n",
       "      <td>42904</td>\n",
       "      <td>210587</td>\n",
       "    </tr>\n",
       "    <tr>\n",
       "      <th>1950</th>\n",
       "      <td>154961</td>\n",
       "      <td>5630</td>\n",
       "      <td>1952</td>\n",
       "      <td>1223</td>\n",
       "      <td>3893</td>\n",
       "      <td>704</td>\n",
       "      <td>37854</td>\n",
       "      <td>206217</td>\n",
       "    </tr>\n",
       "  </tbody>\n",
       "</table>\n",
       "<p>101 rows × 8 columns</p>\n",
       "</div>"
      ],
      "text/plain": [
       "      ads_count  photos_count  maps_count  illustrations_count  comics_count  \\\n",
       "1850       8841            22           5                  671             9   \n",
       "1851      10065            20           6                  457             7   \n",
       "1852       8764            22          10                  671            10   \n",
       "1853      11517            45           5                 1106            88   \n",
       "1854      15050           221          15                  732            11   \n",
       "...         ...           ...         ...                  ...           ...   \n",
       "1946     185139          5945        1857                 1053          3280   \n",
       "1947     181223          4188        1750                 1115          3630   \n",
       "1948     152987          4282        1359                 1154          3031   \n",
       "1949     154510          6015        1888                 1280          3356   \n",
       "1950     154961          5630        1952                 1223          3893   \n",
       "\n",
       "      cartoons_count  headlines_count   total  \n",
       "1850               0            11243   20791  \n",
       "1851               0            12262   22817  \n",
       "1852               8            13524   23009  \n",
       "1853               1            13224   25986  \n",
       "1854               3            15282   31314  \n",
       "...              ...              ...     ...  \n",
       "1946             861            68275  266410  \n",
       "1947             797            57018  249721  \n",
       "1948             624            43432  206869  \n",
       "1949             634            42904  210587  \n",
       "1950             704            37854  206217  \n",
       "\n",
       "[101 rows x 8 columns]"
      ]
     },
     "execution_count": 12,
     "metadata": {},
     "output_type": "execute_result"
    }
   ],
   "source": [
    "df = pd.read_csv('metadata/all_year_counts.csv', index_col=0)\n",
    "df"
   ]
  },
  {
   "cell_type": "markdown",
   "metadata": {},
   "source": [
    "## Plotting \n",
    "\n",
    "We can use the usual pandas plotting to get an overview of this data. "
   ]
  },
  {
   "cell_type": "code",
   "execution_count": 13,
   "metadata": {},
   "outputs": [
    {
     "data": {
      "text/plain": [
       "<AxesSubplot:>"
      ]
     },
     "execution_count": 13,
     "metadata": {},
     "output_type": "execute_result"
    },
    {
     "data": {
      "image/png": "[encoded data removed]",
      "text/plain": [
       "<Figure size 576x396 with 1 Axes>"
      ]
     },
     "metadata": {},
     "output_type": "display_data"
    }
   ],
   "source": [
    "df.plot()"
   ]
  },
  {
   "cell_type": "markdown",
   "metadata": {},
   "source": [
    "### Ads as a portion of the total"
   ]
  },
  {
   "cell_type": "markdown",
   "metadata": {},
   "source": [
    "We can already see that ads make up a large proportion of the total data. Looking at ads and total only gives us a better sense of how these two relate:"
   ]
  },
  {
   "cell_type": "code",
   "execution_count": 14,
   "metadata": {},
   "outputs": [
    {
     "data": {
      "text/plain": [
       "<AxesSubplot:>"
      ]
     },
     "execution_count": 14,
     "metadata": {},
     "output_type": "execute_result"
    },
    {
     "data": {
      "image/png": "[encoded data removed]",
      "text/plain": [
       "<Figure size 576x396 with 1 Axes>"
      ]
     },
     "metadata": {},
     "output_type": "display_data"
    }
   ],
   "source": [
    "df[['ads_count','total']].plot()"
   ]
  },
  {
   "cell_type": "markdown",
   "metadata": {},
   "source": [
    "### Stopping at 1920\n",
    "We can see a steep decline of all types of image in the 1920s."
   ]
  },
  {
   "cell_type": "code",
   "execution_count": 15,
   "metadata": {},
   "outputs": [
    {
     "data": {
      "text/plain": [
       "<AxesSubplot:>"
      ]
     },
     "execution_count": 15,
     "metadata": {},
     "output_type": "execute_result"
    },
    {
     "data": {
      "image/png": "[encoded data removed]",
      "text/plain": [
       "<Figure size 576x396 with 1 Axes>"
      ]
     },
     "metadata": {},
     "output_type": "display_data"
    }
   ],
   "source": [
    "df[['ads_count','total']][df.index<=1920].plot()"
   ]
  },
  {
   "cell_type": "markdown",
   "metadata": {},
   "source": [
    "## What does this tell us? \n",
    "\n",
    "This chart shows us a few different things \n",
    "- the number of images predicted as adverts (and the total of all images) predicted by the Newspaper Navigator \n",
    "\n",
    "There are also quite a few things which this doesn't show\n",
    "- the number of adverts grew over time, up until the 1920s. This growth may be explained by more newspapers being published over time, better classifications of adverts by the newspaper navigator algorithm in later years,or a larger body of digitsed material overall in the LOC collection. \n",
    "\n",
    "### Why the drop?\n",
    "The drop in numbers is mostly explained by the copyright status of newspapers published after this period but could also be explained by the Newspaper Navigator classifier performing worse in later years, particularly since the original training data for Newspaper Navigator was trained on WWI data. "
   ]
  },
  {
   "cell_type": "markdown",
   "metadata": {},
   "source": [
    "# Creating a sample"
   ]
  },
  {
   "cell_type": "markdown",
   "metadata": {},
   "source": [
    "### Sampling"
   ]
  },
  {
   "cell_type": "markdown",
   "metadata": {},
   "source": [
    "# TODO update to use new class method\n",
    "We can use ```sample``` to create samples in a few different ways. Since we're concerned with preparing a sample for annotation we want to limit how much we need to annotate. Based on the visulisations of the growth in the dataset between 1880 and 1900 we want to sample this period. \n",
    "\n",
    "We can use the ```create_sample``` function to create a sample between 1880 and 1900 taking a sample every 5 years. Since our aim is to limit the number of annotation instead of specifcying how much we want to sample from each year we use ```year_sample=False``` to instead for a total sample size ~500. This number isn't precise because the sample size per year is rounded up. \n",
    "\n",
    "This function will return a Pandas Dataframe. "
   ]
  },
  {
   "cell_type": "code",
   "execution_count": 16,
   "metadata": {},
   "outputs": [],
   "source": [
    "sampler = sample.nnSampler()"
   ]
  },
  {
   "cell_type": "code",
   "execution_count": 18,
   "metadata": {},
   "outputs": [
    {
     "data": {
      "application/vnd.jupyter.widget-view+json": {
       "model_id": "2335f2bd65d943ceacc83691faf7720a",
       "version_major": 2,
       "version_minor": 0
      },
      "text/plain": [
       "HBox(children=(FloatProgress(value=0.0, max=9.0), HTML(value='')))"
      ]
     },
     "metadata": {},
     "output_type": "display_data"
    },
    {
     "name": "stdout",
     "output_type": "stream",
     "text": [
      "\n"
     ]
    }
   ],
   "source": [
    "df = sampler.create_sample(sample_size=500, kind='ads', start_year=1860, end_year=1900, step=5, year_sample=False)"
   ]
  },
  {
   "cell_type": "code",
   "execution_count": 20,
   "metadata": {},
   "outputs": [
    {
     "data": {
      "text/html": [
       "<div>\n",
       "<style scoped>\n",
       "    .dataframe tbody tr th:only-of-type {\n",
       "        vertical-align: middle;\n",
       "    }\n",
       "\n",
       "    .dataframe tbody tr th {\n",
       "        vertical-align: top;\n",
       "    }\n",
       "\n",
       "    .dataframe thead th {\n",
       "        text-align: right;\n",
       "    }\n",
       "</style>\n",
       "<table border=\"1\" class=\"dataframe\">\n",
       "  <thead>\n",
       "    <tr style=\"text-align: right;\">\n",
       "      <th></th>\n",
       "      <th>filepath</th>\n",
       "      <th>pub_date</th>\n",
       "      <th>page_seq_num</th>\n",
       "      <th>edition_seq_num</th>\n",
       "      <th>batch</th>\n",
       "      <th>lccn</th>\n",
       "      <th>box</th>\n",
       "      <th>score</th>\n",
       "      <th>ocr</th>\n",
       "      <th>place_of_publication</th>\n",
       "      <th>geographic_coverage</th>\n",
       "      <th>name</th>\n",
       "      <th>publisher</th>\n",
       "      <th>url</th>\n",
       "      <th>page_url</th>\n",
       "    </tr>\n",
       "  </thead>\n",
       "  <tbody>\n",
       "    <tr>\n",
       "      <th>0</th>\n",
       "      <td>iahi_gastly_ver01/data/sn82015737/00279529091/...</td>\n",
       "      <td>1860-03-09</td>\n",
       "      <td>447</td>\n",
       "      <td>1</td>\n",
       "      <td>iahi_gastly_ver01</td>\n",
       "      <td>sn82015737</td>\n",
       "      <td>[0.30762831315880534, 0.049735121606933906, 0....</td>\n",
       "      <td>0.950152</td>\n",
       "      <td>[JTO, TMCE, An, t%E, 3eott, County, Pair, is, ...</td>\n",
       "      <td>Davenport, Iowa</td>\n",
       "      <td>[Iowa--Scott--Davenport]</td>\n",
       "      <td>Daily Democrat and news. [volume]</td>\n",
       "      <td>Maguire, Richardson &amp; Co.</td>\n",
       "      <td>https://news-navigator.labs.loc.gov/data/iahi_...</td>\n",
       "      <td>https://chroniclingamerica.loc.gov/data/batche...</td>\n",
       "    </tr>\n",
       "    <tr>\n",
       "      <th>1</th>\n",
       "      <td>ohi_cobweb_ver04/data/sn85026050/00280775848/1...</td>\n",
       "      <td>1860-08-17</td>\n",
       "      <td>359</td>\n",
       "      <td>1</td>\n",
       "      <td>ohi_cobweb_ver04</td>\n",
       "      <td>sn85026050</td>\n",
       "      <td>[0.5799164973813336, 0.7307444280707744, 0.700...</td>\n",
       "      <td>0.985859</td>\n",
       "      <td>[9, BI., I, .QJtf, A, never, falllu, Antidote,...</td>\n",
       "      <td>Fremont, Sandusky County [Ohio]</td>\n",
       "      <td>[Ohio--Sandusky--Fremont]</td>\n",
       "      <td>Fremont journal. [volume]</td>\n",
       "      <td>I.W. Booth</td>\n",
       "      <td>https://news-navigator.labs.loc.gov/data/ohi_c...</td>\n",
       "      <td>https://chroniclingamerica.loc.gov/data/batche...</td>\n",
       "    </tr>\n",
       "    <tr>\n",
       "      <th>2</th>\n",
       "      <td>curiv_jojoba_ver01/data/sn84038814/00279557207...</td>\n",
       "      <td>1860-11-22</td>\n",
       "      <td>498</td>\n",
       "      <td>1</td>\n",
       "      <td>curiv_jojoba_ver01</td>\n",
       "      <td>sn84038814</td>\n",
       "      <td>[0.5793982023445715, 0.43399254432091344, 0.70...</td>\n",
       "      <td>0.986739</td>\n",
       "      <td>[]</td>\n",
       "      <td>Marysville, Calif.</td>\n",
       "      <td>[California--Yuba--Marysville]</td>\n",
       "      <td>Daily national Democrat. [volume]</td>\n",
       "      <td>A.S. Randall &amp; Co.</td>\n",
       "      <td>https://news-navigator.labs.loc.gov/data/curiv...</td>\n",
       "      <td>https://chroniclingamerica.loc.gov/data/batche...</td>\n",
       "    </tr>\n",
       "    <tr>\n",
       "      <th>3</th>\n",
       "      <td>hihouml_lilac_ver02/data/sn82015408/0021247138...</td>\n",
       "      <td>1860-03-17</td>\n",
       "      <td>833</td>\n",
       "      <td>1</td>\n",
       "      <td>hihouml_lilac_ver02</td>\n",
       "      <td>sn82015408</td>\n",
       "      <td>[0.5183942753296475, 0.5235361735026042, 0.674...</td>\n",
       "      <td>0.905783</td>\n",
       "      <td>[C., H., L.EWEUS., NOTICE., Competition, the, ...</td>\n",
       "      <td>Honolulu [Oahu], Hawaii</td>\n",
       "      <td>[Hawaii--Honolulu--Honolulu]</td>\n",
       "      <td>Polynesian. [volume]</td>\n",
       "      <td>[publisher not identified]</td>\n",
       "      <td>https://news-navigator.labs.loc.gov/data/hihou...</td>\n",
       "      <td>https://chroniclingamerica.loc.gov/data/batche...</td>\n",
       "    </tr>\n",
       "    <tr>\n",
       "      <th>4</th>\n",
       "      <td>curiv_jojoba_ver01/data/sn84038814/00279557190...</td>\n",
       "      <td>1860-02-21</td>\n",
       "      <td>816</td>\n",
       "      <td>1</td>\n",
       "      <td>curiv_jojoba_ver01</td>\n",
       "      <td>sn84038814</td>\n",
       "      <td>[0.598211174337273, 0.0393043301089006, 0.7273...</td>\n",
       "      <td>0.918803</td>\n",
       "      <td>[]</td>\n",
       "      <td>Marysville, Calif.</td>\n",
       "      <td>[California--Yuba--Marysville]</td>\n",
       "      <td>Daily national Democrat. [volume]</td>\n",
       "      <td>A.S. Randall &amp; Co.</td>\n",
       "      <td>https://news-navigator.labs.loc.gov/data/curiv...</td>\n",
       "      <td>https://chroniclingamerica.loc.gov/data/batche...</td>\n",
       "    </tr>\n",
       "    <tr>\n",
       "      <th>5</th>\n",
       "      <td>wvu_austria_ver01/data/sn84026845/00202190650/...</td>\n",
       "      <td>1860-03-22</td>\n",
       "      <td>277</td>\n",
       "      <td>1</td>\n",
       "      <td>wvu_austria_ver01</td>\n",
       "      <td>sn84026845</td>\n",
       "      <td>[0.2810836642761977, 0.021020836717500463, 0.5...</td>\n",
       "      <td>0.960305</td>\n",
       "      <td>[B., A., Fahnestock, &amp;, Co's., PURE, WHITE, LE...</td>\n",
       "      <td>Wheeling, Va. [W. Va.]</td>\n",
       "      <td>[West Virginia--Ohio--Wheeling]</td>\n",
       "      <td>Daily intelligencer. [volume]</td>\n",
       "      <td>Campbell &amp; M'Dermot</td>\n",
       "      <td>https://news-navigator.labs.loc.gov/data/wvu_a...</td>\n",
       "      <td>https://chroniclingamerica.loc.gov/data/batche...</td>\n",
       "    </tr>\n",
       "    <tr>\n",
       "      <th>6</th>\n",
       "      <td>tu_furry_ver01/data/sn83045628/00200293587/186...</td>\n",
       "      <td>1860-04-21</td>\n",
       "      <td>69</td>\n",
       "      <td>1</td>\n",
       "      <td>tu_furry_ver01</td>\n",
       "      <td>sn83045628</td>\n",
       "      <td>[0.2715182629933798, 0.5381755536703364, 0.388...</td>\n",
       "      <td>0.943606</td>\n",
       "      <td>[IL'J'S, ami, (, 'ATS,, BONNETS, till, OOODS,,...</td>\n",
       "      <td>Knoxville, Tenn.</td>\n",
       "      <td>[Tennessee--Knox--Knoxville]</td>\n",
       "      <td>Brownlow's Knoxville Whig. [volume]</td>\n",
       "      <td>E.B.P. Kinsloe</td>\n",
       "      <td>https://news-navigator.labs.loc.gov/data/tu_fu...</td>\n",
       "      <td>https://chroniclingamerica.loc.gov/data/batche...</td>\n",
       "    </tr>\n",
       "    <tr>\n",
       "      <th>7</th>\n",
       "      <td>iahi_bellsprout_ver01/data/sn84027352/00279528...</td>\n",
       "      <td>1860-02-02</td>\n",
       "      <td>444</td>\n",
       "      <td>1</td>\n",
       "      <td>iahi_bellsprout_ver01</td>\n",
       "      <td>sn84027352</td>\n",
       "      <td>[0.5682708976804748, 0.5028207913385059, 0.703...</td>\n",
       "      <td>0.938462</td>\n",
       "      <td>['Vimilli, 1, i, (FALL, &amp;, WINTER, Mammoth, Cl...</td>\n",
       "      <td>Ottumwa, Iowa</td>\n",
       "      <td>[Iowa--Wapello--Ottumwa]</td>\n",
       "      <td>The weekly Ottumwa courier. [volume]</td>\n",
       "      <td>J.W. &amp; G.P. Norris</td>\n",
       "      <td>https://news-navigator.labs.loc.gov/data/iahi_...</td>\n",
       "      <td>https://chroniclingamerica.loc.gov/data/batche...</td>\n",
       "    </tr>\n",
       "    <tr>\n",
       "      <th>8</th>\n",
       "      <td>curiv_jojoba_ver01/data/sn84038814/00279557207...</td>\n",
       "      <td>1860-07-26</td>\n",
       "      <td>87</td>\n",
       "      <td>1</td>\n",
       "      <td>curiv_jojoba_ver01</td>\n",
       "      <td>sn84038814</td>\n",
       "      <td>[0.6939450665470904, 0.29700505687745826, 0.81...</td>\n",
       "      <td>0.959135</td>\n",
       "      <td>[]</td>\n",
       "      <td>Marysville, Calif.</td>\n",
       "      <td>[California--Yuba--Marysville]</td>\n",
       "      <td>Daily national Democrat. [volume]</td>\n",
       "      <td>A.S. Randall &amp; Co.</td>\n",
       "      <td>https://news-navigator.labs.loc.gov/data/curiv...</td>\n",
       "      <td>https://chroniclingamerica.loc.gov/data/batche...</td>\n",
       "    </tr>\n",
       "    <tr>\n",
       "      <th>9</th>\n",
       "      <td>ohi_arnarson_ver01/data/sn83035173/00296027297...</td>\n",
       "      <td>1860-12-12</td>\n",
       "      <td>412</td>\n",
       "      <td>1</td>\n",
       "      <td>ohi_arnarson_ver01</td>\n",
       "      <td>sn83035173</td>\n",
       "      <td>[0.053070784451668726, 0.656615614353266, 0.19...</td>\n",
       "      <td>0.946558</td>\n",
       "      <td>[JVC, nil, whrm, if, mjiv, V.cwxoptw, !, m, JL...</td>\n",
       "      <td>Ashland, Ashland County, Ohio</td>\n",
       "      <td>[Ohio--Ashland--Ashland]</td>\n",
       "      <td>The Ashland union. [volume]</td>\n",
       "      <td>Jno. Sheridan</td>\n",
       "      <td>https://news-navigator.labs.loc.gov/data/ohi_a...</td>\n",
       "      <td>https://chroniclingamerica.loc.gov/data/batche...</td>\n",
       "    </tr>\n",
       "  </tbody>\n",
       "</table>\n",
       "</div>"
      ],
      "text/plain": [
       "                                            filepath    pub_date  \\\n",
       "0  iahi_gastly_ver01/data/sn82015737/00279529091/...  1860-03-09   \n",
       "1  ohi_cobweb_ver04/data/sn85026050/00280775848/1...  1860-08-17   \n",
       "2  curiv_jojoba_ver01/data/sn84038814/00279557207...  1860-11-22   \n",
       "3  hihouml_lilac_ver02/data/sn82015408/0021247138...  1860-03-17   \n",
       "4  curiv_jojoba_ver01/data/sn84038814/00279557190...  1860-02-21   \n",
       "5  wvu_austria_ver01/data/sn84026845/00202190650/...  1860-03-22   \n",
       "6  tu_furry_ver01/data/sn83045628/00200293587/186...  1860-04-21   \n",
       "7  iahi_bellsprout_ver01/data/sn84027352/00279528...  1860-02-02   \n",
       "8  curiv_jojoba_ver01/data/sn84038814/00279557207...  1860-07-26   \n",
       "9  ohi_arnarson_ver01/data/sn83035173/00296027297...  1860-12-12   \n",
       "\n",
       "   page_seq_num edition_seq_num                  batch        lccn  \\\n",
       "0           447               1      iahi_gastly_ver01  sn82015737   \n",
       "1           359               1       ohi_cobweb_ver04  sn85026050   \n",
       "2           498               1     curiv_jojoba_ver01  sn84038814   \n",
       "3           833               1    hihouml_lilac_ver02  sn82015408   \n",
       "4           816               1     curiv_jojoba_ver01  sn84038814   \n",
       "5           277               1      wvu_austria_ver01  sn84026845   \n",
       "6            69               1         tu_furry_ver01  sn83045628   \n",
       "7           444               1  iahi_bellsprout_ver01  sn84027352   \n",
       "8            87               1     curiv_jojoba_ver01  sn84038814   \n",
       "9           412               1     ohi_arnarson_ver01  sn83035173   \n",
       "\n",
       "                                                 box     score  \\\n",
       "0  [0.30762831315880534, 0.049735121606933906, 0....  0.950152   \n",
       "1  [0.5799164973813336, 0.7307444280707744, 0.700...  0.985859   \n",
       "2  [0.5793982023445715, 0.43399254432091344, 0.70...  0.986739   \n",
       "3  [0.5183942753296475, 0.5235361735026042, 0.674...  0.905783   \n",
       "4  [0.598211174337273, 0.0393043301089006, 0.7273...  0.918803   \n",
       "5  [0.2810836642761977, 0.021020836717500463, 0.5...  0.960305   \n",
       "6  [0.2715182629933798, 0.5381755536703364, 0.388...  0.943606   \n",
       "7  [0.5682708976804748, 0.5028207913385059, 0.703...  0.938462   \n",
       "8  [0.6939450665470904, 0.29700505687745826, 0.81...  0.959135   \n",
       "9  [0.053070784451668726, 0.656615614353266, 0.19...  0.946558   \n",
       "\n",
       "                                                 ocr  \\\n",
       "0  [JTO, TMCE, An, t%E, 3eott, County, Pair, is, ...   \n",
       "1  [9, BI., I, .QJtf, A, never, falllu, Antidote,...   \n",
       "2                                                 []   \n",
       "3  [C., H., L.EWEUS., NOTICE., Competition, the, ...   \n",
       "4                                                 []   \n",
       "5  [B., A., Fahnestock, &, Co's., PURE, WHITE, LE...   \n",
       "6  [IL'J'S, ami, (, 'ATS,, BONNETS, till, OOODS,,...   \n",
       "7  ['Vimilli, 1, i, (FALL, &, WINTER, Mammoth, Cl...   \n",
       "8                                                 []   \n",
       "9  [JVC, nil, whrm, if, mjiv, V.cwxoptw, !, m, JL...   \n",
       "\n",
       "              place_of_publication              geographic_coverage  \\\n",
       "0                  Davenport, Iowa         [Iowa--Scott--Davenport]   \n",
       "1  Fremont, Sandusky County [Ohio]        [Ohio--Sandusky--Fremont]   \n",
       "2               Marysville, Calif.   [California--Yuba--Marysville]   \n",
       "3          Honolulu [Oahu], Hawaii     [Hawaii--Honolulu--Honolulu]   \n",
       "4               Marysville, Calif.   [California--Yuba--Marysville]   \n",
       "5           Wheeling, Va. [W. Va.]  [West Virginia--Ohio--Wheeling]   \n",
       "6                 Knoxville, Tenn.     [Tennessee--Knox--Knoxville]   \n",
       "7                    Ottumwa, Iowa         [Iowa--Wapello--Ottumwa]   \n",
       "8               Marysville, Calif.   [California--Yuba--Marysville]   \n",
       "9    Ashland, Ashland County, Ohio         [Ohio--Ashland--Ashland]   \n",
       "\n",
       "                                   name                   publisher  \\\n",
       "0     Daily Democrat and news. [volume]   Maguire, Richardson & Co.   \n",
       "1             Fremont journal. [volume]                  I.W. Booth   \n",
       "2     Daily national Democrat. [volume]          A.S. Randall & Co.   \n",
       "3                  Polynesian. [volume]  [publisher not identified]   \n",
       "4     Daily national Democrat. [volume]          A.S. Randall & Co.   \n",
       "5         Daily intelligencer. [volume]         Campbell & M'Dermot   \n",
       "6   Brownlow's Knoxville Whig. [volume]              E.B.P. Kinsloe   \n",
       "7  The weekly Ottumwa courier. [volume]          J.W. & G.P. Norris   \n",
       "8     Daily national Democrat. [volume]          A.S. Randall & Co.   \n",
       "9           The Ashland union. [volume]               Jno. Sheridan   \n",
       "\n",
       "                                                 url  \\\n",
       "0  https://news-navigator.labs.loc.gov/data/iahi_...   \n",
       "1  https://news-navigator.labs.loc.gov/data/ohi_c...   \n",
       "2  https://news-navigator.labs.loc.gov/data/curiv...   \n",
       "3  https://news-navigator.labs.loc.gov/data/hihou...   \n",
       "4  https://news-navigator.labs.loc.gov/data/curiv...   \n",
       "5  https://news-navigator.labs.loc.gov/data/wvu_a...   \n",
       "6  https://news-navigator.labs.loc.gov/data/tu_fu...   \n",
       "7  https://news-navigator.labs.loc.gov/data/iahi_...   \n",
       "8  https://news-navigator.labs.loc.gov/data/curiv...   \n",
       "9  https://news-navigator.labs.loc.gov/data/ohi_a...   \n",
       "\n",
       "                                            page_url  \n",
       "0  https://chroniclingamerica.loc.gov/data/batche...  \n",
       "1  https://chroniclingamerica.loc.gov/data/batche...  \n",
       "2  https://chroniclingamerica.loc.gov/data/batche...  \n",
       "3  https://chroniclingamerica.loc.gov/data/batche...  \n",
       "4  https://chroniclingamerica.loc.gov/data/batche...  \n",
       "5  https://chroniclingamerica.loc.gov/data/batche...  \n",
       "6  https://chroniclingamerica.loc.gov/data/batche...  \n",
       "7  https://chroniclingamerica.loc.gov/data/batche...  \n",
       "8  https://chroniclingamerica.loc.gov/data/batche...  \n",
       "9  https://chroniclingamerica.loc.gov/data/batche...  "
      ]
     },
     "execution_count": 20,
     "metadata": {},
     "output_type": "execute_result"
    }
   ],
   "source": [
    "df.head(10)"
   ]
  },
  {
   "cell_type": "markdown",
   "metadata": {},
   "source": [
    "## Save the output.\n",
    "\n",
    "Let's make a directory to save all of the outsputs of this dataset. "
   ]
  },
  {
   "cell_type": "code",
   "execution_count": 22,
   "metadata": {},
   "outputs": [],
   "source": [
    "Path('ph/ads').mkdir(parents=True)"
   ]
  },
  {
   "cell_type": "code",
   "execution_count": 23,
   "metadata": {},
   "outputs": [],
   "source": [
    "sampler.sample.to_csv('ph/ads/sample.csv')"
   ]
  },
  {
   "cell_type": "markdown",
   "metadata": {},
   "source": [
    "Let's check the number per year:"
   ]
  },
  {
   "cell_type": "code",
   "execution_count": 24,
   "metadata": {},
   "outputs": [
    {
     "data": {
      "text/plain": [
       "1885    61\n",
       "1880    61\n",
       "1870    61\n",
       "1890    61\n",
       "1895    61\n",
       "1860    61\n",
       "1875    61\n",
       "1900    61\n",
       "1865    61\n",
       "Name: pub_date, dtype: int64"
      ]
     },
     "execution_count": 24,
     "metadata": {},
     "output_type": "execute_result"
    }
   ],
   "source": [
    "df['pub_date'].map(lambda x: x.split('-')[0]).value_counts()"
   ]
  },
  {
   "cell_type": "markdown",
   "metadata": {},
   "source": [
    "You can see that the function used to create a sample created even samples for each year. The intution here is that since we want a classifier that performs equally well on each year we want to make sure that the data is the same for each year. This could be the wrong approach, it might be better to recreate a dataset which is proprtionally sampled for each year. "
   ]
  },
  {
   "cell_type": "markdown",
   "metadata": {},
   "source": [
    "### Other info in the dataset\n",
    "Let's take a look at a few other bits of the data "
   ]
  },
  {
   "cell_type": "code",
   "execution_count": 25,
   "metadata": {},
   "outputs": [
    {
     "data": {
      "text/plain": [
       "[publisher not identified]     17\n",
       "Bingham & Doughty               9\n",
       "Douglass & Conner               8\n",
       "N.A. Foster & Co.               8\n",
       "New York Tribune                8\n",
       "S.T. Seawell & W.N. Stanton     7\n",
       "J.B. Howell                     7\n",
       "Maguire, Richardson & Co.       7\n",
       "Post-Intelligencer Pub. Co.     6\n",
       "Edward Rosewater                6\n",
       "John H. Oberly & Co.            6\n",
       "Edgar Snowden                   6\n",
       "S. Medary                       6\n",
       "Smith, Camp & Co.               5\n",
       "W. & G. Dunbar, Jr.             5\n",
       "Name: publisher, dtype: int64"
      ]
     },
     "execution_count": 25,
     "metadata": {},
     "output_type": "execute_result"
    }
   ],
   "source": [
    "df['publisher'].value_counts().head(15)"
   ]
  },
  {
   "cell_type": "code",
   "execution_count": 26,
   "metadata": {},
   "outputs": [
    {
     "data": {
      "text/plain": [
       "<AxesSubplot:title={'center':'Average number of photos per month'}>"
      ]
     },
     "execution_count": 26,
     "metadata": {},
     "output_type": "execute_result"
    },
    {
     "data": {
      "image/png": "[encoded data removed]",
      "text/plain": [
       "<Figure size 576x396 with 1 Axes>"
      ]
     },
     "metadata": {},
     "output_type": "display_data"
    }
   ],
   "source": [
    "df['pub_date'].map(lambda x: x.split('-')[1]).value_counts(normalize=True).sort_index().plot(kind='bar', title='Average number of photos per month')"
   ]
  },
  {
   "cell_type": "code",
   "execution_count": 27,
   "metadata": {},
   "outputs": [],
   "source": [
    "df['month'] = df['pub_date'].map(lambda x: x.split('-')[1])"
   ]
  },
  {
   "cell_type": "code",
   "execution_count": 28,
   "metadata": {},
   "outputs": [],
   "source": [
    "df['year'] = df['pub_date'].map(lambda x:x.split('-')[0])"
   ]
  },
  {
   "cell_type": "code",
   "execution_count": 29,
   "metadata": {},
   "outputs": [],
   "source": [
    "grouped = df.groupby(['year'])['month'].value_counts(normalize=True)"
   ]
  },
  {
   "cell_type": "code",
   "execution_count": 30,
   "metadata": {},
   "outputs": [
    {
     "data": {
      "text/plain": [
       "year  month\n",
       "1860  05       0.163934\n",
       "      04       0.131148\n",
       "      07       0.114754\n",
       "      02       0.098361\n",
       "      08       0.098361\n",
       "                 ...   \n",
       "1900  10       0.081967\n",
       "      01       0.065574\n",
       "      04       0.049180\n",
       "      07       0.049180\n",
       "      03       0.032787\n",
       "Name: month, Length: 107, dtype: float64"
      ]
     },
     "execution_count": 30,
     "metadata": {},
     "output_type": "execute_result"
    }
   ],
   "source": [
    "grouped"
   ]
  },
  {
   "cell_type": "markdown",
   "metadata": {},
   "source": [
    "# Download sample \n",
    "\n",
    "To download the actual images we use `download_sample`, passing in a folder to save the output images. In this case since we already have a sample dataframe this is passed in."
   ]
  },
  {
   "cell_type": "code",
   "execution_count": 32,
   "metadata": {},
   "outputs": [
    {
     "data": {
      "application/vnd.jupyter.widget-view+json": {
       "model_id": "d11bc53181714978869302a9cd2a4ea0",
       "version_major": 2,
       "version_minor": 0
      },
      "text/plain": [
       "HBox(children=(FloatProgress(value=0.0, max=549.0), HTML(value='')))"
      ]
     },
     "metadata": {},
     "output_type": "display_data"
    },
    {
     "name": "stdout",
     "output_type": "stream",
     "text": [
      "\n"
     ]
    }
   ],
   "source": [
    "sampler.download_sample('ph/ads/images',pct=80)"
   ]
  },
  {
   "cell_type": "markdown",
   "metadata": {},
   "source": [
    "# Setup Label Studio\n",
    "\n",
    "Label studio can be used to create annotation tasks in a few different ways. In this case it is done via the CLI. We can navigate to the images folder and run `label-studio` init to setup the annotation task. The other flags are hopefully fairly clear. "
   ]
  },
  {
   "cell_type": "code",
   "execution_count": 10,
   "metadata": {},
   "outputs": [
    {
     "data": {
      "text/plain": [
       "0      https://chroniclingamerica.loc.gov/iiif/2/iahi...\n",
       "1      https://chroniclingamerica.loc.gov/iiif/2/ohi_...\n",
       "2      https://chroniclingamerica.loc.gov/iiif/2/curi...\n",
       "3      https://chroniclingamerica.loc.gov/iiif/2/hiho...\n",
       "4      https://chroniclingamerica.loc.gov/iiif/2/curi...\n",
       "                             ...                        \n",
       "544    https://chroniclingamerica.loc.gov/iiif/2/wa_i...\n",
       "545    https://chroniclingamerica.loc.gov/iiif/2/nbu_...\n",
       "546    https://chroniclingamerica.loc.gov/iiif/2/kyu_...\n",
       "547    https://chroniclingamerica.loc.gov/iiif/2/ct_h...\n",
       "548    https://chroniclingamerica.loc.gov/iiif/2/nbu_...\n",
       "Name: iiif_url, Length: 549, dtype: object"
      ]
     },
     "execution_count": 10,
     "metadata": {},
     "output_type": "execute_result"
    }
   ],
   "source": [
    "import pandas as pd\n",
    "df = pd.read_csv('ph/ads/images/2020_08_10_19_31_549_sample.csv',index_col=0)\n",
    "df['iiif_url']"
   ]
  },
  {
   "cell_type": "markdown",
   "metadata": {},
   "source": [
    "```bash\n",
    "cd /ph/ads/\n",
    "```"
   ]
  },
  {
   "cell_type": "markdown",
   "metadata": {},
   "source": [
    "```bash\n",
    "label-studio init ad_annotations --template=image_classification\n",
    "```"
   ]
  },
  {
   "cell_type": "markdown",
   "metadata": {},
   "source": [
    "```bash\n",
    "label-studio start ./ad_annotations\n",
    "```"
   ]
  },
  {
   "cell_type": "markdown",
   "metadata": {},
   "source": [
    "# Define the config for the annotation task\n",
    "\n",
    "Once you are in the label studio interface you will be prompted to define an annotation task, this can be done using an XML like template. For this task the following was used. "
   ]
  },
  {
   "cell_type": "markdown",
   "metadata": {},
   "source": [
    "```html\n",
    "<View>\n",
    "  <Image name=\"image\" value=\"$image\"></Image>\n",
    "  <Choices name=\"choice\" toName=\"image\" showInLine=\"true\">\n",
    "    <Choice value=\"text-only\" background=\"blue\"></Choice>\n",
    "    <Choice value=\"illustrations\" background=\"green\"></Choice>\n",
    "  </Choices>\n",
    "</View>\n",
    "```"
   ]
  },
  {
   "cell_type": "markdown",
   "metadata": {},
   "source": [
    "# Import images"
   ]
  },
  {
   "cell_type": "markdown",
   "metadata": {},
   "source": [
    "## Annotate\n",
    "Once you have loaded your images and defined the labels you can start annotating. "
   ]
  },
  {
   "cell_type": "markdown",
   "metadata": {},
   "source": [
    "# Process annotations\n",
    "Once you have finished annotating, or are too bored to carry on you can use functionality from `annotate` to help process the annotations"
   ]
  },
  {
   "cell_type": "code",
   "execution_count": 4,
   "metadata": {},
   "outputs": [],
   "source": [
    "from nnAnnotator import annotate"
   ]
  },
  {
   "cell_type": "markdown",
   "metadata": {},
   "source": [
    "We can check what kind of information is stored with our annotations. These consist of various configuration files, and the 'completions' which are single json files which store completed annotations"
   ]
  },
  {
   "cell_type": "code",
   "execution_count": 3,
   "metadata": {},
   "outputs": [
    {
     "name": "stdout",
     "output_type": "stream",
     "text": [
      "\u001b[1m\u001b[36mcompletions\u001b[m\u001b[m config.json \u001b[31mconfig.xml\u001b[m\u001b[m  tasks.json\n"
     ]
    }
   ],
   "source": [
    "!ls ph/ads/ad_annotations"
   ]
  },
  {
   "cell_type": "code",
   "execution_count": 4,
   "metadata": {},
   "outputs": [
    {
     "name": "stdout",
     "output_type": "stream",
     "text": [
      "completions\n",
      "config.json\n",
      "config.xml\n",
      "tasks.json\n"
     ]
    }
   ],
   "source": [
    "!ls ph/ads/ad_annotations | head -n 5"
   ]
  },
  {
   "cell_type": "code",
   "execution_count": 5,
   "metadata": {},
   "outputs": [],
   "source": [
    "annotations = annotate.nnAnnotations.from_completions('ph/ads/ad_annotations', 'classification')"
   ]
  },
  {
   "cell_type": "markdown",
   "metadata": {},
   "source": [
    "`process_completions` can be used to put these completed annotations into a dataframe. "
   ]
  },
  {
   "cell_type": "code",
   "execution_count": 21,
   "metadata": {},
   "outputs": [
    {
     "data": {
      "text/html": [
       "<div>\n",
       "<style scoped>\n",
       "    .dataframe tbody tr th:only-of-type {\n",
       "        vertical-align: middle;\n",
       "    }\n",
       "\n",
       "    .dataframe tbody tr th {\n",
       "        vertical-align: top;\n",
       "    }\n",
       "\n",
       "    .dataframe thead th {\n",
       "        text-align: right;\n",
       "    }\n",
       "</style>\n",
       "<table border=\"1\" class=\"dataframe\">\n",
       "  <thead>\n",
       "    <tr style=\"text-align: right;\">\n",
       "      <th></th>\n",
       "      <th>created_at</th>\n",
       "      <th>id</th>\n",
       "      <th>lead_time</th>\n",
       "      <th>result</th>\n",
       "      <th>data</th>\n",
       "    </tr>\n",
       "  </thead>\n",
       "  <tbody>\n",
       "    <tr>\n",
       "      <th>0</th>\n",
       "      <td>1602236711</td>\n",
       "      <td>379001</td>\n",
       "      <td>1.248</td>\n",
       "      <td>text-only</td>\n",
       "      <td>pst_fenske_ver02_data_sn84026497_00280776129_1...</td>\n",
       "    </tr>\n",
       "    <tr>\n",
       "      <th>1</th>\n",
       "      <td>1602237071</td>\n",
       "      <td>396001</td>\n",
       "      <td>0.870</td>\n",
       "      <td>text-only</td>\n",
       "      <td>scu_carlacox_ver01_data_sn84026965_00294551268...</td>\n",
       "    </tr>\n",
       "    <tr>\n",
       "      <th>2</th>\n",
       "      <td>1602237268</td>\n",
       "      <td>115001</td>\n",
       "      <td>1.949</td>\n",
       "      <td>text-only</td>\n",
       "      <td>in_england_ver02_data_sn82015464_00202191435_1...</td>\n",
       "    </tr>\n",
       "    <tr>\n",
       "      <th>3</th>\n",
       "      <td>1602236719</td>\n",
       "      <td>545001</td>\n",
       "      <td>0.932</td>\n",
       "      <td>text-only</td>\n",
       "      <td>wvu_isner_ver01_data_sn86092518_0041418683A_18...</td>\n",
       "    </tr>\n",
       "    <tr>\n",
       "      <th>4</th>\n",
       "      <td>1602237545</td>\n",
       "      <td>400001</td>\n",
       "      <td>0.775</td>\n",
       "      <td>text-only</td>\n",
       "      <td>scu_drinksmall_ver01_data_sn93067705_002372884...</td>\n",
       "    </tr>\n",
       "    <tr>\n",
       "      <th>...</th>\n",
       "      <td>...</td>\n",
       "      <td>...</td>\n",
       "      <td>...</td>\n",
       "      <td>...</td>\n",
       "      <td>...</td>\n",
       "    </tr>\n",
       "    <tr>\n",
       "      <th>547</th>\n",
       "      <td>1602237030</td>\n",
       "      <td>244001</td>\n",
       "      <td>1.069</td>\n",
       "      <td>illustrations</td>\n",
       "      <td>mnhi_edina_ver01_data_sn90059522_0017503349A_1...</td>\n",
       "    </tr>\n",
       "    <tr>\n",
       "      <th>548</th>\n",
       "      <td>1602237445</td>\n",
       "      <td>497001</td>\n",
       "      <td>0.785</td>\n",
       "      <td>text-only</td>\n",
       "      <td>vtu_burlington_ver01_data_sn86072143_002807770...</td>\n",
       "    </tr>\n",
       "    <tr>\n",
       "      <th>549</th>\n",
       "      <td>1602236821</td>\n",
       "      <td>35001</td>\n",
       "      <td>0.780</td>\n",
       "      <td>text-only</td>\n",
       "      <td>deu_arden_ver01_data_sn85042354_00383343367_18...</td>\n",
       "    </tr>\n",
       "    <tr>\n",
       "      <th>550</th>\n",
       "      <td>1602237006</td>\n",
       "      <td>182001</td>\n",
       "      <td>1.161</td>\n",
       "      <td>illustrations</td>\n",
       "      <td>kyu_dracula_ver01_data_sn85052141_0020653364A_...</td>\n",
       "    </tr>\n",
       "    <tr>\n",
       "      <th>551</th>\n",
       "      <td>1602237571</td>\n",
       "      <td>478001</td>\n",
       "      <td>2.468</td>\n",
       "      <td>illustrations</td>\n",
       "      <td>uuml_hornacek_ver01_data_sn83045555_206539732_...</td>\n",
       "    </tr>\n",
       "  </tbody>\n",
       "</table>\n",
       "<p>549 rows × 5 columns</p>\n",
       "</div>"
      ],
      "text/plain": [
       "     created_at      id  lead_time         result  \\\n",
       "0    1602236711  379001      1.248      text-only   \n",
       "1    1602237071  396001      0.870      text-only   \n",
       "2    1602237268  115001      1.949      text-only   \n",
       "3    1602236719  545001      0.932      text-only   \n",
       "4    1602237545  400001      0.775      text-only   \n",
       "..          ...     ...        ...            ...   \n",
       "547  1602237030  244001      1.069  illustrations   \n",
       "548  1602237445  497001      0.785      text-only   \n",
       "549  1602236821   35001      0.780      text-only   \n",
       "550  1602237006  182001      1.161  illustrations   \n",
       "551  1602237571  478001      2.468  illustrations   \n",
       "\n",
       "                                                  data  \n",
       "0    pst_fenske_ver02_data_sn84026497_00280776129_1...  \n",
       "1    scu_carlacox_ver01_data_sn84026965_00294551268...  \n",
       "2    in_england_ver02_data_sn82015464_00202191435_1...  \n",
       "3    wvu_isner_ver01_data_sn86092518_0041418683A_18...  \n",
       "4    scu_drinksmall_ver01_data_sn93067705_002372884...  \n",
       "..                                                 ...  \n",
       "547  mnhi_edina_ver01_data_sn90059522_0017503349A_1...  \n",
       "548  vtu_burlington_ver01_data_sn86072143_002807770...  \n",
       "549  deu_arden_ver01_data_sn85042354_00383343367_18...  \n",
       "550  kyu_dracula_ver01_data_sn85052141_0020653364A_...  \n",
       "551  uuml_hornacek_ver01_data_sn83045555_206539732_...  \n",
       "\n",
       "[549 rows x 5 columns]"
      ]
     },
     "execution_count": 21,
     "metadata": {},
     "output_type": "execute_result"
    }
   ],
   "source": [
    "annotations.annotation_df"
   ]
  },
  {
   "cell_type": "markdown",
   "metadata": {},
   "source": [
    "Next we can export these annotations to a csv file. "
   ]
  },
  {
   "cell_type": "code",
   "execution_count": 22,
   "metadata": {},
   "outputs": [],
   "source": [
    "annotations.export_annotations('ph/ads/ads.csv')"
   ]
  },
  {
   "cell_type": "markdown",
   "metadata": {},
   "source": [
    "Now we have a stripped down version of the dataframe which just contains the file and the labels. "
   ]
  },
  {
   "cell_type": "code",
   "execution_count": 26,
   "metadata": {},
   "outputs": [
    {
     "data": {
      "text/html": [
       "<div>\n",
       "<style scoped>\n",
       "    .dataframe tbody tr th:only-of-type {\n",
       "        vertical-align: middle;\n",
       "    }\n",
       "\n",
       "    .dataframe tbody tr th {\n",
       "        vertical-align: top;\n",
       "    }\n",
       "\n",
       "    .dataframe thead th {\n",
       "        text-align: right;\n",
       "    }\n",
       "</style>\n",
       "<table border=\"1\" class=\"dataframe\">\n",
       "  <thead>\n",
       "    <tr style=\"text-align: right;\">\n",
       "      <th></th>\n",
       "      <th>file</th>\n",
       "      <th>label</th>\n",
       "    </tr>\n",
       "  </thead>\n",
       "  <tbody>\n",
       "    <tr>\n",
       "      <th>0</th>\n",
       "      <td>pst_fenske_ver02_data_sn84026497_00280776129_1...</td>\n",
       "      <td>text-only</td>\n",
       "    </tr>\n",
       "    <tr>\n",
       "      <th>1</th>\n",
       "      <td>scu_carlacox_ver01_data_sn84026965_00294551268...</td>\n",
       "      <td>text-only</td>\n",
       "    </tr>\n",
       "    <tr>\n",
       "      <th>2</th>\n",
       "      <td>in_england_ver02_data_sn82015464_00202191435_1...</td>\n",
       "      <td>text-only</td>\n",
       "    </tr>\n",
       "    <tr>\n",
       "      <th>3</th>\n",
       "      <td>wvu_isner_ver01_data_sn86092518_0041418683A_18...</td>\n",
       "      <td>text-only</td>\n",
       "    </tr>\n",
       "  </tbody>\n",
       "</table>\n",
       "</div>"
      ],
      "text/plain": [
       "                                                file      label\n",
       "0  pst_fenske_ver02_data_sn84026497_00280776129_1...  text-only\n",
       "1  scu_carlacox_ver01_data_sn84026965_00294551268...  text-only\n",
       "2  in_england_ver02_data_sn82015464_00202191435_1...  text-only\n",
       "3  wvu_isner_ver01_data_sn86092518_0041418683A_18...  text-only"
      ]
     },
     "execution_count": 26,
     "metadata": {},
     "output_type": "execute_result"
    }
   ],
   "source": [
    "df = pd.read_csv('ph/ads/ads.csv')\n",
    "df.head(4)"
   ]
  },
  {
   "cell_type": "markdown",
   "metadata": {},
   "source": [
    "### Upsample minority classes\n",
    "\n",
    "We can see how our labels are distributed using the pandas `value_counts` method. "
   ]
  },
  {
   "cell_type": "code",
   "execution_count": 33,
   "metadata": {},
   "outputs": [
    {
     "data": {
      "text/plain": [
       "text-only        0.684882\n",
       "illustrations    0.315118\n",
       "Name: label, dtype: float64"
      ]
     },
     "execution_count": 33,
     "metadata": {},
     "output_type": "execute_result"
    }
   ],
   "source": [
    "df['label'].value_counts(normalize=True)"
   ]
  },
  {
   "cell_type": "markdown",
   "metadata": {},
   "source": [
    "We can see our classes are imbalanced here. Normally, it would be better to maintain the same balance of lablels. Because this dataset will be used for a tutorial I also creat a balanced version of the dataset by upsampling the data. "
   ]
  },
  {
   "cell_type": "code",
   "execution_count": 42,
   "metadata": {},
   "outputs": [],
   "source": [
    "df_majority = df[df.label=='text-only']\n",
    "df_minority = df[df.label=='illustrations']"
   ]
  },
  {
   "cell_type": "code",
   "execution_count": 43,
   "metadata": {},
   "outputs": [
    {
     "data": {
      "text/plain": [
       "(376, 173)"
      ]
     },
     "execution_count": 43,
     "metadata": {},
     "output_type": "execute_result"
    }
   ],
   "source": [
    "len(df_majority), len(df_minority)"
   ]
  },
  {
   "cell_type": "code",
   "execution_count": 44,
   "metadata": {},
   "outputs": [],
   "source": [
    "from sklearn.utils import resample\n",
    "# Upsample minority class\n",
    "df_minority_upsampled = resample(df_minority, \n",
    "                                 replace=True,     # sample with replacement\n",
    "                                 n_samples=len(df_majority),  # to match majority class\n",
    "                                 random_state=42) # reproducible results\n",
    "# Combine majority class with upsampled minority class\n",
    "df_upsampled = pd.concat([df_majority, df_minority_upsampled])"
   ]
  },
  {
   "cell_type": "code",
   "execution_count": 45,
   "metadata": {},
   "outputs": [
    {
     "data": {
      "text/plain": [
       "text-only        376\n",
       "illustrations    376\n",
       "Name: label, dtype: int64"
      ]
     },
     "execution_count": 45,
     "metadata": {},
     "output_type": "execute_result"
    }
   ],
   "source": [
    "df_upsampled['label'].value_counts()"
   ]
  },
  {
   "cell_type": "code",
   "execution_count": 46,
   "metadata": {},
   "outputs": [],
   "source": [
    "df_upsampled.to_csv('ph/ads/ads_upsampled.csv')"
   ]
  },
  {
   "cell_type": "code",
   "execution_count": 11,
   "metadata": {},
   "outputs": [],
   "source": [
    "sample_df = pd.read_csv('ph/ads/images/2020_08_10_19_31_549_sample.csv', index_col=0)"
   ]
  },
  {
   "cell_type": "code",
   "execution_count": 12,
   "metadata": {},
   "outputs": [],
   "source": [
    "annotations.merge_sample(sample_df)"
   ]
  },
  {
   "cell_type": "code",
   "execution_count": 14,
   "metadata": {},
   "outputs": [],
   "source": [
    "annotations.merged_df.to_csv('ph/ads/annotated_sample.csv')"
   ]
  },
  {
   "cell_type": "markdown",
   "metadata": {},
   "source": [
    "# Uploading to Zenodo \n",
    "Now we have processed the annotations we will upload them to Zenodo. We can do this using the zenodo api. To use this API you will need to create an access token. You can find documentation for the API on the [developer section](https://developers.zenodo.org/) of the Zenodo website. \n",
    "\n",
    "dotenv is used to load the access token from an `.env` file"
   ]
  },
  {
   "cell_type": "code",
   "execution_count": 15,
   "metadata": {},
   "outputs": [
    {
     "data": {
      "text/plain": [
       "True"
      ]
     },
     "execution_count": 15,
     "metadata": {},
     "output_type": "execute_result"
    }
   ],
   "source": [
    "from dotenv import load_dotenv\n",
    "import os\n",
    "load_dotenv()"
   ]
  },
  {
   "cell_type": "code",
   "execution_count": 16,
   "metadata": {},
   "outputs": [],
   "source": [
    "ACCESS_TOKEN = os.getenv(\"ACCESS_TOKEN\")"
   ]
  },
  {
   "cell_type": "markdown",
   "metadata": {},
   "source": [
    "We'll use requests to upload the data, and tqdm to get a progress bar for later. "
   ]
  },
  {
   "cell_type": "code",
   "execution_count": 17,
   "metadata": {},
   "outputs": [],
   "source": [
    "import requests \n",
    "from tqdm.notebook import tqdm"
   ]
  },
  {
   "cell_type": "markdown",
   "metadata": {},
   "source": [
    "The next steps are \\ # TODO finalize outline "
   ]
  },
  {
   "cell_type": "code",
   "execution_count": 18,
   "metadata": {},
   "outputs": [],
   "source": [
    "r = requests.get('https://zenodo.org/api/deposit/depositions',params={'access_token': ACCESS_TOKEN})"
   ]
  },
  {
   "cell_type": "code",
   "execution_count": 19,
   "metadata": {},
   "outputs": [
    {
     "data": {
      "text/plain": [
       "200"
      ]
     },
     "execution_count": 19,
     "metadata": {},
     "output_type": "execute_result"
    }
   ],
   "source": [
    "r.status_code"
   ]
  },
  {
   "cell_type": "code",
   "execution_count": 20,
   "metadata": {},
   "outputs": [
    {
     "data": {
      "text/plain": [
       "201"
      ]
     },
     "execution_count": 20,
     "metadata": {},
     "output_type": "execute_result"
    }
   ],
   "source": [
    "headers = {\"Content-Type\": \"application/json\"}\n",
    "params={'access_token': ACCESS_TOKEN}\n",
    "r = requests.post('https://zenodo.org/api/deposit/depositions',\n",
    "                   params=params,\n",
    "                   json={},\n",
    "                   headers=headers)\n",
    "r.status_code"
   ]
  },
  {
   "cell_type": "code",
   "execution_count": 21,
   "metadata": {},
   "outputs": [
    {
     "data": {
      "text/plain": [
       "{'conceptrecid': '4075210',\n",
       " 'created': '2020-10-09T13:38:48.393742+00:00',\n",
       " 'files': [],\n",
       " 'id': 4075211,\n",
       " 'links': {'bucket': 'https://zenodo.org/api/files/d379d9e9-9e7c-4d9b-8cb0-365677c567ed',\n",
       "  'discard': 'https://zenodo.org/api/deposit/depositions/4075211/actions/discard',\n",
       "  'edit': 'https://zenodo.org/api/deposit/depositions/4075211/actions/edit',\n",
       "  'files': 'https://zenodo.org/api/deposit/depositions/4075211/files',\n",
       "  'html': 'https://zenodo.org/deposit/4075211',\n",
       "  'latest_draft': 'https://zenodo.org/api/deposit/depositions/4075211',\n",
       "  'latest_draft_html': 'https://zenodo.org/deposit/4075211',\n",
       "  'publish': 'https://zenodo.org/api/deposit/depositions/4075211/actions/publish',\n",
       "  'self': 'https://zenodo.org/api/deposit/depositions/4075211'},\n",
       " 'metadata': {'prereserve_doi': {'doi': '10.5281/zenodo.4075211',\n",
       "   'recid': 4075211}},\n",
       " 'modified': '2020-10-09T13:38:48.393755+00:00',\n",
       " 'owner': 32477,\n",
       " 'record_id': 4075211,\n",
       " 'state': 'unsubmitted',\n",
       " 'submitted': False,\n",
       " 'title': ''}"
      ]
     },
     "execution_count": 21,
     "metadata": {},
     "output_type": "execute_result"
    }
   ],
   "source": [
    "r.json()"
   ]
  },
  {
   "cell_type": "code",
   "execution_count": 22,
   "metadata": {},
   "outputs": [],
   "source": [
    "bucket_url = r.json()[\"links\"][\"bucket\"]"
   ]
  },
  {
   "cell_type": "markdown",
   "metadata": {},
   "source": [
    "Once we have a bucket url we are ready to upload our files, in this case we filter out `DS_Store` and upload everything else. "
   ]
  },
  {
   "cell_type": "code",
   "execution_count": 23,
   "metadata": {},
   "outputs": [],
   "source": [
    "import os"
   ]
  },
  {
   "cell_type": "code",
   "execution_count": 24,
   "metadata": {},
   "outputs": [
    {
     "data": {
      "text/plain": [
       "[PosixPath('ph/ads/ad_annotations'), PosixPath('ph/ads/images')]"
      ]
     },
     "execution_count": 24,
     "metadata": {},
     "output_type": "execute_result"
    }
   ],
   "source": [
    "dirs = [x for x in Path('ph/ads').iterdir() if x.is_dir() and not x.name.startswith('.')]\n",
    "dirs"
   ]
  },
  {
   "cell_type": "code",
   "execution_count": 25,
   "metadata": {},
   "outputs": [],
   "source": [
    "!zip -j -r -q ph/ads/images.zip ph/ads/images"
   ]
  },
  {
   "cell_type": "code",
   "execution_count": 26,
   "metadata": {},
   "outputs": [
    {
     "data": {
      "text/plain": [
       "[PosixPath('ph/ads/images.zip'),\n",
       " PosixPath('ph/ads/annotated_sample.csv'),\n",
       " PosixPath('ph/ads/sample.csv'),\n",
       " PosixPath('ph/ads/ads.csv'),\n",
       " PosixPath('ph/ads/ads_upsampled.csv')]"
      ]
     },
     "execution_count": 26,
     "metadata": {},
     "output_type": "execute_result"
    }
   ],
   "source": [
    "files = [f for f in Path('ph/ads').iterdir() if f.is_file() and not f.name.startswith('.')]\n",
    "files"
   ]
  },
  {
   "cell_type": "code",
   "execution_count": 27,
   "metadata": {},
   "outputs": [
    {
     "data": {
      "application/vnd.jupyter.widget-view+json": {
       "model_id": "65991ed752a34d1894c857f5942777d3",
       "version_major": 2,
       "version_minor": 0
      },
      "text/plain": [
       "HBox(children=(FloatProgress(value=0.0, max=5.0), HTML(value='')))"
      ]
     },
     "metadata": {},
     "output_type": "display_data"
    },
    {
     "name": "stdout",
     "output_type": "stream",
     "text": [
      "\n"
     ]
    },
    {
     "data": {
      "text/plain": [
       "{'mimetype': 'text/csv',\n",
       " 'updated': '2020-10-09T13:40:29.224322+00:00',\n",
       " 'links': {'self': 'https://zenodo.org/api/files/d379d9e9-9e7c-4d9b-8cb0-365677c567ed/ph/ads/ads_upsampled.csv',\n",
       "  'version': 'https://zenodo.org/api/files/d379d9e9-9e7c-4d9b-8cb0-365677c567ed/ph/ads/ads_upsampled.csv?versionId=e7313ede-d5ac-4678-86f7-151ecc715073',\n",
       "  'uploads': 'https://zenodo.org/api/files/d379d9e9-9e7c-4d9b-8cb0-365677c567ed/ph/ads/ads_upsampled.csv?uploads'},\n",
       " 'is_head': True,\n",
       " 'created': '2020-10-09T13:40:29.218245+00:00',\n",
       " 'checksum': 'md5:547c8245118bc61f30d318bb9ec9d19d',\n",
       " 'version_id': 'e7313ede-d5ac-4678-86f7-151ecc715073',\n",
       " 'delete_marker': False,\n",
       " 'key': 'ph/ads/ads_upsampled.csv',\n",
       " 'size': 68332}"
      ]
     },
     "execution_count": 27,
     "metadata": {},
     "output_type": "execute_result"
    }
   ],
   "source": [
    "for file in tqdm(files):\n",
    "    with open(file,\"rb\") as fp:\n",
    "        r = requests.put(\n",
    "            \"%s/%s\" % (bucket_url, file),\n",
    "            data=fp,\n",
    "            params=params)\n",
    "r.json()"
   ]
  },
  {
   "cell_type": "markdown",
   "metadata": {},
   "source": [
    "Once this has been done we should make sure we create an additional metadata related to the upload within Zenodo. "
   ]
  }
 ],
 "metadata": {
  "kernelspec": {
   "display_name": "nnAnnotator",
   "language": "python",
   "name": "nnannotator"
  },
  "language_info": {
   "codemirror_mode": {
    "name": "ipython",
    "version": 3
   },
   "file_extension": ".py",
   "mimetype": "text/x-python",
   "name": "python",
   "nbconvert_exporter": "python",
   "pygments_lexer": "ipython3",
   "version": "3.8.5"
  }
 },
 "nbformat": 4,
 "nbformat_minor": 4
}
